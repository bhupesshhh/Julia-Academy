{
 "cells": [
  {
   "cell_type": "markdown",
   "metadata": {},
   "source": [
    "# Multiple Dispatch"
   ]
  },
  {
   "cell_type": "markdown",
   "metadata": {},
   "source": [
    "Multiple Dispatch is a special feature of Julia in which user can use same function with different arguments and Julia can choose whcih method suits to such argument and go on to. Unlike the object oriented programming which only takes a paticular set of arguments and go on with the function. "
   ]
  },
  {
   "cell_type": "markdown",
   "metadata": {},
   "source": [
    "### Multiple Dispatch\n",
    "Makes the program:\n",
    "1. Superfast\n",
    "2. Extensible\n",
    "3. Programmable"
   ]
  },
  {
   "cell_type": "markdown",
   "metadata": {},
   "source": [
    "### For example we'll use (+) operator"
   ]
  },
  {
   "cell_type": "code",
   "execution_count": 116,
   "metadata": {},
   "outputs": [
    {
     "data": {
      "text/html": [
       "# 210 methods for generic function <b>+</b>:<ul><li> +(x::<b>T</b>, y::<b>T</b>)<i> where T<:Union{Int128, Int16, Int32, Int64, Int8, UInt128, UInt16, UInt32, UInt64, UInt8}</i> in Base at <a href=\"https://github.com/JuliaLang/julia/tree/f9720dc2ebd6cd9e3086365f281e62506444ef37/base/int.jl#L87\" target=\"_blank\">int.jl:87</a></li> <li> +(c::<b>Union{UInt16, UInt32, UInt64, UInt8}</b>, x::<b>BigInt</b>) in Base.GMP at <a href=\"https://github.com/JuliaLang/julia/tree/f9720dc2ebd6cd9e3086365f281e62506444ef37/base/gmp.jl#L528\" target=\"_blank\">gmp.jl:528</a></li> <li> +(c::<b>Union{Int16, Int32, Int64, Int8}</b>, x::<b>BigInt</b>) in Base.GMP at <a href=\"https://github.com/JuliaLang/julia/tree/f9720dc2ebd6cd9e3086365f281e62506444ef37/base/gmp.jl#L534\" target=\"_blank\">gmp.jl:534</a></li> <li> +(c::<b>Union{UInt16, UInt32, UInt64, UInt8}</b>, x::<b>BigFloat</b>) in Base.MPFR at <a href=\"https://github.com/JuliaLang/julia/tree/f9720dc2ebd6cd9e3086365f281e62506444ef37/base/mpfr.jl#L376\" target=\"_blank\">mpfr.jl:376</a></li> <li> +(c::<b>Union{Int16, Int32, Int64, Int8}</b>, x::<b>BigFloat</b>) in Base.MPFR at <a href=\"https://github.com/JuliaLang/julia/tree/f9720dc2ebd6cd9e3086365f281e62506444ef37/base/mpfr.jl#L384\" target=\"_blank\">mpfr.jl:384</a></li> <li> +(c::<b>Union{Float16, Float32, Float64}</b>, x::<b>BigFloat</b>) in Base.MPFR at <a href=\"https://github.com/JuliaLang/julia/tree/f9720dc2ebd6cd9e3086365f281e62506444ef37/base/mpfr.jl#L392\" target=\"_blank\">mpfr.jl:392</a></li> <li> +(x::<b>Union{Dates.CompoundPeriod, Dates.Period}</b>) in Dates at <a href=\"file:///buildworker/worker/package_linux64/build/usr/share/julia/stdlib/v1.6/Dates/src/periods.jl\" target=\"_blank\">/opt/julia-1.6.0/share/julia/stdlib/v1.6/Dates/src/periods.jl:362</a></li> <li> +(a::<b>Union{LMS, XYZ}</b>, b::<b>Union{LMS, XYZ}</b>) in Colors at <a href=\"file:///home/buzzzer/.julia/packages/Colors/hpqjg/src/algorithms.jl\" target=\"_blank\">/home/buzzzer/.julia/packages/Colors/hpqjg/src/algorithms.jl:4</a></li> <li> +(index1::<b>CartesianIndex{N}</b>, index2::<b>CartesianIndex{N}</b>)<i> where N</i> in Base.IteratorsMD at <a href=\"https://github.com/JuliaLang/julia/tree/f9720dc2ebd6cd9e3086365f281e62506444ef37/base/multidimensional.jl#L114\" target=\"_blank\">multidimensional.jl:114</a></li> <li> +(a::<b>Tuple{Vararg{Measures.Measure, N}}</b>, b::<b>Tuple{Vararg{Measures.Measure, N}}</b>)<i> where N</i> in Measures at <a href=\"file:///home/buzzzer/.julia/packages/Measures/0Zkai/src/point.jl\" target=\"_blank\">/home/buzzzer/.julia/packages/Measures/0Zkai/src/point.jl:21</a></li> <li> +(a::<b>Tuple{Vararg{Measures.Measure, N}} where N</b>, b::<b>Tuple{Vararg{Measures.Measure, N}} where N</b>) in Measures at <a href=\"file:///home/buzzzer/.julia/packages/Measures/0Zkai/src/point.jl\" target=\"_blank\">/home/buzzzer/.julia/packages/Measures/0Zkai/src/point.jl:15</a></li> <li> +(A::<b>SparseArrays.AbstractSparseMatrix{Tv, Ti} where {Tv, Ti}</b>, B::<b>LinearAlgebra.Hermitian{var\"#s832\", var\"#s831\"} where {var\"#s832\", var\"#s831\"<:(SparseArrays.AbstractSparseMatrix{Tv, Ti} where {Tv, Ti})}</b>) in SparseArrays at <a href=\"file:///buildworker/worker/package_linux64/build/usr/share/julia/stdlib/v1.6/SparseArrays/src/linalg.jl\" target=\"_blank\">/opt/julia-1.6.0/share/julia/stdlib/v1.6/SparseArrays/src/linalg.jl:14</a></li> <li> +(A::<b>SparseArrays.AbstractSparseMatrix{Tv, Ti} where {Tv, Ti}</b>, B::<b>LinearAlgebra.Hermitian</b>) in SparseArrays at <a href=\"file:///buildworker/worker/package_linux64/build/usr/share/julia/stdlib/v1.6/SparseArrays/src/linalg.jl\" target=\"_blank\">/opt/julia-1.6.0/share/julia/stdlib/v1.6/SparseArrays/src/linalg.jl:17</a></li> <li> +(A::<b>SparseArrays.AbstractSparseMatrix{Tv, Ti} where {Tv, Ti}</b>, B::<b>LinearAlgebra.Symmetric{var\"#s832\", var\"#s831\"} where {var\"#s832\", var\"#s831\"<:(SparseArrays.AbstractSparseMatrix{Tv, Ti} where {Tv, Ti})}</b>) in SparseArrays at <a href=\"file:///buildworker/worker/package_linux64/build/usr/share/julia/stdlib/v1.6/SparseArrays/src/linalg.jl\" target=\"_blank\">/opt/julia-1.6.0/share/julia/stdlib/v1.6/SparseArrays/src/linalg.jl:14</a></li> <li> +(A::<b>SparseArrays.AbstractSparseMatrix{Tv, Ti} where {Tv, Ti}</b>, B::<b>LinearAlgebra.Symmetric</b>) in SparseArrays at <a href=\"file:///buildworker/worker/package_linux64/build/usr/share/julia/stdlib/v1.6/SparseArrays/src/linalg.jl\" target=\"_blank\">/opt/julia-1.6.0/share/julia/stdlib/v1.6/SparseArrays/src/linalg.jl:17</a></li> <li> +(Da::<b>LinearAlgebra.Diagonal</b>, Db::<b>LinearAlgebra.Diagonal</b>) in LinearAlgebra at <a href=\"file:///buildworker/worker/package_linux64/build/usr/share/julia/stdlib/v1.6/LinearAlgebra/src/diagonal.jl\" target=\"_blank\">/opt/julia-1.6.0/share/julia/stdlib/v1.6/LinearAlgebra/src/diagonal.jl:156</a></li> <li> +(D::<b>LinearAlgebra.Diagonal</b>, S::<b>LinearAlgebra.Symmetric</b>) in LinearAlgebra at <a href=\"file:///buildworker/worker/package_linux64/build/usr/share/julia/stdlib/v1.6/LinearAlgebra/src/diagonal.jl\" target=\"_blank\">/opt/julia-1.6.0/share/julia/stdlib/v1.6/LinearAlgebra/src/diagonal.jl:160</a></li> <li> +(D::<b>LinearAlgebra.Diagonal{var\"#s832\", V} where {var\"#s832\"<:Real, V<:AbstractVector{var\"#s832\"}}</b>, H::<b>LinearAlgebra.Hermitian</b>) in LinearAlgebra at <a href=\"file:///buildworker/worker/package_linux64/build/usr/share/julia/stdlib/v1.6/LinearAlgebra/src/diagonal.jl\" target=\"_blank\">/opt/julia-1.6.0/share/julia/stdlib/v1.6/LinearAlgebra/src/diagonal.jl:166</a></li> <li> +(A::<b>LinearAlgebra.Diagonal</b>, B::<b>LinearAlgebra.Bidiagonal</b>) in LinearAlgebra at <a href=\"file:///buildworker/worker/package_linux64/build/usr/share/julia/stdlib/v1.6/LinearAlgebra/src/special.jl\" target=\"_blank\">/opt/julia-1.6.0/share/julia/stdlib/v1.6/LinearAlgebra/src/special.jl:125</a></li> <li> +(A::<b>LinearAlgebra.Diagonal</b>, B::<b>LinearAlgebra.SymTridiagonal</b>) in LinearAlgebra at <a href=\"file:///buildworker/worker/package_linux64/build/usr/share/julia/stdlib/v1.6/LinearAlgebra/src/special.jl\" target=\"_blank\">/opt/julia-1.6.0/share/julia/stdlib/v1.6/LinearAlgebra/src/special.jl:135</a></li> <li> +(A::<b>LinearAlgebra.Diagonal</b>, B::<b>LinearAlgebra.Tridiagonal</b>) in LinearAlgebra at <a href=\"file:///buildworker/worker/package_linux64/build/usr/share/julia/stdlib/v1.6/LinearAlgebra/src/special.jl\" target=\"_blank\">/opt/julia-1.6.0/share/julia/stdlib/v1.6/LinearAlgebra/src/special.jl:163</a></li> <li> +(A::<b>LinearAlgebra.Diagonal{var\"#s832\", V} where {var\"#s832\"<:Number, V<:AbstractVector{var\"#s832\"}}</b>, B::<b>LinearAlgebra.UniformScaling</b>) in LinearAlgebra at <a href=\"file:///buildworker/worker/package_linux64/build/usr/share/julia/stdlib/v1.6/LinearAlgebra/src/special.jl\" target=\"_blank\">/opt/julia-1.6.0/share/julia/stdlib/v1.6/LinearAlgebra/src/special.jl:241</a></li> <li> +(x::<b>Base.TwicePrecision</b>, y::<b>Number</b>) in Base at <a href=\"https://github.com/JuliaLang/julia/tree/f9720dc2ebd6cd9e3086365f281e62506444ef37/base/twiceprecision.jl#L267\" target=\"_blank\">twiceprecision.jl:267</a></li> <li> +(x::<b>Base.TwicePrecision{T}</b>, y::<b>Base.TwicePrecision{T}</b>)<i> where T</i> in Base at <a href=\"https://github.com/JuliaLang/julia/tree/f9720dc2ebd6cd9e3086365f281e62506444ef37/base/twiceprecision.jl#L273\" target=\"_blank\">twiceprecision.jl:273</a></li> <li> +(x::<b>Base.TwicePrecision</b>, y::<b>Base.TwicePrecision</b>) in Base at <a href=\"https://github.com/JuliaLang/julia/tree/f9720dc2ebd6cd9e3086365f281e62506444ef37/base/twiceprecision.jl#L278\" target=\"_blank\">twiceprecision.jl:278</a></li> <li> +(a::<b>Measures.Length{U, T} where T</b>, b::<b>Measures.Length{U, T} where T</b>)<i> where U</i> in Measures at <a href=\"file:///home/buzzzer/.julia/packages/Measures/0Zkai/src/length.jl\" target=\"_blank\">/home/buzzzer/.julia/packages/Measures/0Zkai/src/length.jl:28</a></li> <li> +(x::<b>P</b>, y::<b>P</b>)<i> where P<:Dates.Period</i> in Dates at <a href=\"file:///buildworker/worker/package_linux64/build/usr/share/julia/stdlib/v1.6/Dates/src/periods.jl\" target=\"_blank\">/opt/julia-1.6.0/share/julia/stdlib/v1.6/Dates/src/periods.jl:79</a></li> <li> +(x::<b>Dates.Period</b>, y::<b>Dates.Period</b>) in Dates at <a href=\"file:///buildworker/worker/package_linux64/build/usr/share/julia/stdlib/v1.6/Dates/src/periods.jl\" target=\"_blank\">/opt/julia-1.6.0/share/julia/stdlib/v1.6/Dates/src/periods.jl:351</a></li> <li> +(y::<b>Dates.Period</b>, x::<b>Dates.CompoundPeriod</b>) in Dates at <a href=\"file:///buildworker/worker/package_linux64/build/usr/share/julia/stdlib/v1.6/Dates/src/periods.jl\" target=\"_blank\">/opt/julia-1.6.0/share/julia/stdlib/v1.6/Dates/src/periods.jl:353</a></li> <li> +(y::<b>Dates.Period</b>, x::<b>Dates.TimeType</b>) in Dates at <a href=\"file:///buildworker/worker/package_linux64/build/usr/share/julia/stdlib/v1.6/Dates/src/arithmetic.jl\" target=\"_blank\">/opt/julia-1.6.0/share/julia/stdlib/v1.6/Dates/src/arithmetic.jl:85</a></li> <li> +(x::<b>Dates.Period</b>, r::<b>AbstractRange{var\"#s832\"} where var\"#s832\"<:Dates.TimeType</b>) in Dates at <a href=\"file:///buildworker/worker/package_linux64/build/usr/share/julia/stdlib/v1.6/Dates/src/ranges.jl\" target=\"_blank\">/opt/julia-1.6.0/share/julia/stdlib/v1.6/Dates/src/ranges.jl:62</a></li> <li> +(y::<b>Union{Dates.CompoundPeriod, Dates.Period}</b>, x::<b>AbstractArray{var\"#s832\", N} where {var\"#s832\"<:Dates.TimeType, N}</b>) in Dates at <a href=\"file:///buildworker/worker/package_linux64/build/usr/share/julia/stdlib/v1.6/Dates/src/deprecated.jl\" target=\"_blank\">/opt/julia-1.6.0/share/julia/stdlib/v1.6/Dates/src/deprecated.jl:14</a></li> <li> +(J::<b>LinearAlgebra.UniformScaling</b>) in LinearAlgebra at <a href=\"file:///buildworker/worker/package_linux64/build/usr/share/julia/stdlib/v1.6/LinearAlgebra/src/uniformscaling.jl\" target=\"_blank\">/opt/julia-1.6.0/share/julia/stdlib/v1.6/LinearAlgebra/src/uniformscaling.jl:150</a></li> <li> +(J::<b>LinearAlgebra.UniformScaling</b>, x::<b>Number</b>) in LinearAlgebra at <a href=\"file:///buildworker/worker/package_linux64/build/usr/share/julia/stdlib/v1.6/LinearAlgebra/src/uniformscaling.jl\" target=\"_blank\">/opt/julia-1.6.0/share/julia/stdlib/v1.6/LinearAlgebra/src/uniformscaling.jl:145</a></li> <li> +(J1::<b>LinearAlgebra.UniformScaling</b>, J2::<b>LinearAlgebra.UniformScaling</b>) in LinearAlgebra at <a href=\"file:///buildworker/worker/package_linux64/build/usr/share/julia/stdlib/v1.6/LinearAlgebra/src/uniformscaling.jl\" target=\"_blank\">/opt/julia-1.6.0/share/julia/stdlib/v1.6/LinearAlgebra/src/uniformscaling.jl:151</a></li> <li> +(J::<b>LinearAlgebra.UniformScaling</b>, B::<b>BitMatrix</b>) in LinearAlgebra at <a href=\"file:///buildworker/worker/package_linux64/build/usr/share/julia/stdlib/v1.6/LinearAlgebra/src/uniformscaling.jl\" target=\"_blank\">/opt/julia-1.6.0/share/julia/stdlib/v1.6/LinearAlgebra/src/uniformscaling.jl:153</a></li> <li> +(J::<b>LinearAlgebra.UniformScaling</b>, F::<b>LinearAlgebra.Hessenberg</b>) in LinearAlgebra at <a href=\"file:///buildworker/worker/package_linux64/build/usr/share/julia/stdlib/v1.6/LinearAlgebra/src/hessenberg.jl\" target=\"_blank\">/opt/julia-1.6.0/share/julia/stdlib/v1.6/LinearAlgebra/src/hessenberg.jl:560</a></li> <li> +(A::<b>LinearAlgebra.UniformScaling</b>, B::<b>LinearAlgebra.Tridiagonal{var\"#s832\", V} where {var\"#s832\"<:Number, V<:AbstractVector{var\"#s832\"}}</b>) in LinearAlgebra at <a href=\"file:///buildworker/worker/package_linux64/build/usr/share/julia/stdlib/v1.6/LinearAlgebra/src/special.jl\" target=\"_blank\">/opt/julia-1.6.0/share/julia/stdlib/v1.6/LinearAlgebra/src/special.jl:245</a></li> <li> +(A::<b>LinearAlgebra.UniformScaling</b>, B::<b>LinearAlgebra.SymTridiagonal{var\"#s832\", V} where {var\"#s832\"<:Number, V<:AbstractVector{var\"#s832\"}}</b>) in LinearAlgebra at <a href=\"file:///buildworker/worker/package_linux64/build/usr/share/julia/stdlib/v1.6/LinearAlgebra/src/special.jl\" target=\"_blank\">/opt/julia-1.6.0/share/julia/stdlib/v1.6/LinearAlgebra/src/special.jl:250</a></li> <li> +(A::<b>LinearAlgebra.UniformScaling</b>, B::<b>LinearAlgebra.Bidiagonal{var\"#s832\", V} where {var\"#s832\"<:Number, V<:AbstractVector{var\"#s832\"}}</b>) in LinearAlgebra at <a href=\"file:///buildworker/worker/package_linux64/build/usr/share/julia/stdlib/v1.6/LinearAlgebra/src/special.jl\" target=\"_blank\">/opt/julia-1.6.0/share/julia/stdlib/v1.6/LinearAlgebra/src/special.jl:255</a></li> <li> +(A::<b>LinearAlgebra.UniformScaling</b>, B::<b>LinearAlgebra.Diagonal{var\"#s832\", V} where {var\"#s832\"<:Number, V<:AbstractVector{var\"#s832\"}}</b>) in LinearAlgebra at <a href=\"file:///buildworker/worker/package_linux64/build/usr/share/julia/stdlib/v1.6/LinearAlgebra/src/special.jl\" target=\"_blank\">/opt/julia-1.6.0/share/julia/stdlib/v1.6/LinearAlgebra/src/special.jl:260</a></li> <li> +(a::<b>LinearAlgebra.UniformScaling</b>, b::<b>StaticArrays.StaticMatrix{N, M, T} where {N, M, T}</b>) in StaticArrays at <a href=\"file:///home/buzzzer/.julia/packages/StaticArrays/rdb0l/src/linalg.jl\" target=\"_blank\">/home/buzzzer/.julia/packages/StaticArrays/rdb0l/src/linalg.jl:29</a></li> <li> +(J::<b>LinearAlgebra.UniformScaling</b>, A::<b>AbstractMatrix{T} where T</b>) in LinearAlgebra at <a href=\"file:///buildworker/worker/package_linux64/build/usr/share/julia/stdlib/v1.6/LinearAlgebra/src/uniformscaling.jl\" target=\"_blank\">/opt/julia-1.6.0/share/julia/stdlib/v1.6/LinearAlgebra/src/uniformscaling.jl:154</a></li> <li> +(h::<b>GeometryBasics.HyperRectangle{N, T}</b>, move::<b>StaticArrays.StaticVector{N, T} where T</b>)<i> where {N, T}</i> in GeometryBasics at <a href=\"file:///home/buzzzer/.julia/packages/GeometryBasics/qasyR/src/primitives/rectangles.jl\" target=\"_blank\">/home/buzzzer/.julia/packages/GeometryBasics/qasyR/src/primitives/rectangles.jl:273</a></li> <li> +(h::<b>GeometryBasics.HyperRectangle{N, T}</b>, move::<b>Number</b>)<i> where {N, T}</i> in GeometryBasics at <a href=\"file:///home/buzzzer/.julia/packages/GeometryBasics/qasyR/src/primitives/rectangles.jl\" target=\"_blank\">/home/buzzzer/.julia/packages/GeometryBasics/qasyR/src/primitives/rectangles.jl:267</a></li> <li> +(x::<b>AbstractIrrational</b>, y::<b>AbstractIrrational</b>) in Base at <a href=\"https://github.com/JuliaLang/julia/tree/f9720dc2ebd6cd9e3086365f281e62506444ef37/base/irrationals.jl#L156\" target=\"_blank\">irrationals.jl:156</a></li> <li> +(x::<b>GeometryBasics.OffsetInteger{O, T} where T<:Integer</b>, y::<b>GeometryBasics.OffsetInteger{O, T} where T<:Integer</b>)<i> where O</i> in GeometryBasics at <a href=\"file:///home/buzzzer/.julia/packages/GeometryBasics/qasyR/src/offsetintegers.jl\" target=\"_blank\">/home/buzzzer/.julia/packages/GeometryBasics/qasyR/src/offsetintegers.jl:63</a></li> <li> +(x::<b>Dates.Instant</b>) in Dates at <a href=\"file:///buildworker/worker/package_linux64/build/usr/share/julia/stdlib/v1.6/Dates/src/arithmetic.jl\" target=\"_blank\">/opt/julia-1.6.0/share/julia/stdlib/v1.6/Dates/src/arithmetic.jl:4</a></li> <li> +(A::<b>LinearAlgebra.Bidiagonal</b>, B::<b>LinearAlgebra.Bidiagonal</b>) in LinearAlgebra at <a href=\"file:///buildworker/worker/package_linux64/build/usr/share/julia/stdlib/v1.6/LinearAlgebra/src/bidiag.jl\" target=\"_blank\">/opt/julia-1.6.0/share/julia/stdlib/v1.6/LinearAlgebra/src/bidiag.jl:354</a></li> <li> +(A::<b>LinearAlgebra.Bidiagonal</b>, B::<b>LinearAlgebra.UpperTriangular</b>) in LinearAlgebra at <a href=\"file:///buildworker/worker/package_linux64/build/usr/share/julia/stdlib/v1.6/LinearAlgebra/src/special.jl\" target=\"_blank\">/opt/julia-1.6.0/share/julia/stdlib/v1.6/LinearAlgebra/src/special.jl:94</a></li> <li> +(A::<b>LinearAlgebra.Bidiagonal</b>, B::<b>LinearAlgebra.UnitUpperTriangular</b>) in LinearAlgebra at <a href=\"file:///buildworker/worker/package_linux64/build/usr/share/julia/stdlib/v1.6/LinearAlgebra/src/special.jl\" target=\"_blank\">/opt/julia-1.6.0/share/julia/stdlib/v1.6/LinearAlgebra/src/special.jl:94</a></li> <li> +(A::<b>LinearAlgebra.Bidiagonal</b>, B::<b>LinearAlgebra.LowerTriangular</b>) in LinearAlgebra at <a href=\"file:///buildworker/worker/package_linux64/build/usr/share/julia/stdlib/v1.6/LinearAlgebra/src/special.jl\" target=\"_blank\">/opt/julia-1.6.0/share/julia/stdlib/v1.6/LinearAlgebra/src/special.jl:94</a></li> <li> +(A::<b>LinearAlgebra.Bidiagonal</b>, B::<b>LinearAlgebra.UnitLowerTriangular</b>) in LinearAlgebra at <a href=\"file:///buildworker/worker/package_linux64/build/usr/share/julia/stdlib/v1.6/LinearAlgebra/src/special.jl\" target=\"_blank\">/opt/julia-1.6.0/share/julia/stdlib/v1.6/LinearAlgebra/src/special.jl:94</a></li> <li> +(A::<b>LinearAlgebra.Bidiagonal</b>, B::<b>LinearAlgebra.Diagonal</b>) in LinearAlgebra at <a href=\"file:///buildworker/worker/package_linux64/build/usr/share/julia/stdlib/v1.6/LinearAlgebra/src/special.jl\" target=\"_blank\">/opt/julia-1.6.0/share/julia/stdlib/v1.6/LinearAlgebra/src/special.jl:115</a></li> <li> +(A::<b>LinearAlgebra.Bidiagonal</b>, B::<b>LinearAlgebra.Tridiagonal</b>) in LinearAlgebra at <a href=\"file:///buildworker/worker/package_linux64/build/usr/share/julia/stdlib/v1.6/LinearAlgebra/src/special.jl\" target=\"_blank\">/opt/julia-1.6.0/share/julia/stdlib/v1.6/LinearAlgebra/src/special.jl:183</a></li> <li> +(A::<b>LinearAlgebra.Bidiagonal</b>, B::<b>LinearAlgebra.SymTridiagonal</b>) in LinearAlgebra at <a href=\"file:///buildworker/worker/package_linux64/build/usr/share/julia/stdlib/v1.6/LinearAlgebra/src/special.jl\" target=\"_blank\">/opt/julia-1.6.0/share/julia/stdlib/v1.6/LinearAlgebra/src/special.jl:203</a></li> <li> +(A::<b>LinearAlgebra.Bidiagonal{var\"#s832\", V} where {var\"#s832\"<:Number, V<:AbstractVector{var\"#s832\"}}</b>, B::<b>LinearAlgebra.UniformScaling</b>) in LinearAlgebra at <a href=\"file:///buildworker/worker/package_linux64/build/usr/share/julia/stdlib/v1.6/LinearAlgebra/src/special.jl\" target=\"_blank\">/opt/julia-1.6.0/share/julia/stdlib/v1.6/LinearAlgebra/src/special.jl:236</a></li> <li> +(A::<b>LinearAlgebra.UnitLowerTriangular</b>, B::<b>LinearAlgebra.LowerTriangular</b>) in LinearAlgebra at <a href=\"file:///buildworker/worker/package_linux64/build/usr/share/julia/stdlib/v1.6/LinearAlgebra/src/triangular.jl\" target=\"_blank\">/opt/julia-1.6.0/share/julia/stdlib/v1.6/LinearAlgebra/src/triangular.jl:653</a></li> <li> +(A::<b>LinearAlgebra.UnitLowerTriangular</b>, B::<b>LinearAlgebra.UnitLowerTriangular</b>) in LinearAlgebra at <a href=\"file:///buildworker/worker/package_linux64/build/usr/share/julia/stdlib/v1.6/LinearAlgebra/src/triangular.jl\" target=\"_blank\">/opt/julia-1.6.0/share/julia/stdlib/v1.6/LinearAlgebra/src/triangular.jl:655</a></li> <li> +(UL::<b>LinearAlgebra.UnitLowerTriangular</b>, J::<b>LinearAlgebra.UniformScaling</b>) in LinearAlgebra at <a href=\"file:///buildworker/worker/package_linux64/build/usr/share/julia/stdlib/v1.6/LinearAlgebra/src/uniformscaling.jl\" target=\"_blank\">/opt/julia-1.6.0/share/julia/stdlib/v1.6/LinearAlgebra/src/uniformscaling.jl:182</a></li> <li> +(A::<b>LinearAlgebra.UnitLowerTriangular</b>, B::<b>LinearAlgebra.Bidiagonal</b>) in LinearAlgebra at <a href=\"file:///buildworker/worker/package_linux64/build/usr/share/julia/stdlib/v1.6/LinearAlgebra/src/special.jl\" target=\"_blank\">/opt/julia-1.6.0/share/julia/stdlib/v1.6/LinearAlgebra/src/special.jl:86</a></li> <li> +(A::<b>LinearAlgebra.UpperHessenberg</b>, B::<b>LinearAlgebra.UpperHessenberg</b>) in LinearAlgebra at <a href=\"file:///buildworker/worker/package_linux64/build/usr/share/julia/stdlib/v1.6/LinearAlgebra/src/hessenberg.jl\" target=\"_blank\">/opt/julia-1.6.0/share/julia/stdlib/v1.6/LinearAlgebra/src/hessenberg.jl:101</a></li> <li> +(H::<b>LinearAlgebra.UpperHessenberg</b>, J::<b>LinearAlgebra.UniformScaling</b>) in LinearAlgebra at <a href=\"file:///buildworker/worker/package_linux64/build/usr/share/julia/stdlib/v1.6/LinearAlgebra/src/hessenberg.jl\" target=\"_blank\">/opt/julia-1.6.0/share/julia/stdlib/v1.6/LinearAlgebra/src/hessenberg.jl:106</a></li> <li> +(A::<b>LinearAlgebra.Symmetric</b>, B::<b>LinearAlgebra.Symmetric</b>) in LinearAlgebra at <a href=\"file:///buildworker/worker/package_linux64/build/usr/share/julia/stdlib/v1.6/LinearAlgebra/src/symmetric.jl\" target=\"_blank\">/opt/julia-1.6.0/share/julia/stdlib/v1.6/LinearAlgebra/src/symmetric.jl:469</a></li> <li> +(S::<b>LinearAlgebra.Symmetric</b>, D::<b>LinearAlgebra.Diagonal</b>) in LinearAlgebra at <a href=\"file:///buildworker/worker/package_linux64/build/usr/share/julia/stdlib/v1.6/LinearAlgebra/src/diagonal.jl\" target=\"_blank\">/opt/julia-1.6.0/share/julia/stdlib/v1.6/LinearAlgebra/src/diagonal.jl:163</a></li> <li> +(A::<b>LinearAlgebra.Symmetric{var\"#s830\", var\"#s829\"} where {var\"#s830\", var\"#s829\"<:(SparseArrays.AbstractSparseMatrix{Tv, Ti} where {Tv, Ti})}</b>, B::<b>SparseArrays.AbstractSparseMatrix{Tv, Ti} where {Tv, Ti}</b>) in SparseArrays at <a href=\"file:///buildworker/worker/package_linux64/build/usr/share/julia/stdlib/v1.6/SparseArrays/src/linalg.jl\" target=\"_blank\">/opt/julia-1.6.0/share/julia/stdlib/v1.6/SparseArrays/src/linalg.jl:15</a></li> <li> +(A::<b>LinearAlgebra.Symmetric</b>, B::<b>SparseArrays.AbstractSparseMatrix{Tv, Ti} where {Tv, Ti}</b>) in SparseArrays at <a href=\"file:///buildworker/worker/package_linux64/build/usr/share/julia/stdlib/v1.6/SparseArrays/src/linalg.jl\" target=\"_blank\">/opt/julia-1.6.0/share/julia/stdlib/v1.6/SparseArrays/src/linalg.jl:18</a></li> <li> +(A::<b>LinearAlgebra.Symmetric{var\"#s824\", var\"#s823\"} where {var\"#s824\"<:Real, var\"#s823\"<:(SparseArrays.AbstractSparseMatrix{Tv, Ti} where {Tv, Ti})}</b>, B::<b>LinearAlgebra.Hermitian{var\"#s822\", var\"#s821\"} where {var\"#s822\", var\"#s821\"<:(SparseArrays.AbstractSparseMatrix{Tv, Ti} where {Tv, Ti})}</b>) in SparseArrays at <a href=\"file:///buildworker/worker/package_linux64/build/usr/share/julia/stdlib/v1.6/SparseArrays/src/linalg.jl\" target=\"_blank\">/opt/julia-1.6.0/share/julia/stdlib/v1.6/SparseArrays/src/linalg.jl:25</a></li> <li> +(A::<b>LinearAlgebra.Symmetric{var\"#s831\", S} where {var\"#s831\"<:Real, S<:(AbstractMatrix{var\"#s832\"} where var\"#s832\"<:var\"#s831\")}</b>, B::<b>LinearAlgebra.Hermitian</b>) in LinearAlgebra at <a href=\"file:///buildworker/worker/package_linux64/build/usr/share/julia/stdlib/v1.6/LinearAlgebra/src/symmetric.jl\" target=\"_blank\">/opt/julia-1.6.0/share/julia/stdlib/v1.6/LinearAlgebra/src/symmetric.jl:484</a></li> <li> +(A::<b>LinearAlgebra.Symmetric{var\"#s832\", var\"#s831\"} where {var\"#s832\", var\"#s831\"<:(SparseArrays.AbstractSparseMatrix{Tv, Ti} where {Tv, Ti})}</b>, B::<b>LinearAlgebra.Hermitian{var\"#s830\", var\"#s829\"} where {var\"#s830\", var\"#s829\"<:(SparseArrays.AbstractSparseMatrix{Tv, Ti} where {Tv, Ti})}</b>) in SparseArrays at <a href=\"file:///buildworker/worker/package_linux64/build/usr/share/julia/stdlib/v1.6/SparseArrays/src/linalg.jl\" target=\"_blank\">/opt/julia-1.6.0/share/julia/stdlib/v1.6/SparseArrays/src/linalg.jl:23</a></li> <li> +(A::<b>LinearAlgebra.SymTridiagonal</b>, B::<b>LinearAlgebra.SymTridiagonal</b>) in LinearAlgebra at <a href=\"file:///buildworker/worker/package_linux64/build/usr/share/julia/stdlib/v1.6/LinearAlgebra/src/tridiag.jl\" target=\"_blank\">/opt/julia-1.6.0/share/julia/stdlib/v1.6/LinearAlgebra/src/tridiag.jl:205</a></li> <li> +(A::<b>LinearAlgebra.SymTridiagonal</b>, B::<b>LinearAlgebra.Diagonal</b>) in LinearAlgebra at <a href=\"file:///buildworker/worker/package_linux64/build/usr/share/julia/stdlib/v1.6/LinearAlgebra/src/special.jl\" target=\"_blank\">/opt/julia-1.6.0/share/julia/stdlib/v1.6/LinearAlgebra/src/special.jl:145</a></li> <li> +(A::<b>LinearAlgebra.SymTridiagonal</b>, B::<b>LinearAlgebra.Tridiagonal</b>) in LinearAlgebra at <a href=\"file:///buildworker/worker/package_linux64/build/usr/share/julia/stdlib/v1.6/LinearAlgebra/src/special.jl\" target=\"_blank\">/opt/julia-1.6.0/share/julia/stdlib/v1.6/LinearAlgebra/src/special.jl:159</a></li> <li> +(A::<b>LinearAlgebra.SymTridiagonal</b>, B::<b>LinearAlgebra.Bidiagonal</b>) in LinearAlgebra at <a href=\"file:///buildworker/worker/package_linux64/build/usr/share/julia/stdlib/v1.6/LinearAlgebra/src/special.jl\" target=\"_blank\">/opt/julia-1.6.0/share/julia/stdlib/v1.6/LinearAlgebra/src/special.jl:213</a></li> <li> +(A::<b>LinearAlgebra.SymTridiagonal{var\"#s832\", V} where {var\"#s832\"<:Number, V<:AbstractVector{var\"#s832\"}}</b>, B::<b>LinearAlgebra.UniformScaling</b>) in LinearAlgebra at <a href=\"file:///buildworker/worker/package_linux64/build/usr/share/julia/stdlib/v1.6/LinearAlgebra/src/special.jl\" target=\"_blank\">/opt/julia-1.6.0/share/julia/stdlib/v1.6/LinearAlgebra/src/special.jl:231</a></li> <li> +(r1::<b>LinRange{T}</b>, r2::<b>LinRange{T}</b>)<i> where T</i> in Base at <a href=\"https://github.com/JuliaLang/julia/tree/f9720dc2ebd6cd9e3086365f281e62506444ef37/base/range.jl#L1108\" target=\"_blank\">range.jl:1108</a></li> <li> +(A::<b>LinearAlgebra.UnitUpperTriangular</b>, B::<b>LinearAlgebra.UpperTriangular</b>) in LinearAlgebra at <a href=\"file:///buildworker/worker/package_linux64/build/usr/share/julia/stdlib/v1.6/LinearAlgebra/src/triangular.jl\" target=\"_blank\">/opt/julia-1.6.0/share/julia/stdlib/v1.6/LinearAlgebra/src/triangular.jl:652</a></li> <li> +(A::<b>LinearAlgebra.UnitUpperTriangular</b>, B::<b>LinearAlgebra.UnitUpperTriangular</b>) in LinearAlgebra at <a href=\"file:///buildworker/worker/package_linux64/build/usr/share/julia/stdlib/v1.6/LinearAlgebra/src/triangular.jl\" target=\"_blank\">/opt/julia-1.6.0/share/julia/stdlib/v1.6/LinearAlgebra/src/triangular.jl:654</a></li> <li> +(UL::<b>LinearAlgebra.UnitUpperTriangular</b>, J::<b>LinearAlgebra.UniformScaling</b>) in LinearAlgebra at <a href=\"file:///buildworker/worker/package_linux64/build/usr/share/julia/stdlib/v1.6/LinearAlgebra/src/uniformscaling.jl\" target=\"_blank\">/opt/julia-1.6.0/share/julia/stdlib/v1.6/LinearAlgebra/src/uniformscaling.jl:182</a></li> <li> +(A::<b>LinearAlgebra.UnitUpperTriangular</b>, B::<b>LinearAlgebra.Bidiagonal</b>) in LinearAlgebra at <a href=\"file:///buildworker/worker/package_linux64/build/usr/share/julia/stdlib/v1.6/LinearAlgebra/src/special.jl\" target=\"_blank\">/opt/julia-1.6.0/share/julia/stdlib/v1.6/LinearAlgebra/src/special.jl:86</a></li> <li> +(A::<b>Array</b>, Bs::<b>Array...</b>) in Base at <a href=\"https://github.com/JuliaLang/julia/tree/f9720dc2ebd6cd9e3086365f281e62506444ef37/base/arraymath.jl#L43\" target=\"_blank\">arraymath.jl:43</a></li> <li> +(X::<b>StridedArray{var\"#s832\", N} where {var\"#s832\"<:Union{Dates.CompoundPeriod, Dates.Period}, N}</b>, Y::<b>StridedArray{var\"#s831\", N} where {var\"#s831\"<:Union{Dates.CompoundPeriod, Dates.Period}, N}</b>) in Dates at <a href=\"file:///buildworker/worker/package_linux64/build/usr/share/julia/stdlib/v1.6/Dates/src/deprecated.jl\" target=\"_blank\">/opt/julia-1.6.0/share/julia/stdlib/v1.6/Dates/src/deprecated.jl:62</a></li> <li> +(A::<b>Array</b>, B::<b>SparseArrays.AbstractSparseMatrixCSC</b>) in SparseArrays at <a href=\"file:///buildworker/worker/package_linux64/build/usr/share/julia/stdlib/v1.6/SparseArrays/src/sparsematrix.jl\" target=\"_blank\">/opt/julia-1.6.0/share/julia/stdlib/v1.6/SparseArrays/src/sparsematrix.jl:1745</a></li> <li> +(x::<b>StridedArray{var\"#s832\", N} where {var\"#s832\"<:Union{Dates.CompoundPeriod, Dates.Period}, N}</b>) in Dates at <a href=\"file:///buildworker/worker/package_linux64/build/usr/share/julia/stdlib/v1.6/Dates/src/deprecated.jl\" target=\"_blank\">/opt/julia-1.6.0/share/julia/stdlib/v1.6/Dates/src/deprecated.jl:55</a></li> <li> +(x::<b>StridedArray{var\"#s832\", N} where {var\"#s832\"<:Union{Dates.CompoundPeriod, Dates.Period}, N}</b>, y::<b>Dates.TimeType</b>) in Dates at <a href=\"file:///buildworker/worker/package_linux64/build/usr/share/julia/stdlib/v1.6/Dates/src/deprecated.jl\" target=\"_blank\">/opt/julia-1.6.0/share/julia/stdlib/v1.6/Dates/src/deprecated.jl:10</a></li> <li> +(r1::<b>StepRangeLen{T, R, S} where S</b>, r2::<b>StepRangeLen{T, R, S} where S</b>)<i> where {R<:Base.TwicePrecision, T}</i> in Base at <a href=\"https://github.com/JuliaLang/julia/tree/f9720dc2ebd6cd9e3086365f281e62506444ef37/base/twiceprecision.jl#L574\" target=\"_blank\">twiceprecision.jl:574</a></li> <li> +(r1::<b>StepRangeLen{T, S, S1} where S1</b>, r2::<b>StepRangeLen{T, S, S1} where S1</b>)<i> where {T, S}</i> in Base at <a href=\"https://github.com/JuliaLang/julia/tree/f9720dc2ebd6cd9e3086365f281e62506444ef37/base/range.jl#L1124\" target=\"_blank\">range.jl:1124</a></li> <li> +(a::<b>Measures.Measure</b>, b::<b>Measures.Measure</b>) in Measures at <a href=\"file:///home/buzzzer/.julia/packages/Measures/0Zkai/src/operations.jl\" target=\"_blank\">/home/buzzzer/.julia/packages/Measures/0Zkai/src/operations.jl:41</a></li> <li> +(y::<b>Dates.TimeType</b>, x::<b>StridedArray{var\"#s832\", N} where {var\"#s832\"<:Union{Dates.CompoundPeriod, Dates.Period}, N}</b>) in Dates at <a href=\"file:///buildworker/worker/package_linux64/build/usr/share/julia/stdlib/v1.6/Dates/src/deprecated.jl\" target=\"_blank\">/opt/julia-1.6.0/share/julia/stdlib/v1.6/Dates/src/deprecated.jl:18</a></li> <li> +(x::<b>T</b>, y::<b>Integer</b>)<i> where T<:AbstractChar</i> in Base at <a href=\"https://github.com/JuliaLang/julia/tree/f9720dc2ebd6cd9e3086365f281e62506444ef37/base/char.jl#L223\" target=\"_blank\">char.jl:223</a></li> <li> +(A::<b>BitArray</b>, B::<b>BitArray</b>) in Base at <a href=\"https://github.com/JuliaLang/julia/tree/f9720dc2ebd6cd9e3086365f281e62506444ef37/base/bitarray.jl#L1127\" target=\"_blank\">bitarray.jl:1127</a></li> <li> +(x::<b>Ptr</b>, y::<b>Integer</b>) in Base at <a href=\"https://github.com/JuliaLang/julia/tree/f9720dc2ebd6cd9e3086365f281e62506444ef37/base/pointer.jl#L159\" target=\"_blank\">pointer.jl:159</a></li> <li> +(y::<b>AbstractFloat</b>, x::<b>Bool</b>) in Base at <a href=\"https://github.com/JuliaLang/julia/tree/f9720dc2ebd6cd9e3086365f281e62506444ef37/base/bool.jl#L102\" target=\"_blank\">bool.jl:102</a></li> <li> +(x::<b>Dates.AbstractTime</b>, y::<b>Missing</b>) in Dates at <a href=\"file:///buildworker/worker/package_linux64/build/usr/share/julia/stdlib/v1.6/Dates/src/arithmetic.jl\" target=\"_blank\">/opt/julia-1.6.0/share/julia/stdlib/v1.6/Dates/src/arithmetic.jl:88</a></li> <li> +(A::<b>LinearAlgebra.LowerTriangular</b>, B::<b>LinearAlgebra.LowerTriangular</b>) in LinearAlgebra at <a href=\"file:///buildworker/worker/package_linux64/build/usr/share/julia/stdlib/v1.6/LinearAlgebra/src/triangular.jl\" target=\"_blank\">/opt/julia-1.6.0/share/julia/stdlib/v1.6/LinearAlgebra/src/triangular.jl:649</a></li> <li> +(A::<b>LinearAlgebra.LowerTriangular</b>, B::<b>LinearAlgebra.UnitLowerTriangular</b>) in LinearAlgebra at <a href=\"file:///buildworker/worker/package_linux64/build/usr/share/julia/stdlib/v1.6/LinearAlgebra/src/triangular.jl\" target=\"_blank\">/opt/julia-1.6.0/share/julia/stdlib/v1.6/LinearAlgebra/src/triangular.jl:651</a></li> <li> +(A::<b>LinearAlgebra.LowerTriangular</b>, B::<b>LinearAlgebra.Bidiagonal</b>) in LinearAlgebra at <a href=\"file:///buildworker/worker/package_linux64/build/usr/share/julia/stdlib/v1.6/LinearAlgebra/src/special.jl\" target=\"_blank\">/opt/julia-1.6.0/share/julia/stdlib/v1.6/LinearAlgebra/src/special.jl:86</a></li> <li> +(r1::<b>OrdinalRange</b>, r2::<b>OrdinalRange</b>) in Base at <a href=\"https://github.com/JuliaLang/julia/tree/f9720dc2ebd6cd9e3086365f281e62506444ef37/base/range.jl#L1101\" target=\"_blank\">range.jl:1101</a></li> <li> +(r1::<b>Union{LinRange, OrdinalRange, StepRangeLen}</b>, r2::<b>Union{LinRange, OrdinalRange, StepRangeLen}</b>) in Base at <a href=\"https://github.com/JuliaLang/julia/tree/f9720dc2ebd6cd9e3086365f281e62506444ef37/base/range.jl#L1117\" target=\"_blank\">range.jl:1117</a></li> <li> +(A::<b>LinearAlgebra.Tridiagonal</b>, B::<b>LinearAlgebra.Tridiagonal</b>) in LinearAlgebra at <a href=\"file:///buildworker/worker/package_linux64/build/usr/share/julia/stdlib/v1.6/LinearAlgebra/src/tridiag.jl\" target=\"_blank\">/opt/julia-1.6.0/share/julia/stdlib/v1.6/LinearAlgebra/src/tridiag.jl:733</a></li> <li> +(A::<b>LinearAlgebra.Tridiagonal</b>, B::<b>LinearAlgebra.SymTridiagonal</b>) in LinearAlgebra at <a href=\"file:///buildworker/worker/package_linux64/build/usr/share/julia/stdlib/v1.6/LinearAlgebra/src/special.jl\" target=\"_blank\">/opt/julia-1.6.0/share/julia/stdlib/v1.6/LinearAlgebra/src/special.jl:157</a></li> <li> +(A::<b>LinearAlgebra.Tridiagonal</b>, B::<b>LinearAlgebra.Diagonal</b>) in LinearAlgebra at <a href=\"file:///buildworker/worker/package_linux64/build/usr/share/julia/stdlib/v1.6/LinearAlgebra/src/special.jl\" target=\"_blank\">/opt/julia-1.6.0/share/julia/stdlib/v1.6/LinearAlgebra/src/special.jl:173</a></li> <li> +(A::<b>LinearAlgebra.Tridiagonal</b>, B::<b>LinearAlgebra.Bidiagonal</b>) in LinearAlgebra at <a href=\"file:///buildworker/worker/package_linux64/build/usr/share/julia/stdlib/v1.6/LinearAlgebra/src/special.jl\" target=\"_blank\">/opt/julia-1.6.0/share/julia/stdlib/v1.6/LinearAlgebra/src/special.jl:193</a></li> <li> +(A::<b>LinearAlgebra.Tridiagonal{var\"#s832\", V} where {var\"#s832\"<:Number, V<:AbstractVector{var\"#s832\"}}</b>, B::<b>LinearAlgebra.UniformScaling</b>) in LinearAlgebra at <a href=\"file:///buildworker/worker/package_linux64/build/usr/share/julia/stdlib/v1.6/LinearAlgebra/src/special.jl\" target=\"_blank\">/opt/julia-1.6.0/share/julia/stdlib/v1.6/LinearAlgebra/src/special.jl:226</a></li> <li> +(r::<b>AbstractRange{var\"#s832\"} where var\"#s832\"<:Dates.TimeType</b>, x::<b>Dates.Period</b>) in Dates at <a href=\"file:///buildworker/worker/package_linux64/build/usr/share/julia/stdlib/v1.6/Dates/src/ranges.jl\" target=\"_blank\">/opt/julia-1.6.0/share/julia/stdlib/v1.6/Dates/src/ranges.jl:63</a></li> <li> +(A::<b>LinearAlgebra.Hermitian</b>, B::<b>LinearAlgebra.Hermitian</b>) in LinearAlgebra at <a href=\"file:///buildworker/worker/package_linux64/build/usr/share/julia/stdlib/v1.6/LinearAlgebra/src/symmetric.jl\" target=\"_blank\">/opt/julia-1.6.0/share/julia/stdlib/v1.6/LinearAlgebra/src/symmetric.jl:469</a></li> <li> +(H::<b>LinearAlgebra.Hermitian</b>, D::<b>LinearAlgebra.Diagonal{var\"#s832\", V} where {var\"#s832\"<:Real, V<:AbstractVector{var\"#s832\"}}</b>) in LinearAlgebra at <a href=\"file:///buildworker/worker/package_linux64/build/usr/share/julia/stdlib/v1.6/LinearAlgebra/src/diagonal.jl\" target=\"_blank\">/opt/julia-1.6.0/share/julia/stdlib/v1.6/LinearAlgebra/src/diagonal.jl:169</a></li> <li> +(A::<b>LinearAlgebra.Hermitian</b>, J::<b>LinearAlgebra.UniformScaling{var\"#s832\"} where var\"#s832\"<:Complex</b>) in LinearAlgebra at <a href=\"file:///buildworker/worker/package_linux64/build/usr/share/julia/stdlib/v1.6/LinearAlgebra/src/uniformscaling.jl\" target=\"_blank\">/opt/julia-1.6.0/share/julia/stdlib/v1.6/LinearAlgebra/src/uniformscaling.jl:196</a></li> <li> +(A::<b>LinearAlgebra.Hermitian{var\"#s830\", var\"#s829\"} where {var\"#s830\", var\"#s829\"<:(SparseArrays.AbstractSparseMatrix{Tv, Ti} where {Tv, Ti})}</b>, B::<b>SparseArrays.AbstractSparseMatrix{Tv, Ti} where {Tv, Ti}</b>) in SparseArrays at <a href=\"file:///buildworker/worker/package_linux64/build/usr/share/julia/stdlib/v1.6/SparseArrays/src/linalg.jl\" target=\"_blank\">/opt/julia-1.6.0/share/julia/stdlib/v1.6/SparseArrays/src/linalg.jl:15</a></li> <li> +(A::<b>LinearAlgebra.Hermitian</b>, B::<b>SparseArrays.AbstractSparseMatrix{Tv, Ti} where {Tv, Ti}</b>) in SparseArrays at <a href=\"file:///buildworker/worker/package_linux64/build/usr/share/julia/stdlib/v1.6/SparseArrays/src/linalg.jl\" target=\"_blank\">/opt/julia-1.6.0/share/julia/stdlib/v1.6/SparseArrays/src/linalg.jl:18</a></li> <li> +(A::<b>LinearAlgebra.Hermitian{var\"#s820\", var\"#s819\"} where {var\"#s820\", var\"#s819\"<:(SparseArrays.AbstractSparseMatrix{Tv, Ti} where {Tv, Ti})}</b>, B::<b>LinearAlgebra.Symmetric{var\"#s818\", var\"#s817\"} where {var\"#s818\"<:Real, var\"#s817\"<:(SparseArrays.AbstractSparseMatrix{Tv, Ti} where {Tv, Ti})}</b>) in SparseArrays at <a href=\"file:///buildworker/worker/package_linux64/build/usr/share/julia/stdlib/v1.6/SparseArrays/src/linalg.jl\" target=\"_blank\">/opt/julia-1.6.0/share/julia/stdlib/v1.6/SparseArrays/src/linalg.jl:26</a></li> <li> +(A::<b>LinearAlgebra.Hermitian</b>, B::<b>LinearAlgebra.Symmetric{var\"#s832\", S} where {var\"#s832\"<:Real, S<:(AbstractMatrix{var\"#s832\"} where var\"#s832\"<:var\"#s832\")}</b>) in LinearAlgebra at <a href=\"file:///buildworker/worker/package_linux64/build/usr/share/julia/stdlib/v1.6/LinearAlgebra/src/symmetric.jl\" target=\"_blank\">/opt/julia-1.6.0/share/julia/stdlib/v1.6/LinearAlgebra/src/symmetric.jl:483</a></li> <li> +(A::<b>LinearAlgebra.Hermitian{var\"#s828\", var\"#s827\"} where {var\"#s828\", var\"#s827\"<:(SparseArrays.AbstractSparseMatrix{Tv, Ti} where {Tv, Ti})}</b>, B::<b>LinearAlgebra.Symmetric{var\"#s826\", var\"#s825\"} where {var\"#s826\", var\"#s825\"<:(SparseArrays.AbstractSparseMatrix{Tv, Ti} where {Tv, Ti})}</b>) in SparseArrays at <a href=\"file:///buildworker/worker/package_linux64/build/usr/share/julia/stdlib/v1.6/SparseArrays/src/linalg.jl\" target=\"_blank\">/opt/julia-1.6.0/share/julia/stdlib/v1.6/SparseArrays/src/linalg.jl:24</a></li> <li> +(F::<b>LinearAlgebra.Hessenberg</b>, J::<b>LinearAlgebra.UniformScaling</b>) in LinearAlgebra at <a href=\"file:///buildworker/worker/package_linux64/build/usr/share/julia/stdlib/v1.6/LinearAlgebra/src/hessenberg.jl\" target=\"_blank\">/opt/julia-1.6.0/share/julia/stdlib/v1.6/LinearAlgebra/src/hessenberg.jl:559</a></li> <li> +(x::<b>Rational</b>, y::<b>Integer</b>) in Base at <a href=\"https://github.com/JuliaLang/julia/tree/f9720dc2ebd6cd9e3086365f281e62506444ef37/base/rational.jl#L288\" target=\"_blank\">rational.jl:288</a></li> <li> +(x::<b>X</b>, y::<b>X</b>)<i> where X<:FixedPointNumbers.FixedPoint</i> in FixedPointNumbers at <a href=\"file:///home/buzzzer/.julia/packages/FixedPointNumbers/HAGk2/src/FixedPointNumbers.jl\" target=\"_blank\">/home/buzzzer/.julia/packages/FixedPointNumbers/HAGk2/src/FixedPointNumbers.jl:237</a></li> <li> +(A::<b>LinearAlgebra.UpperTriangular</b>, B::<b>LinearAlgebra.UpperTriangular</b>) in LinearAlgebra at <a href=\"file:///buildworker/worker/package_linux64/build/usr/share/julia/stdlib/v1.6/LinearAlgebra/src/triangular.jl\" target=\"_blank\">/opt/julia-1.6.0/share/julia/stdlib/v1.6/LinearAlgebra/src/triangular.jl:648</a></li> <li> +(A::<b>LinearAlgebra.UpperTriangular</b>, B::<b>LinearAlgebra.UnitUpperTriangular</b>) in LinearAlgebra at <a href=\"file:///buildworker/worker/package_linux64/build/usr/share/julia/stdlib/v1.6/LinearAlgebra/src/triangular.jl\" target=\"_blank\">/opt/julia-1.6.0/share/julia/stdlib/v1.6/LinearAlgebra/src/triangular.jl:650</a></li> <li> +(A::<b>LinearAlgebra.AbstractTriangular</b>, B::<b>LinearAlgebra.AbstractTriangular</b>) in LinearAlgebra at <a href=\"file:///buildworker/worker/package_linux64/build/usr/share/julia/stdlib/v1.6/LinearAlgebra/src/triangular.jl\" target=\"_blank\">/opt/julia-1.6.0/share/julia/stdlib/v1.6/LinearAlgebra/src/triangular.jl:656</a></li> <li> +(A::<b>LinearAlgebra.UpperTriangular</b>, B::<b>LinearAlgebra.Bidiagonal</b>) in LinearAlgebra at <a href=\"file:///buildworker/worker/package_linux64/build/usr/share/julia/stdlib/v1.6/LinearAlgebra/src/special.jl\" target=\"_blank\">/opt/julia-1.6.0/share/julia/stdlib/v1.6/LinearAlgebra/src/special.jl:86</a></li> <li> +(bb1::<b>Measures.BoundingBox</b>, bb2::<b>Measures.BoundingBox</b>) in Plots at <a href=\"file:///home/buzzzer/.julia/packages/Plots/SVksJ/src/layouts.jl\" target=\"_blank\">/home/buzzzer/.julia/packages/Plots/SVksJ/src/layouts.jl:19</a></li> <li> +(z::<b>Complex</b>, w::<b>Complex</b>) in Base at <a href=\"https://github.com/JuliaLang/julia/tree/f9720dc2ebd6cd9e3086365f281e62506444ef37/base/complex.jl#L275\" target=\"_blank\">complex.jl:275</a></li> <li> +(x::<b>AbstractArray{var\"#s832\", N} where {var\"#s832\"<:Dates.TimeType, N}</b>, y::<b>Union{Dates.CompoundPeriod, Dates.Period}</b>) in Dates at <a href=\"file:///buildworker/worker/package_linux64/build/usr/share/julia/stdlib/v1.6/Dates/src/deprecated.jl\" target=\"_blank\">/opt/julia-1.6.0/share/julia/stdlib/v1.6/Dates/src/deprecated.jl:6</a></li> <li> +(A::<b>SparseArrays.AbstractSparseMatrixCSC</b>, B::<b>SparseArrays.AbstractSparseMatrixCSC</b>) in SparseArrays at <a href=\"file:///buildworker/worker/package_linux64/build/usr/share/julia/stdlib/v1.6/SparseArrays/src/sparsematrix.jl\" target=\"_blank\">/opt/julia-1.6.0/share/julia/stdlib/v1.6/SparseArrays/src/sparsematrix.jl:1741</a></li> <li> +(x::<b>SparseArrays.AbstractSparseVector{Tv, Ti} where {Tv, Ti}</b>, y::<b>SparseArrays.AbstractSparseVector{Tv, Ti} where {Tv, Ti}</b>) in SparseArrays at <a href=\"file:///buildworker/worker/package_linux64/build/usr/share/julia/stdlib/v1.6/SparseArrays/src/sparsevector.jl\" target=\"_blank\">/opt/julia-1.6.0/share/julia/stdlib/v1.6/SparseArrays/src/sparsevector.jl:1345</a></li> <li> +(A::<b>SparseArrays.AbstractSparseMatrixCSC</b>, B::<b>Array</b>) in SparseArrays at <a href=\"file:///buildworker/worker/package_linux64/build/usr/share/julia/stdlib/v1.6/SparseArrays/src/sparsematrix.jl\" target=\"_blank\">/opt/julia-1.6.0/share/julia/stdlib/v1.6/SparseArrays/src/sparsematrix.jl:1744</a></li> <li> +(A::<b>SparseArrays.AbstractSparseMatrixCSC</b>, J::<b>LinearAlgebra.UniformScaling</b>) in SparseArrays at <a href=\"file:///buildworker/worker/package_linux64/build/usr/share/julia/stdlib/v1.6/SparseArrays/src/sparsematrix.jl\" target=\"_blank\">/opt/julia-1.6.0/share/julia/stdlib/v1.6/SparseArrays/src/sparsematrix.jl:3797</a></li> <li> +(a::<b>StaticArrays.StaticMatrix{N, M, T} where {N, M, T}</b>, b::<b>LinearAlgebra.UniformScaling</b>) in StaticArrays at <a href=\"file:///home/buzzzer/.julia/packages/StaticArrays/rdb0l/src/linalg.jl\" target=\"_blank\">/home/buzzzer/.julia/packages/StaticArrays/rdb0l/src/linalg.jl:28</a></li> <li> +(a::<b>StaticArrays.StaticArray</b>, b::<b>StaticArrays.StaticArray</b>) in StaticArrays at <a href=\"file:///home/buzzzer/.julia/packages/StaticArrays/rdb0l/src/linalg.jl\" target=\"_blank\">/home/buzzzer/.julia/packages/StaticArrays/rdb0l/src/linalg.jl:11</a></li> <li> +(a::<b>AbstractArray</b>, b::<b>StaticArrays.StaticArray</b>) in StaticArrays at <a href=\"file:///home/buzzzer/.julia/packages/StaticArrays/rdb0l/src/linalg.jl\" target=\"_blank\">/home/buzzzer/.julia/packages/StaticArrays/rdb0l/src/linalg.jl:12</a></li> <li> +(a::<b>StaticArrays.StaticArray</b>, b::<b>AbstractArray</b>) in StaticArrays at <a href=\"file:///home/buzzzer/.julia/packages/StaticArrays/rdb0l/src/linalg.jl\" target=\"_blank\">/home/buzzzer/.julia/packages/StaticArrays/rdb0l/src/linalg.jl:13</a></li> <li> +(A::<b>AbstractArray</b>, B::<b>AbstractArray</b>) in Base at <a href=\"https://github.com/JuliaLang/julia/tree/f9720dc2ebd6cd9e3086365f281e62506444ef37/base/arraymath.jl#L37\" target=\"_blank\">arraymath.jl:37</a></li> <li> +(a::<b>PyObject</b>) in PyCall at <a href=\"file:///home/buzzzer/.julia/packages/PyCall/tqyST/src/pyoperators.jl\" target=\"_blank\">/home/buzzzer/.julia/packages/PyCall/tqyST/src/pyoperators.jl:41</a></li> <li> +(a::<b>PyObject</b>, b::<b>PyObject</b>) in PyCall at <a href=\"file:///home/buzzzer/.julia/packages/PyCall/tqyST/src/pyoperators.jl\" target=\"_blank\">/home/buzzzer/.julia/packages/PyCall/tqyST/src/pyoperators.jl:11</a></li> <li> +(a::<b>PyObject</b>, b) in PyCall at <a href=\"file:///home/buzzzer/.julia/packages/PyCall/tqyST/src/pyoperators.jl\" target=\"_blank\">/home/buzzzer/.julia/packages/PyCall/tqyST/src/pyoperators.jl:13</a></li> <li> +(a::<b>Pkg.Resolve.FieldValue</b>, b::<b>Pkg.Resolve.FieldValue</b>) in Pkg.Resolve at <a href=\"file:///buildworker/worker/package_linux64/build/usr/share/julia/stdlib/v1.6/Pkg/src/Resolve/fieldvalues.jl\" target=\"_blank\">/opt/julia-1.6.0/share/julia/stdlib/v1.6/Pkg/src/Resolve/fieldvalues.jl:43</a></li> <li> +(x::<b>BigInt</b>, y::<b>BigInt</b>) in Base.GMP at <a href=\"https://github.com/JuliaLang/julia/tree/f9720dc2ebd6cd9e3086365f281e62506444ef37/base/gmp.jl#L479\" target=\"_blank\">gmp.jl:479</a></li> <li> +(a::<b>BigInt</b>, b::<b>BigInt</b>, c::<b>BigInt</b>) in Base.GMP at <a href=\"https://github.com/JuliaLang/julia/tree/f9720dc2ebd6cd9e3086365f281e62506444ef37/base/gmp.jl#L519\" target=\"_blank\">gmp.jl:519</a></li> <li> +(a::<b>BigInt</b>, b::<b>BigInt</b>, c::<b>BigInt</b>, d::<b>BigInt</b>) in Base.GMP at <a href=\"https://github.com/JuliaLang/julia/tree/f9720dc2ebd6cd9e3086365f281e62506444ef37/base/gmp.jl#L520\" target=\"_blank\">gmp.jl:520</a></li> <li> +(a::<b>BigInt</b>, b::<b>BigInt</b>, c::<b>BigInt</b>, d::<b>BigInt</b>, e::<b>BigInt</b>) in Base.GMP at <a href=\"https://github.com/JuliaLang/julia/tree/f9720dc2ebd6cd9e3086365f281e62506444ef37/base/gmp.jl#L521\" target=\"_blank\">gmp.jl:521</a></li> <li> +(x::<b>BigInt</b>, c::<b>Union{UInt16, UInt32, UInt64, UInt8}</b>) in Base.GMP at <a href=\"https://github.com/JuliaLang/julia/tree/f9720dc2ebd6cd9e3086365f281e62506444ef37/base/gmp.jl#L527\" target=\"_blank\">gmp.jl:527</a></li> <li> +(x::<b>BigInt</b>, c::<b>Union{Int16, Int32, Int64, Int8}</b>) in Base.GMP at <a href=\"https://github.com/JuliaLang/julia/tree/f9720dc2ebd6cd9e3086365f281e62506444ef37/base/gmp.jl#L533\" target=\"_blank\">gmp.jl:533</a></li> <li> +(c::<b>BigInt</b>, x::<b>BigFloat</b>) in Base.MPFR at <a href=\"https://github.com/JuliaLang/julia/tree/f9720dc2ebd6cd9e3086365f281e62506444ef37/base/mpfr.jl#L400\" target=\"_blank\">mpfr.jl:400</a></li> <li> +(::<b>Missing</b>) in Base at <a href=\"https://github.com/JuliaLang/julia/tree/f9720dc2ebd6cd9e3086365f281e62506444ef37/base/missing.jl#L101\" target=\"_blank\">missing.jl:101</a></li> <li> +(::<b>Missing</b>, ::<b>Missing</b>) in Base at <a href=\"https://github.com/JuliaLang/julia/tree/f9720dc2ebd6cd9e3086365f281e62506444ef37/base/missing.jl#L115\" target=\"_blank\">missing.jl:115</a></li> <li> +(::<b>Missing</b>, ::<b>Number</b>) in Base at <a href=\"https://github.com/JuliaLang/julia/tree/f9720dc2ebd6cd9e3086365f281e62506444ef37/base/missing.jl#L116\" target=\"_blank\">missing.jl:116</a></li> <li> +(x::<b>Missing</b>, y::<b>Dates.AbstractTime</b>) in Dates at <a href=\"file:///buildworker/worker/package_linux64/build/usr/share/julia/stdlib/v1.6/Dates/src/arithmetic.jl\" target=\"_blank\">/opt/julia-1.6.0/share/julia/stdlib/v1.6/Dates/src/arithmetic.jl:89</a></li> <li> +(dt::<b>Dates.DateTime</b>, y::<b>Dates.Year</b>) in Dates at <a href=\"file:///buildworker/worker/package_linux64/build/usr/share/julia/stdlib/v1.6/Dates/src/arithmetic.jl\" target=\"_blank\">/opt/julia-1.6.0/share/julia/stdlib/v1.6/Dates/src/arithmetic.jl:23</a></li> <li> +(dt::<b>Dates.DateTime</b>, z::<b>Dates.Month</b>) in Dates at <a href=\"file:///buildworker/worker/package_linux64/build/usr/share/julia/stdlib/v1.6/Dates/src/arithmetic.jl\" target=\"_blank\">/opt/julia-1.6.0/share/julia/stdlib/v1.6/Dates/src/arithmetic.jl:47</a></li> <li> +(x::<b>Dates.DateTime</b>, y::<b>Dates.Quarter</b>) in Dates at <a href=\"file:///buildworker/worker/package_linux64/build/usr/share/julia/stdlib/v1.6/Dates/src/arithmetic.jl\" target=\"_blank\">/opt/julia-1.6.0/share/julia/stdlib/v1.6/Dates/src/arithmetic.jl:75</a></li> <li> +(x::<b>Dates.DateTime</b>, y::<b>Dates.Period</b>) in Dates at <a href=\"file:///buildworker/worker/package_linux64/build/usr/share/julia/stdlib/v1.6/Dates/src/arithmetic.jl\" target=\"_blank\">/opt/julia-1.6.0/share/julia/stdlib/v1.6/Dates/src/arithmetic.jl:81</a></li> <li> +(a::<b>Pkg.Resolve.VersionWeight</b>, b::<b>Pkg.Resolve.VersionWeight</b>) in Pkg.Resolve at <a href=\"file:///buildworker/worker/package_linux64/build/usr/share/julia/stdlib/v1.6/Pkg/src/Resolve/versionweights.jl\" target=\"_blank\">/opt/julia-1.6.0/share/julia/stdlib/v1.6/Pkg/src/Resolve/versionweights.jl:22</a></li> <li> +(dt::<b>Dates.Date</b>, t::<b>Dates.Time</b>) in Dates at <a href=\"file:///buildworker/worker/package_linux64/build/usr/share/julia/stdlib/v1.6/Dates/src/arithmetic.jl\" target=\"_blank\">/opt/julia-1.6.0/share/julia/stdlib/v1.6/Dates/src/arithmetic.jl:19</a></li> <li> +(dt::<b>Dates.Date</b>, y::<b>Dates.Year</b>) in Dates at <a href=\"file:///buildworker/worker/package_linux64/build/usr/share/julia/stdlib/v1.6/Dates/src/arithmetic.jl\" target=\"_blank\">/opt/julia-1.6.0/share/julia/stdlib/v1.6/Dates/src/arithmetic.jl:27</a></li> <li> +(dt::<b>Dates.Date</b>, z::<b>Dates.Month</b>) in Dates at <a href=\"file:///buildworker/worker/package_linux64/build/usr/share/julia/stdlib/v1.6/Dates/src/arithmetic.jl\" target=\"_blank\">/opt/julia-1.6.0/share/julia/stdlib/v1.6/Dates/src/arithmetic.jl:54</a></li> <li> +(x::<b>Dates.Date</b>, y::<b>Dates.Quarter</b>) in Dates at <a href=\"file:///buildworker/worker/package_linux64/build/usr/share/julia/stdlib/v1.6/Dates/src/arithmetic.jl\" target=\"_blank\">/opt/julia-1.6.0/share/julia/stdlib/v1.6/Dates/src/arithmetic.jl:73</a></li> <li> +(x::<b>Dates.Date</b>, y::<b>Dates.Week</b>) in Dates at <a href=\"file:///buildworker/worker/package_linux64/build/usr/share/julia/stdlib/v1.6/Dates/src/arithmetic.jl\" target=\"_blank\">/opt/julia-1.6.0/share/julia/stdlib/v1.6/Dates/src/arithmetic.jl:77</a></li> <li> +(x::<b>Dates.Date</b>, y::<b>Dates.Day</b>) in Dates at <a href=\"file:///buildworker/worker/package_linux64/build/usr/share/julia/stdlib/v1.6/Dates/src/arithmetic.jl\" target=\"_blank\">/opt/julia-1.6.0/share/julia/stdlib/v1.6/Dates/src/arithmetic.jl:79</a></li> <li> +(x::<b>BigFloat</b>, y::<b>BigFloat</b>) in Base.MPFR at <a href=\"https://github.com/JuliaLang/julia/tree/f9720dc2ebd6cd9e3086365f281e62506444ef37/base/mpfr.jl#L364\" target=\"_blank\">mpfr.jl:364</a></li> <li> +(x::<b>BigFloat</b>, c::<b>Union{UInt16, UInt32, UInt64, UInt8}</b>) in Base.MPFR at <a href=\"https://github.com/JuliaLang/julia/tree/f9720dc2ebd6cd9e3086365f281e62506444ef37/base/mpfr.jl#L371\" target=\"_blank\">mpfr.jl:371</a></li> <li> +(x::<b>BigFloat</b>, c::<b>Union{Int16, Int32, Int64, Int8}</b>) in Base.MPFR at <a href=\"https://github.com/JuliaLang/julia/tree/f9720dc2ebd6cd9e3086365f281e62506444ef37/base/mpfr.jl#L379\" target=\"_blank\">mpfr.jl:379</a></li> <li> +(x::<b>BigFloat</b>, c::<b>Union{Float16, Float32, Float64}</b>) in Base.MPFR at <a href=\"https://github.com/JuliaLang/julia/tree/f9720dc2ebd6cd9e3086365f281e62506444ef37/base/mpfr.jl#L387\" target=\"_blank\">mpfr.jl:387</a></li> <li> +(x::<b>BigFloat</b>, c::<b>BigInt</b>) in Base.MPFR at <a href=\"https://github.com/JuliaLang/julia/tree/f9720dc2ebd6cd9e3086365f281e62506444ef37/base/mpfr.jl#L395\" target=\"_blank\">mpfr.jl:395</a></li> <li> +(a::<b>BigFloat</b>, b::<b>BigFloat</b>, c::<b>BigFloat</b>) in Base.MPFR at <a href=\"https://github.com/JuliaLang/julia/tree/f9720dc2ebd6cd9e3086365f281e62506444ef37/base/mpfr.jl#L536\" target=\"_blank\">mpfr.jl:536</a></li> <li> +(a::<b>BigFloat</b>, b::<b>BigFloat</b>, c::<b>BigFloat</b>, d::<b>BigFloat</b>) in Base.MPFR at <a href=\"https://github.com/JuliaLang/julia/tree/f9720dc2ebd6cd9e3086365f281e62506444ef37/base/mpfr.jl#L542\" target=\"_blank\">mpfr.jl:542</a></li> <li> +(a::<b>BigFloat</b>, b::<b>BigFloat</b>, c::<b>BigFloat</b>, d::<b>BigFloat</b>, e::<b>BigFloat</b>) in Base.MPFR at <a href=\"https://github.com/JuliaLang/julia/tree/f9720dc2ebd6cd9e3086365f281e62506444ef37/base/mpfr.jl#L549\" target=\"_blank\">mpfr.jl:549</a></li> <li> +(z::<b>Complex{Bool}</b>, x::<b>Bool</b>) in Base at <a href=\"https://github.com/JuliaLang/julia/tree/f9720dc2ebd6cd9e3086365f281e62506444ef37/base/complex.jl#L287\" target=\"_blank\">complex.jl:287</a></li> <li> +(z::<b>Complex</b>, x::<b>Bool</b>) in Base at <a href=\"https://github.com/JuliaLang/julia/tree/f9720dc2ebd6cd9e3086365f281e62506444ef37/base/complex.jl#L294\" target=\"_blank\">complex.jl:294</a></li> <li> +(z::<b>Complex{Bool}</b>, x::<b>Real</b>) in Base at <a href=\"https://github.com/JuliaLang/julia/tree/f9720dc2ebd6cd9e3086365f281e62506444ef37/base/complex.jl#L301\" target=\"_blank\">complex.jl:301</a></li> <li> +(z::<b>Complex</b>) in Base at <a href=\"https://github.com/JuliaLang/julia/tree/f9720dc2ebd6cd9e3086365f281e62506444ef37/base/complex.jl#L273\" target=\"_blank\">complex.jl:273</a></li> <li> +(z::<b>Complex</b>, x::<b>Real</b>) in Base at <a href=\"https://github.com/JuliaLang/julia/tree/f9720dc2ebd6cd9e3086365f281e62506444ef37/base/complex.jl#L313\" target=\"_blank\">complex.jl:313</a></li> <li> +(x::<b>Dates.CompoundPeriod</b>, y::<b>Dates.Period</b>) in Dates at <a href=\"file:///buildworker/worker/package_linux64/build/usr/share/julia/stdlib/v1.6/Dates/src/periods.jl\" target=\"_blank\">/opt/julia-1.6.0/share/julia/stdlib/v1.6/Dates/src/periods.jl:352</a></li> <li> +(x::<b>Dates.CompoundPeriod</b>, y::<b>Dates.CompoundPeriod</b>) in Dates at <a href=\"file:///buildworker/worker/package_linux64/build/usr/share/julia/stdlib/v1.6/Dates/src/periods.jl\" target=\"_blank\">/opt/julia-1.6.0/share/julia/stdlib/v1.6/Dates/src/periods.jl:354</a></li> <li> +(x::<b>Dates.CompoundPeriod</b>, y::<b>Dates.TimeType</b>) in Dates at <a href=\"file:///buildworker/worker/package_linux64/build/usr/share/julia/stdlib/v1.6/Dates/src/periods.jl\" target=\"_blank\">/opt/julia-1.6.0/share/julia/stdlib/v1.6/Dates/src/periods.jl:382</a></li> <li> +(level::<b>Base.CoreLogging.LogLevel</b>, inc::<b>Integer</b>) in Base.CoreLogging at <a href=\"https://github.com/JuliaLang/julia/tree/f9720dc2ebd6cd9e3086365f281e62506444ef37/base/logging.jl#L131\" target=\"_blank\">logging.jl:131</a></li> <li> +(x::<b>Rational{BigInt}</b>, y::<b>Rational{BigInt}</b>) in Base.GMP.MPQ at <a href=\"https://github.com/JuliaLang/julia/tree/f9720dc2ebd6cd9e3086365f281e62506444ef37/base/gmp.jl#L886\" target=\"_blank\">gmp.jl:886</a></li> <li> +(x::<b>Rational</b>) in Base at <a href=\"https://github.com/JuliaLang/julia/tree/f9720dc2ebd6cd9e3086365f281e62506444ef37/base/rational.jl#L267\" target=\"_blank\">rational.jl:267</a></li> <li> +(x::<b>Rational</b>, y::<b>Rational</b>) in Base at <a href=\"https://github.com/JuliaLang/julia/tree/f9720dc2ebd6cd9e3086365f281e62506444ef37/base/rational.jl#L283\" target=\"_blank\">rational.jl:283</a></li> <li> +(t::<b>Dates.Time</b>, dt::<b>Dates.Date</b>) in Dates at <a href=\"file:///buildworker/worker/package_linux64/build/usr/share/julia/stdlib/v1.6/Dates/src/arithmetic.jl\" target=\"_blank\">/opt/julia-1.6.0/share/julia/stdlib/v1.6/Dates/src/arithmetic.jl:20</a></li> <li> +(x::<b>Dates.Time</b>, y::<b>Dates.TimePeriod</b>) in Dates at <a href=\"file:///buildworker/worker/package_linux64/build/usr/share/julia/stdlib/v1.6/Dates/src/arithmetic.jl\" target=\"_blank\">/opt/julia-1.6.0/share/julia/stdlib/v1.6/Dates/src/arithmetic.jl:83</a></li> <li> +(x::<b>Dates.TimeType</b>) in Dates at <a href=\"file:///buildworker/worker/package_linux64/build/usr/share/julia/stdlib/v1.6/Dates/src/arithmetic.jl\" target=\"_blank\">/opt/julia-1.6.0/share/julia/stdlib/v1.6/Dates/src/arithmetic.jl:8</a></li> <li> +(a::<b>Dates.TimeType</b>, b::<b>Dates.Period</b>, c::<b>Dates.Period</b>) in Dates at <a href=\"file:///buildworker/worker/package_linux64/build/usr/share/julia/stdlib/v1.6/Dates/src/periods.jl\" target=\"_blank\">/opt/julia-1.6.0/share/julia/stdlib/v1.6/Dates/src/periods.jl:373</a></li> <li> +(a::<b>Dates.TimeType</b>, b::<b>Dates.Period</b>, c::<b>Dates.Period</b>, d::<b>Dates.Period...</b>) in Dates at <a href=\"file:///buildworker/worker/package_linux64/build/usr/share/julia/stdlib/v1.6/Dates/src/periods.jl\" target=\"_blank\">/opt/julia-1.6.0/share/julia/stdlib/v1.6/Dates/src/periods.jl:374</a></li> <li> +(x::<b>Dates.TimeType</b>, y::<b>Dates.CompoundPeriod</b>) in Dates at <a href=\"file:///buildworker/worker/package_linux64/build/usr/share/julia/stdlib/v1.6/Dates/src/periods.jl\" target=\"_blank\">/opt/julia-1.6.0/share/julia/stdlib/v1.6/Dates/src/periods.jl:376</a></li> <li> +(x::<b>String</b>, y::<b>String</b>) in Main at In[9]:1</li> <li> +(B::<b>BitMatrix</b>, J::<b>LinearAlgebra.UniformScaling</b>) in LinearAlgebra at <a href=\"file:///buildworker/worker/package_linux64/build/usr/share/julia/stdlib/v1.6/LinearAlgebra/src/uniformscaling.jl\" target=\"_blank\">/opt/julia-1.6.0/share/julia/stdlib/v1.6/LinearAlgebra/src/uniformscaling.jl:152</a></li> <li> +(A::<b>AbstractMatrix{T} where T</b>, J::<b>LinearAlgebra.UniformScaling</b>) in LinearAlgebra at <a href=\"file:///buildworker/worker/package_linux64/build/usr/share/julia/stdlib/v1.6/LinearAlgebra/src/uniformscaling.jl\" target=\"_blank\">/opt/julia-1.6.0/share/julia/stdlib/v1.6/LinearAlgebra/src/uniformscaling.jl:215</a></li> <li> +(x::<b>AbstractArray{var\"#s79\", N} where {var\"#s79\"<:Number, N}</b>) in Base at <a href=\"https://github.com/JuliaLang/julia/tree/f9720dc2ebd6cd9e3086365f281e62506444ef37/base/abstractarraymath.jl#L97\" target=\"_blank\">abstractarraymath.jl:97</a></li> <li> +(x::<b>Float32</b>, y::<b>Float32</b>) in Base at <a href=\"https://github.com/JuliaLang/julia/tree/f9720dc2ebd6cd9e3086365f281e62506444ef37/base/float.jl#L325\" target=\"_blank\">float.jl:325</a></li> <li> +(x::<b>Float64</b>, y::<b>Float64</b>) in Base at <a href=\"https://github.com/JuliaLang/julia/tree/f9720dc2ebd6cd9e3086365f281e62506444ef37/base/float.jl#L326\" target=\"_blank\">float.jl:326</a></li> <li> +(x::<b>Bool</b>) in Base at <a href=\"https://github.com/JuliaLang/julia/tree/f9720dc2ebd6cd9e3086365f281e62506444ef37/base/bool.jl#L89\" target=\"_blank\">bool.jl:89</a></li> <li> +(x::<b>Integer</b>, y::<b>Ptr</b>) in Base at <a href=\"https://github.com/JuliaLang/julia/tree/f9720dc2ebd6cd9e3086365f281e62506444ef37/base/pointer.jl#L161\" target=\"_blank\">pointer.jl:161</a></li> <li> +(y::<b>Integer</b>, x::<b>Rational</b>) in Base at <a href=\"https://github.com/JuliaLang/julia/tree/f9720dc2ebd6cd9e3086365f281e62506444ef37/base/rational.jl#L295\" target=\"_blank\">rational.jl:295</a></li> <li> +(x::<b>Integer</b>, y::<b>AbstractChar</b>) in Base at <a href=\"https://github.com/JuliaLang/julia/tree/f9720dc2ebd6cd9e3086365f281e62506444ef37/base/char.jl#L224\" target=\"_blank\">char.jl:224</a></li> <li> +(x::<b>Number</b>, y::<b>Base.TwicePrecision</b>) in Base at <a href=\"https://github.com/JuliaLang/julia/tree/f9720dc2ebd6cd9e3086365f281e62506444ef37/base/twiceprecision.jl#L271\" target=\"_blank\">twiceprecision.jl:271</a></li> <li> +(::<b>Number</b>, ::<b>Missing</b>) in Base at <a href=\"https://github.com/JuliaLang/julia/tree/f9720dc2ebd6cd9e3086365f281e62506444ef37/base/missing.jl#L117\" target=\"_blank\">missing.jl:117</a></li> <li> +(x::<b>Number</b>, J::<b>LinearAlgebra.UniformScaling</b>) in LinearAlgebra at <a href=\"file:///buildworker/worker/package_linux64/build/usr/share/julia/stdlib/v1.6/LinearAlgebra/src/uniformscaling.jl\" target=\"_blank\">/opt/julia-1.6.0/share/julia/stdlib/v1.6/LinearAlgebra/src/uniformscaling.jl:146</a></li> <li> +(x::<b>Bool</b>, y::<b>Bool</b>) in Base at <a href=\"https://github.com/JuliaLang/julia/tree/f9720dc2ebd6cd9e3086365f281e62506444ef37/base/bool.jl#L92\" target=\"_blank\">bool.jl:92</a></li> <li> +(a::<b>Integer</b>, b::<b>Integer</b>) in Base at <a href=\"https://github.com/JuliaLang/julia/tree/f9720dc2ebd6cd9e3086365f281e62506444ef37/base/int.jl#L919\" target=\"_blank\">int.jl:919</a></li> <li> +(x::<b>Bool</b>, y::<b>T</b>)<i> where T<:AbstractFloat</i> in Base at <a href=\"https://github.com/JuliaLang/julia/tree/f9720dc2ebd6cd9e3086365f281e62506444ef37/base/bool.jl#L99\" target=\"_blank\">bool.jl:99</a></li> <li> +(x::<b>Bool</b>, z::<b>Complex{Bool}</b>) in Base at <a href=\"https://github.com/JuliaLang/julia/tree/f9720dc2ebd6cd9e3086365f281e62506444ef37/base/complex.jl#L286\" target=\"_blank\">complex.jl:286</a></li> <li> +(x::<b>Real</b>, z::<b>Complex{Bool}</b>) in Base at <a href=\"https://github.com/JuliaLang/julia/tree/f9720dc2ebd6cd9e3086365f281e62506444ef37/base/complex.jl#L300\" target=\"_blank\">complex.jl:300</a></li> <li> +(x::<b>Bool</b>, z::<b>Complex</b>) in Base at <a href=\"https://github.com/JuliaLang/julia/tree/f9720dc2ebd6cd9e3086365f281e62506444ef37/base/complex.jl#L293\" target=\"_blank\">complex.jl:293</a></li> <li> +(x::<b>Real</b>, z::<b>Complex</b>) in Base at <a href=\"https://github.com/JuliaLang/julia/tree/f9720dc2ebd6cd9e3086365f281e62506444ef37/base/complex.jl#L312\" target=\"_blank\">complex.jl:312</a></li> <li> +(x::<b>Float16</b>, y::<b>Float16</b>) in Base at <a href=\"https://github.com/JuliaLang/julia/tree/f9720dc2ebd6cd9e3086365f281e62506444ef37/base/float.jl#L324\" target=\"_blank\">float.jl:324</a></li> <li> +(x::<b>Number</b>) in Base at <a href=\"https://github.com/JuliaLang/julia/tree/f9720dc2ebd6cd9e3086365f281e62506444ef37/base/operators.jl#L515\" target=\"_blank\">operators.jl:515</a></li> <li> +(a, b::<b>PyObject</b>) in PyCall at <a href=\"file:///home/buzzzer/.julia/packages/PyCall/tqyST/src/pyoperators.jl\" target=\"_blank\">/home/buzzzer/.julia/packages/PyCall/tqyST/src/pyoperators.jl:14</a></li> <li> +(x::<b>T</b>, y::<b>T</b>)<i> where T<:Number</i> in Base at <a href=\"https://github.com/JuliaLang/julia/tree/f9720dc2ebd6cd9e3086365f281e62506444ef37/base/promotion.jl#L396\" target=\"_blank\">promotion.jl:396</a></li> <li> +(x::<b>Number</b>, y::<b>Number</b>) in Base at <a href=\"https://github.com/JuliaLang/julia/tree/f9720dc2ebd6cd9e3086365f281e62506444ef37/base/promotion.jl#L321\" target=\"_blank\">promotion.jl:321</a></li> <li> +(a, b, c, xs...) in Base at <a href=\"https://github.com/JuliaLang/julia/tree/f9720dc2ebd6cd9e3086365f281e62506444ef37/base/operators.jl#L560\" target=\"_blank\">operators.jl:560</a></li> </ul>"
      ],
      "text/plain": [
       "# 210 methods for generic function \"+\":\n",
       "[1] +(x::T, y::T) where T<:Union{Int128, Int16, Int32, Int64, Int8, UInt128, UInt16, UInt32, UInt64, UInt8} in Base at int.jl:87\n",
       "[2] +(c::Union{UInt16, UInt32, UInt64, UInt8}, x::BigInt) in Base.GMP at gmp.jl:528\n",
       "[3] +(c::Union{Int16, Int32, Int64, Int8}, x::BigInt) in Base.GMP at gmp.jl:534\n",
       "[4] +(c::Union{UInt16, UInt32, UInt64, UInt8}, x::BigFloat) in Base.MPFR at mpfr.jl:376\n",
       "[5] +(c::Union{Int16, Int32, Int64, Int8}, x::BigFloat) in Base.MPFR at mpfr.jl:384\n",
       "[6] +(c::Union{Float16, Float32, Float64}, x::BigFloat) in Base.MPFR at mpfr.jl:392\n",
       "[7] +(x::Union{Dates.CompoundPeriod, Dates.Period}) in Dates at /opt/julia-1.6.0/share/julia/stdlib/v1.6/Dates/src/periods.jl:362\n",
       "[8] +(a::Union{LMS, XYZ}, b::Union{LMS, XYZ}) in Colors at /home/buzzzer/.julia/packages/Colors/hpqjg/src/algorithms.jl:4\n",
       "[9] +(index1::CartesianIndex{N}, index2::CartesianIndex{N}) where N in Base.IteratorsMD at multidimensional.jl:114\n",
       "[10] +(a::Tuple{Vararg{Measures.Measure, N}}, b::Tuple{Vararg{Measures.Measure, N}}) where N in Measures at /home/buzzzer/.julia/packages/Measures/0Zkai/src/point.jl:21\n",
       "[11] +(a::Tuple{Vararg{Measures.Measure, N}} where N, b::Tuple{Vararg{Measures.Measure, N}} where N) in Measures at /home/buzzzer/.julia/packages/Measures/0Zkai/src/point.jl:15\n",
       "[12] +(A::SparseArrays.AbstractSparseMatrix{Tv, Ti} where {Tv, Ti}, B::LinearAlgebra.Hermitian{var\"#s832\", var\"#s831\"} where {var\"#s832\", var\"#s831\"<:(SparseArrays.AbstractSparseMatrix{Tv, Ti} where {Tv, Ti})}) in SparseArrays at /opt/julia-1.6.0/share/julia/stdlib/v1.6/SparseArrays/src/linalg.jl:14\n",
       "[13] +(A::SparseArrays.AbstractSparseMatrix{Tv, Ti} where {Tv, Ti}, B::LinearAlgebra.Hermitian) in SparseArrays at /opt/julia-1.6.0/share/julia/stdlib/v1.6/SparseArrays/src/linalg.jl:17\n",
       "[14] +(A::SparseArrays.AbstractSparseMatrix{Tv, Ti} where {Tv, Ti}, B::LinearAlgebra.Symmetric{var\"#s832\", var\"#s831\"} where {var\"#s832\", var\"#s831\"<:(SparseArrays.AbstractSparseMatrix{Tv, Ti} where {Tv, Ti})}) in SparseArrays at /opt/julia-1.6.0/share/julia/stdlib/v1.6/SparseArrays/src/linalg.jl:14\n",
       "[15] +(A::SparseArrays.AbstractSparseMatrix{Tv, Ti} where {Tv, Ti}, B::LinearAlgebra.Symmetric) in SparseArrays at /opt/julia-1.6.0/share/julia/stdlib/v1.6/SparseArrays/src/linalg.jl:17\n",
       "[16] +(Da::LinearAlgebra.Diagonal, Db::LinearAlgebra.Diagonal) in LinearAlgebra at /opt/julia-1.6.0/share/julia/stdlib/v1.6/LinearAlgebra/src/diagonal.jl:156\n",
       "[17] +(D::LinearAlgebra.Diagonal, S::LinearAlgebra.Symmetric) in LinearAlgebra at /opt/julia-1.6.0/share/julia/stdlib/v1.6/LinearAlgebra/src/diagonal.jl:160\n",
       "[18] +(D::LinearAlgebra.Diagonal{var\"#s832\", V} where {var\"#s832\"<:Real, V<:AbstractVector{var\"#s832\"}}, H::LinearAlgebra.Hermitian) in LinearAlgebra at /opt/julia-1.6.0/share/julia/stdlib/v1.6/LinearAlgebra/src/diagonal.jl:166\n",
       "[19] +(A::LinearAlgebra.Diagonal, B::LinearAlgebra.Bidiagonal) in LinearAlgebra at /opt/julia-1.6.0/share/julia/stdlib/v1.6/LinearAlgebra/src/special.jl:125\n",
       "[20] +(A::LinearAlgebra.Diagonal, B::LinearAlgebra.SymTridiagonal) in LinearAlgebra at /opt/julia-1.6.0/share/julia/stdlib/v1.6/LinearAlgebra/src/special.jl:135\n",
       "[21] +(A::LinearAlgebra.Diagonal, B::LinearAlgebra.Tridiagonal) in LinearAlgebra at /opt/julia-1.6.0/share/julia/stdlib/v1.6/LinearAlgebra/src/special.jl:163\n",
       "[22] +(A::LinearAlgebra.Diagonal{var\"#s832\", V} where {var\"#s832\"<:Number, V<:AbstractVector{var\"#s832\"}}, B::LinearAlgebra.UniformScaling) in LinearAlgebra at /opt/julia-1.6.0/share/julia/stdlib/v1.6/LinearAlgebra/src/special.jl:241\n",
       "[23] +(x::Base.TwicePrecision, y::Number) in Base at twiceprecision.jl:267\n",
       "[24] +(x::Base.TwicePrecision{T}, y::Base.TwicePrecision{T}) where T in Base at twiceprecision.jl:273\n",
       "[25] +(x::Base.TwicePrecision, y::Base.TwicePrecision) in Base at twiceprecision.jl:278\n",
       "[26] +(a::Measures.Length{U, T} where T, b::Measures.Length{U, T} where T) where U in Measures at /home/buzzzer/.julia/packages/Measures/0Zkai/src/length.jl:28\n",
       "[27] +(x::P, y::P) where P<:Dates.Period in Dates at /opt/julia-1.6.0/share/julia/stdlib/v1.6/Dates/src/periods.jl:79\n",
       "[28] +(x::Dates.Period, y::Dates.Period) in Dates at /opt/julia-1.6.0/share/julia/stdlib/v1.6/Dates/src/periods.jl:351\n",
       "[29] +(y::Dates.Period, x::Dates.CompoundPeriod) in Dates at /opt/julia-1.6.0/share/julia/stdlib/v1.6/Dates/src/periods.jl:353\n",
       "[30] +(y::Dates.Period, x::Dates.TimeType) in Dates at /opt/julia-1.6.0/share/julia/stdlib/v1.6/Dates/src/arithmetic.jl:85\n",
       "[31] +(x::Dates.Period, r::AbstractRange{var\"#s832\"} where var\"#s832\"<:Dates.TimeType) in Dates at /opt/julia-1.6.0/share/julia/stdlib/v1.6/Dates/src/ranges.jl:62\n",
       "[32] +(y::Union{Dates.CompoundPeriod, Dates.Period}, x::AbstractArray{var\"#s832\", N} where {var\"#s832\"<:Dates.TimeType, N}) in Dates at /opt/julia-1.6.0/share/julia/stdlib/v1.6/Dates/src/deprecated.jl:14\n",
       "[33] +(J::LinearAlgebra.UniformScaling) in LinearAlgebra at /opt/julia-1.6.0/share/julia/stdlib/v1.6/LinearAlgebra/src/uniformscaling.jl:150\n",
       "[34] +(J::LinearAlgebra.UniformScaling, x::Number) in LinearAlgebra at /opt/julia-1.6.0/share/julia/stdlib/v1.6/LinearAlgebra/src/uniformscaling.jl:145\n",
       "[35] +(J1::LinearAlgebra.UniformScaling, J2::LinearAlgebra.UniformScaling) in LinearAlgebra at /opt/julia-1.6.0/share/julia/stdlib/v1.6/LinearAlgebra/src/uniformscaling.jl:151\n",
       "[36] +(J::LinearAlgebra.UniformScaling, B::BitMatrix) in LinearAlgebra at /opt/julia-1.6.0/share/julia/stdlib/v1.6/LinearAlgebra/src/uniformscaling.jl:153\n",
       "[37] +(J::LinearAlgebra.UniformScaling, F::LinearAlgebra.Hessenberg) in LinearAlgebra at /opt/julia-1.6.0/share/julia/stdlib/v1.6/LinearAlgebra/src/hessenberg.jl:560\n",
       "[38] +(A::LinearAlgebra.UniformScaling, B::LinearAlgebra.Tridiagonal{var\"#s832\", V} where {var\"#s832\"<:Number, V<:AbstractVector{var\"#s832\"}}) in LinearAlgebra at /opt/julia-1.6.0/share/julia/stdlib/v1.6/LinearAlgebra/src/special.jl:245\n",
       "[39] +(A::LinearAlgebra.UniformScaling, B::LinearAlgebra.SymTridiagonal{var\"#s832\", V} where {var\"#s832\"<:Number, V<:AbstractVector{var\"#s832\"}}) in LinearAlgebra at /opt/julia-1.6.0/share/julia/stdlib/v1.6/LinearAlgebra/src/special.jl:250\n",
       "[40] +(A::LinearAlgebra.UniformScaling, B::LinearAlgebra.Bidiagonal{var\"#s832\", V} where {var\"#s832\"<:Number, V<:AbstractVector{var\"#s832\"}}) in LinearAlgebra at /opt/julia-1.6.0/share/julia/stdlib/v1.6/LinearAlgebra/src/special.jl:255\n",
       "[41] +(A::LinearAlgebra.UniformScaling, B::LinearAlgebra.Diagonal{var\"#s832\", V} where {var\"#s832\"<:Number, V<:AbstractVector{var\"#s832\"}}) in LinearAlgebra at /opt/julia-1.6.0/share/julia/stdlib/v1.6/LinearAlgebra/src/special.jl:260\n",
       "[42] +(a::LinearAlgebra.UniformScaling, b::StaticArrays.StaticMatrix{N, M, T} where {N, M, T}) in StaticArrays at /home/buzzzer/.julia/packages/StaticArrays/rdb0l/src/linalg.jl:29\n",
       "[43] +(J::LinearAlgebra.UniformScaling, A::AbstractMatrix{T} where T) in LinearAlgebra at /opt/julia-1.6.0/share/julia/stdlib/v1.6/LinearAlgebra/src/uniformscaling.jl:154\n",
       "[44] +(h::GeometryBasics.HyperRectangle{N, T}, move::StaticArrays.StaticVector{N, T} where T) where {N, T} in GeometryBasics at /home/buzzzer/.julia/packages/GeometryBasics/qasyR/src/primitives/rectangles.jl:273\n",
       "[45] +(h::GeometryBasics.HyperRectangle{N, T}, move::Number) where {N, T} in GeometryBasics at /home/buzzzer/.julia/packages/GeometryBasics/qasyR/src/primitives/rectangles.jl:267\n",
       "[46] +(x::AbstractIrrational, y::AbstractIrrational) in Base at irrationals.jl:156\n",
       "[47] +(x::GeometryBasics.OffsetInteger{O, T} where T<:Integer, y::GeometryBasics.OffsetInteger{O, T} where T<:Integer) where O in GeometryBasics at /home/buzzzer/.julia/packages/GeometryBasics/qasyR/src/offsetintegers.jl:63\n",
       "[48] +(x::Dates.Instant) in Dates at /opt/julia-1.6.0/share/julia/stdlib/v1.6/Dates/src/arithmetic.jl:4\n",
       "[49] +(A::LinearAlgebra.Bidiagonal, B::LinearAlgebra.Bidiagonal) in LinearAlgebra at /opt/julia-1.6.0/share/julia/stdlib/v1.6/LinearAlgebra/src/bidiag.jl:354\n",
       "[50] +(A::LinearAlgebra.Bidiagonal, B::LinearAlgebra.UpperTriangular) in LinearAlgebra at /opt/julia-1.6.0/share/julia/stdlib/v1.6/LinearAlgebra/src/special.jl:94\n",
       "[51] +(A::LinearAlgebra.Bidiagonal, B::LinearAlgebra.UnitUpperTriangular) in LinearAlgebra at /opt/julia-1.6.0/share/julia/stdlib/v1.6/LinearAlgebra/src/special.jl:94\n",
       "[52] +(A::LinearAlgebra.Bidiagonal, B::LinearAlgebra.LowerTriangular) in LinearAlgebra at /opt/julia-1.6.0/share/julia/stdlib/v1.6/LinearAlgebra/src/special.jl:94\n",
       "[53] +(A::LinearAlgebra.Bidiagonal, B::LinearAlgebra.UnitLowerTriangular) in LinearAlgebra at /opt/julia-1.6.0/share/julia/stdlib/v1.6/LinearAlgebra/src/special.jl:94\n",
       "[54] +(A::LinearAlgebra.Bidiagonal, B::LinearAlgebra.Diagonal) in LinearAlgebra at /opt/julia-1.6.0/share/julia/stdlib/v1.6/LinearAlgebra/src/special.jl:115\n",
       "[55] +(A::LinearAlgebra.Bidiagonal, B::LinearAlgebra.Tridiagonal) in LinearAlgebra at /opt/julia-1.6.0/share/julia/stdlib/v1.6/LinearAlgebra/src/special.jl:183\n",
       "[56] +(A::LinearAlgebra.Bidiagonal, B::LinearAlgebra.SymTridiagonal) in LinearAlgebra at /opt/julia-1.6.0/share/julia/stdlib/v1.6/LinearAlgebra/src/special.jl:203\n",
       "[57] +(A::LinearAlgebra.Bidiagonal{var\"#s832\", V} where {var\"#s832\"<:Number, V<:AbstractVector{var\"#s832\"}}, B::LinearAlgebra.UniformScaling) in LinearAlgebra at /opt/julia-1.6.0/share/julia/stdlib/v1.6/LinearAlgebra/src/special.jl:236\n",
       "[58] +(A::LinearAlgebra.UnitLowerTriangular, B::LinearAlgebra.LowerTriangular) in LinearAlgebra at /opt/julia-1.6.0/share/julia/stdlib/v1.6/LinearAlgebra/src/triangular.jl:653\n",
       "[59] +(A::LinearAlgebra.UnitLowerTriangular, B::LinearAlgebra.UnitLowerTriangular) in LinearAlgebra at /opt/julia-1.6.0/share/julia/stdlib/v1.6/LinearAlgebra/src/triangular.jl:655\n",
       "[60] +(UL::LinearAlgebra.UnitLowerTriangular, J::LinearAlgebra.UniformScaling) in LinearAlgebra at /opt/julia-1.6.0/share/julia/stdlib/v1.6/LinearAlgebra/src/uniformscaling.jl:182\n",
       "[61] +(A::LinearAlgebra.UnitLowerTriangular, B::LinearAlgebra.Bidiagonal) in LinearAlgebra at /opt/julia-1.6.0/share/julia/stdlib/v1.6/LinearAlgebra/src/special.jl:86\n",
       "[62] +(A::LinearAlgebra.UpperHessenberg, B::LinearAlgebra.UpperHessenberg) in LinearAlgebra at /opt/julia-1.6.0/share/julia/stdlib/v1.6/LinearAlgebra/src/hessenberg.jl:101\n",
       "[63] +(H::LinearAlgebra.UpperHessenberg, J::LinearAlgebra.UniformScaling) in LinearAlgebra at /opt/julia-1.6.0/share/julia/stdlib/v1.6/LinearAlgebra/src/hessenberg.jl:106\n",
       "[64] +(A::LinearAlgebra.Symmetric, B::LinearAlgebra.Symmetric) in LinearAlgebra at /opt/julia-1.6.0/share/julia/stdlib/v1.6/LinearAlgebra/src/symmetric.jl:469\n",
       "[65] +(S::LinearAlgebra.Symmetric, D::LinearAlgebra.Diagonal) in LinearAlgebra at /opt/julia-1.6.0/share/julia/stdlib/v1.6/LinearAlgebra/src/diagonal.jl:163\n",
       "[66] +(A::LinearAlgebra.Symmetric{var\"#s830\", var\"#s829\"} where {var\"#s830\", var\"#s829\"<:(SparseArrays.AbstractSparseMatrix{Tv, Ti} where {Tv, Ti})}, B::SparseArrays.AbstractSparseMatrix{Tv, Ti} where {Tv, Ti}) in SparseArrays at /opt/julia-1.6.0/share/julia/stdlib/v1.6/SparseArrays/src/linalg.jl:15\n",
       "[67] +(A::LinearAlgebra.Symmetric, B::SparseArrays.AbstractSparseMatrix{Tv, Ti} where {Tv, Ti}) in SparseArrays at /opt/julia-1.6.0/share/julia/stdlib/v1.6/SparseArrays/src/linalg.jl:18\n",
       "[68] +(A::LinearAlgebra.Symmetric{var\"#s824\", var\"#s823\"} where {var\"#s824\"<:Real, var\"#s823\"<:(SparseArrays.AbstractSparseMatrix{Tv, Ti} where {Tv, Ti})}, B::LinearAlgebra.Hermitian{var\"#s822\", var\"#s821\"} where {var\"#s822\", var\"#s821\"<:(SparseArrays.AbstractSparseMatrix{Tv, Ti} where {Tv, Ti})}) in SparseArrays at /opt/julia-1.6.0/share/julia/stdlib/v1.6/SparseArrays/src/linalg.jl:25\n",
       "[69] +(A::LinearAlgebra.Symmetric{var\"#s831\", S} where {var\"#s831\"<:Real, S<:(AbstractMatrix{var\"#s832\"} where var\"#s832\"<:var\"#s831\")}, B::LinearAlgebra.Hermitian) in LinearAlgebra at /opt/julia-1.6.0/share/julia/stdlib/v1.6/LinearAlgebra/src/symmetric.jl:484\n",
       "[70] +(A::LinearAlgebra.Symmetric{var\"#s832\", var\"#s831\"} where {var\"#s832\", var\"#s831\"<:(SparseArrays.AbstractSparseMatrix{Tv, Ti} where {Tv, Ti})}, B::LinearAlgebra.Hermitian{var\"#s830\", var\"#s829\"} where {var\"#s830\", var\"#s829\"<:(SparseArrays.AbstractSparseMatrix{Tv, Ti} where {Tv, Ti})}) in SparseArrays at /opt/julia-1.6.0/share/julia/stdlib/v1.6/SparseArrays/src/linalg.jl:23\n",
       "[71] +(A::LinearAlgebra.SymTridiagonal, B::LinearAlgebra.SymTridiagonal) in LinearAlgebra at /opt/julia-1.6.0/share/julia/stdlib/v1.6/LinearAlgebra/src/tridiag.jl:205\n",
       "[72] +(A::LinearAlgebra.SymTridiagonal, B::LinearAlgebra.Diagonal) in LinearAlgebra at /opt/julia-1.6.0/share/julia/stdlib/v1.6/LinearAlgebra/src/special.jl:145\n",
       "[73] +(A::LinearAlgebra.SymTridiagonal, B::LinearAlgebra.Tridiagonal) in LinearAlgebra at /opt/julia-1.6.0/share/julia/stdlib/v1.6/LinearAlgebra/src/special.jl:159\n",
       "[74] +(A::LinearAlgebra.SymTridiagonal, B::LinearAlgebra.Bidiagonal) in LinearAlgebra at /opt/julia-1.6.0/share/julia/stdlib/v1.6/LinearAlgebra/src/special.jl:213\n",
       "[75] +(A::LinearAlgebra.SymTridiagonal{var\"#s832\", V} where {var\"#s832\"<:Number, V<:AbstractVector{var\"#s832\"}}, B::LinearAlgebra.UniformScaling) in LinearAlgebra at /opt/julia-1.6.0/share/julia/stdlib/v1.6/LinearAlgebra/src/special.jl:231\n",
       "[76] +(r1::LinRange{T}, r2::LinRange{T}) where T in Base at range.jl:1108\n",
       "[77] +(A::LinearAlgebra.UnitUpperTriangular, B::LinearAlgebra.UpperTriangular) in LinearAlgebra at /opt/julia-1.6.0/share/julia/stdlib/v1.6/LinearAlgebra/src/triangular.jl:652\n",
       "[78] +(A::LinearAlgebra.UnitUpperTriangular, B::LinearAlgebra.UnitUpperTriangular) in LinearAlgebra at /opt/julia-1.6.0/share/julia/stdlib/v1.6/LinearAlgebra/src/triangular.jl:654\n",
       "[79] +(UL::LinearAlgebra.UnitUpperTriangular, J::LinearAlgebra.UniformScaling) in LinearAlgebra at /opt/julia-1.6.0/share/julia/stdlib/v1.6/LinearAlgebra/src/uniformscaling.jl:182\n",
       "[80] +(A::LinearAlgebra.UnitUpperTriangular, B::LinearAlgebra.Bidiagonal) in LinearAlgebra at /opt/julia-1.6.0/share/julia/stdlib/v1.6/LinearAlgebra/src/special.jl:86\n",
       "[81] +(A::Array, Bs::Array...) in Base at arraymath.jl:43\n",
       "[82] +(X::StridedArray{var\"#s832\", N} where {var\"#s832\"<:Union{Dates.CompoundPeriod, Dates.Period}, N}, Y::StridedArray{var\"#s831\", N} where {var\"#s831\"<:Union{Dates.CompoundPeriod, Dates.Period}, N}) in Dates at /opt/julia-1.6.0/share/julia/stdlib/v1.6/Dates/src/deprecated.jl:62\n",
       "[83] +(A::Array, B::SparseArrays.AbstractSparseMatrixCSC) in SparseArrays at /opt/julia-1.6.0/share/julia/stdlib/v1.6/SparseArrays/src/sparsematrix.jl:1745\n",
       "[84] +(x::StridedArray{var\"#s832\", N} where {var\"#s832\"<:Union{Dates.CompoundPeriod, Dates.Period}, N}) in Dates at /opt/julia-1.6.0/share/julia/stdlib/v1.6/Dates/src/deprecated.jl:55\n",
       "[85] +(x::StridedArray{var\"#s832\", N} where {var\"#s832\"<:Union{Dates.CompoundPeriod, Dates.Period}, N}, y::Dates.TimeType) in Dates at /opt/julia-1.6.0/share/julia/stdlib/v1.6/Dates/src/deprecated.jl:10\n",
       "[86] +(r1::StepRangeLen{T, R, S} where S, r2::StepRangeLen{T, R, S} where S) where {R<:Base.TwicePrecision, T} in Base at twiceprecision.jl:574\n",
       "[87] +(r1::StepRangeLen{T, S, S1} where S1, r2::StepRangeLen{T, S, S1} where S1) where {T, S} in Base at range.jl:1124\n",
       "[88] +(a::Measures.Measure, b::Measures.Measure) in Measures at /home/buzzzer/.julia/packages/Measures/0Zkai/src/operations.jl:41\n",
       "[89] +(y::Dates.TimeType, x::StridedArray{var\"#s832\", N} where {var\"#s832\"<:Union{Dates.CompoundPeriod, Dates.Period}, N}) in Dates at /opt/julia-1.6.0/share/julia/stdlib/v1.6/Dates/src/deprecated.jl:18\n",
       "[90] +(x::T, y::Integer) where T<:AbstractChar in Base at char.jl:223\n",
       "[91] +(A::BitArray, B::BitArray) in Base at bitarray.jl:1127\n",
       "[92] +(x::Ptr, y::Integer) in Base at pointer.jl:159\n",
       "[93] +(y::AbstractFloat, x::Bool) in Base at bool.jl:102\n",
       "[94] +(x::Dates.AbstractTime, y::Missing) in Dates at /opt/julia-1.6.0/share/julia/stdlib/v1.6/Dates/src/arithmetic.jl:88\n",
       "[95] +(A::LinearAlgebra.LowerTriangular, B::LinearAlgebra.LowerTriangular) in LinearAlgebra at /opt/julia-1.6.0/share/julia/stdlib/v1.6/LinearAlgebra/src/triangular.jl:649\n",
       "[96] +(A::LinearAlgebra.LowerTriangular, B::LinearAlgebra.UnitLowerTriangular) in LinearAlgebra at /opt/julia-1.6.0/share/julia/stdlib/v1.6/LinearAlgebra/src/triangular.jl:651\n",
       "[97] +(A::LinearAlgebra.LowerTriangular, B::LinearAlgebra.Bidiagonal) in LinearAlgebra at /opt/julia-1.6.0/share/julia/stdlib/v1.6/LinearAlgebra/src/special.jl:86\n",
       "[98] +(r1::OrdinalRange, r2::OrdinalRange) in Base at range.jl:1101\n",
       "[99] +(r1::Union{LinRange, OrdinalRange, StepRangeLen}, r2::Union{LinRange, OrdinalRange, StepRangeLen}) in Base at range.jl:1117\n",
       "[100] +(A::LinearAlgebra.Tridiagonal, B::LinearAlgebra.Tridiagonal) in LinearAlgebra at /opt/julia-1.6.0/share/julia/stdlib/v1.6/LinearAlgebra/src/tridiag.jl:733\n",
       "[101] +(A::LinearAlgebra.Tridiagonal, B::LinearAlgebra.SymTridiagonal) in LinearAlgebra at /opt/julia-1.6.0/share/julia/stdlib/v1.6/LinearAlgebra/src/special.jl:157\n",
       "[102] +(A::LinearAlgebra.Tridiagonal, B::LinearAlgebra.Diagonal) in LinearAlgebra at /opt/julia-1.6.0/share/julia/stdlib/v1.6/LinearAlgebra/src/special.jl:173\n",
       "[103] +(A::LinearAlgebra.Tridiagonal, B::LinearAlgebra.Bidiagonal) in LinearAlgebra at /opt/julia-1.6.0/share/julia/stdlib/v1.6/LinearAlgebra/src/special.jl:193\n",
       "[104] +(A::LinearAlgebra.Tridiagonal{var\"#s832\", V} where {var\"#s832\"<:Number, V<:AbstractVector{var\"#s832\"}}, B::LinearAlgebra.UniformScaling) in LinearAlgebra at /opt/julia-1.6.0/share/julia/stdlib/v1.6/LinearAlgebra/src/special.jl:226\n",
       "[105] +(r::AbstractRange{var\"#s832\"} where var\"#s832\"<:Dates.TimeType, x::Dates.Period) in Dates at /opt/julia-1.6.0/share/julia/stdlib/v1.6/Dates/src/ranges.jl:63\n",
       "[106] +(A::LinearAlgebra.Hermitian, B::LinearAlgebra.Hermitian) in LinearAlgebra at /opt/julia-1.6.0/share/julia/stdlib/v1.6/LinearAlgebra/src/symmetric.jl:469\n",
       "[107] +(H::LinearAlgebra.Hermitian, D::LinearAlgebra.Diagonal{var\"#s832\", V} where {var\"#s832\"<:Real, V<:AbstractVector{var\"#s832\"}}) in LinearAlgebra at /opt/julia-1.6.0/share/julia/stdlib/v1.6/LinearAlgebra/src/diagonal.jl:169\n",
       "[108] +(A::LinearAlgebra.Hermitian, J::LinearAlgebra.UniformScaling{var\"#s832\"} where var\"#s832\"<:Complex) in LinearAlgebra at /opt/julia-1.6.0/share/julia/stdlib/v1.6/LinearAlgebra/src/uniformscaling.jl:196\n",
       "[109] +(A::LinearAlgebra.Hermitian{var\"#s830\", var\"#s829\"} where {var\"#s830\", var\"#s829\"<:(SparseArrays.AbstractSparseMatrix{Tv, Ti} where {Tv, Ti})}, B::SparseArrays.AbstractSparseMatrix{Tv, Ti} where {Tv, Ti}) in SparseArrays at /opt/julia-1.6.0/share/julia/stdlib/v1.6/SparseArrays/src/linalg.jl:15\n",
       "[110] +(A::LinearAlgebra.Hermitian, B::SparseArrays.AbstractSparseMatrix{Tv, Ti} where {Tv, Ti}) in SparseArrays at /opt/julia-1.6.0/share/julia/stdlib/v1.6/SparseArrays/src/linalg.jl:18\n",
       "[111] +(A::LinearAlgebra.Hermitian{var\"#s820\", var\"#s819\"} where {var\"#s820\", var\"#s819\"<:(SparseArrays.AbstractSparseMatrix{Tv, Ti} where {Tv, Ti})}, B::LinearAlgebra.Symmetric{var\"#s818\", var\"#s817\"} where {var\"#s818\"<:Real, var\"#s817\"<:(SparseArrays.AbstractSparseMatrix{Tv, Ti} where {Tv, Ti})}) in SparseArrays at /opt/julia-1.6.0/share/julia/stdlib/v1.6/SparseArrays/src/linalg.jl:26\n",
       "[112] +(A::LinearAlgebra.Hermitian, B::LinearAlgebra.Symmetric{var\"#s832\", S} where {var\"#s832\"<:Real, S<:(AbstractMatrix{var\"#s832\"} where var\"#s832\"<:var\"#s832\")}) in LinearAlgebra at /opt/julia-1.6.0/share/julia/stdlib/v1.6/LinearAlgebra/src/symmetric.jl:483\n",
       "[113] +(A::LinearAlgebra.Hermitian{var\"#s828\", var\"#s827\"} where {var\"#s828\", var\"#s827\"<:(SparseArrays.AbstractSparseMatrix{Tv, Ti} where {Tv, Ti})}, B::LinearAlgebra.Symmetric{var\"#s826\", var\"#s825\"} where {var\"#s826\", var\"#s825\"<:(SparseArrays.AbstractSparseMatrix{Tv, Ti} where {Tv, Ti})}) in SparseArrays at /opt/julia-1.6.0/share/julia/stdlib/v1.6/SparseArrays/src/linalg.jl:24\n",
       "[114] +(F::LinearAlgebra.Hessenberg, J::LinearAlgebra.UniformScaling) in LinearAlgebra at /opt/julia-1.6.0/share/julia/stdlib/v1.6/LinearAlgebra/src/hessenberg.jl:559\n",
       "[115] +(x::Rational, y::Integer) in Base at rational.jl:288\n",
       "[116] +(x::X, y::X) where X<:FixedPointNumbers.FixedPoint in FixedPointNumbers at /home/buzzzer/.julia/packages/FixedPointNumbers/HAGk2/src/FixedPointNumbers.jl:237\n",
       "[117] +(A::LinearAlgebra.UpperTriangular, B::LinearAlgebra.UpperTriangular) in LinearAlgebra at /opt/julia-1.6.0/share/julia/stdlib/v1.6/LinearAlgebra/src/triangular.jl:648\n",
       "[118] +(A::LinearAlgebra.UpperTriangular, B::LinearAlgebra.UnitUpperTriangular) in LinearAlgebra at /opt/julia-1.6.0/share/julia/stdlib/v1.6/LinearAlgebra/src/triangular.jl:650\n",
       "[119] +(A::LinearAlgebra.AbstractTriangular, B::LinearAlgebra.AbstractTriangular) in LinearAlgebra at /opt/julia-1.6.0/share/julia/stdlib/v1.6/LinearAlgebra/src/triangular.jl:656\n",
       "[120] +(A::LinearAlgebra.UpperTriangular, B::LinearAlgebra.Bidiagonal) in LinearAlgebra at /opt/julia-1.6.0/share/julia/stdlib/v1.6/LinearAlgebra/src/special.jl:86\n",
       "[121] +(bb1::Measures.BoundingBox, bb2::Measures.BoundingBox) in Plots at /home/buzzzer/.julia/packages/Plots/SVksJ/src/layouts.jl:19\n",
       "[122] +(z::Complex, w::Complex) in Base at complex.jl:275\n",
       "[123] +(x::AbstractArray{var\"#s832\", N} where {var\"#s832\"<:Dates.TimeType, N}, y::Union{Dates.CompoundPeriod, Dates.Period}) in Dates at /opt/julia-1.6.0/share/julia/stdlib/v1.6/Dates/src/deprecated.jl:6\n",
       "[124] +(A::SparseArrays.AbstractSparseMatrixCSC, B::SparseArrays.AbstractSparseMatrixCSC) in SparseArrays at /opt/julia-1.6.0/share/julia/stdlib/v1.6/SparseArrays/src/sparsematrix.jl:1741\n",
       "[125] +(x::SparseArrays.AbstractSparseVector{Tv, Ti} where {Tv, Ti}, y::SparseArrays.AbstractSparseVector{Tv, Ti} where {Tv, Ti}) in SparseArrays at /opt/julia-1.6.0/share/julia/stdlib/v1.6/SparseArrays/src/sparsevector.jl:1345\n",
       "[126] +(A::SparseArrays.AbstractSparseMatrixCSC, B::Array) in SparseArrays at /opt/julia-1.6.0/share/julia/stdlib/v1.6/SparseArrays/src/sparsematrix.jl:1744\n",
       "[127] +(A::SparseArrays.AbstractSparseMatrixCSC, J::LinearAlgebra.UniformScaling) in SparseArrays at /opt/julia-1.6.0/share/julia/stdlib/v1.6/SparseArrays/src/sparsematrix.jl:3797\n",
       "[128] +(a::StaticArrays.StaticMatrix{N, M, T} where {N, M, T}, b::LinearAlgebra.UniformScaling) in StaticArrays at /home/buzzzer/.julia/packages/StaticArrays/rdb0l/src/linalg.jl:28\n",
       "[129] +(a::StaticArrays.StaticArray, b::StaticArrays.StaticArray) in StaticArrays at /home/buzzzer/.julia/packages/StaticArrays/rdb0l/src/linalg.jl:11\n",
       "[130] +(a::AbstractArray, b::StaticArrays.StaticArray) in StaticArrays at /home/buzzzer/.julia/packages/StaticArrays/rdb0l/src/linalg.jl:12\n",
       "[131] +(a::StaticArrays.StaticArray, b::AbstractArray) in StaticArrays at /home/buzzzer/.julia/packages/StaticArrays/rdb0l/src/linalg.jl:13\n",
       "[132] +(A::AbstractArray, B::AbstractArray) in Base at arraymath.jl:37\n",
       "[133] +(a::PyObject) in PyCall at /home/buzzzer/.julia/packages/PyCall/tqyST/src/pyoperators.jl:41\n",
       "[134] +(a::PyObject, b::PyObject) in PyCall at /home/buzzzer/.julia/packages/PyCall/tqyST/src/pyoperators.jl:11\n",
       "[135] +(a::PyObject, b) in PyCall at /home/buzzzer/.julia/packages/PyCall/tqyST/src/pyoperators.jl:13\n",
       "[136] +(a::Pkg.Resolve.FieldValue, b::Pkg.Resolve.FieldValue) in Pkg.Resolve at /opt/julia-1.6.0/share/julia/stdlib/v1.6/Pkg/src/Resolve/fieldvalues.jl:43\n",
       "[137] +(x::BigInt, y::BigInt) in Base.GMP at gmp.jl:479\n",
       "[138] +(a::BigInt, b::BigInt, c::BigInt) in Base.GMP at gmp.jl:519\n",
       "[139] +(a::BigInt, b::BigInt, c::BigInt, d::BigInt) in Base.GMP at gmp.jl:520\n",
       "[140] +(a::BigInt, b::BigInt, c::BigInt, d::BigInt, e::BigInt) in Base.GMP at gmp.jl:521\n",
       "[141] +(x::BigInt, c::Union{UInt16, UInt32, UInt64, UInt8}) in Base.GMP at gmp.jl:527\n",
       "[142] +(x::BigInt, c::Union{Int16, Int32, Int64, Int8}) in Base.GMP at gmp.jl:533\n",
       "[143] +(c::BigInt, x::BigFloat) in Base.MPFR at mpfr.jl:400\n",
       "[144] +(::Missing) in Base at missing.jl:101\n",
       "[145] +(::Missing, ::Missing) in Base at missing.jl:115\n",
       "[146] +(::Missing, ::Number) in Base at missing.jl:116\n",
       "[147] +(x::Missing, y::Dates.AbstractTime) in Dates at /opt/julia-1.6.0/share/julia/stdlib/v1.6/Dates/src/arithmetic.jl:89\n",
       "[148] +(dt::Dates.DateTime, y::Dates.Year) in Dates at /opt/julia-1.6.0/share/julia/stdlib/v1.6/Dates/src/arithmetic.jl:23\n",
       "[149] +(dt::Dates.DateTime, z::Dates.Month) in Dates at /opt/julia-1.6.0/share/julia/stdlib/v1.6/Dates/src/arithmetic.jl:47\n",
       "[150] +(x::Dates.DateTime, y::Dates.Quarter) in Dates at /opt/julia-1.6.0/share/julia/stdlib/v1.6/Dates/src/arithmetic.jl:75\n",
       "[151] +(x::Dates.DateTime, y::Dates.Period) in Dates at /opt/julia-1.6.0/share/julia/stdlib/v1.6/Dates/src/arithmetic.jl:81\n",
       "[152] +(a::Pkg.Resolve.VersionWeight, b::Pkg.Resolve.VersionWeight) in Pkg.Resolve at /opt/julia-1.6.0/share/julia/stdlib/v1.6/Pkg/src/Resolve/versionweights.jl:22\n",
       "[153] +(dt::Dates.Date, t::Dates.Time) in Dates at /opt/julia-1.6.0/share/julia/stdlib/v1.6/Dates/src/arithmetic.jl:19\n",
       "[154] +(dt::Dates.Date, y::Dates.Year) in Dates at /opt/julia-1.6.0/share/julia/stdlib/v1.6/Dates/src/arithmetic.jl:27\n",
       "[155] +(dt::Dates.Date, z::Dates.Month) in Dates at /opt/julia-1.6.0/share/julia/stdlib/v1.6/Dates/src/arithmetic.jl:54\n",
       "[156] +(x::Dates.Date, y::Dates.Quarter) in Dates at /opt/julia-1.6.0/share/julia/stdlib/v1.6/Dates/src/arithmetic.jl:73\n",
       "[157] +(x::Dates.Date, y::Dates.Week) in Dates at /opt/julia-1.6.0/share/julia/stdlib/v1.6/Dates/src/arithmetic.jl:77\n",
       "[158] +(x::Dates.Date, y::Dates.Day) in Dates at /opt/julia-1.6.0/share/julia/stdlib/v1.6/Dates/src/arithmetic.jl:79\n",
       "[159] +(x::BigFloat, y::BigFloat) in Base.MPFR at mpfr.jl:364\n",
       "[160] +(x::BigFloat, c::Union{UInt16, UInt32, UInt64, UInt8}) in Base.MPFR at mpfr.jl:371\n",
       "[161] +(x::BigFloat, c::Union{Int16, Int32, Int64, Int8}) in Base.MPFR at mpfr.jl:379\n",
       "[162] +(x::BigFloat, c::Union{Float16, Float32, Float64}) in Base.MPFR at mpfr.jl:387\n",
       "[163] +(x::BigFloat, c::BigInt) in Base.MPFR at mpfr.jl:395\n",
       "[164] +(a::BigFloat, b::BigFloat, c::BigFloat) in Base.MPFR at mpfr.jl:536\n",
       "[165] +(a::BigFloat, b::BigFloat, c::BigFloat, d::BigFloat) in Base.MPFR at mpfr.jl:542\n",
       "[166] +(a::BigFloat, b::BigFloat, c::BigFloat, d::BigFloat, e::BigFloat) in Base.MPFR at mpfr.jl:549\n",
       "[167] +(z::Complex{Bool}, x::Bool) in Base at complex.jl:287\n",
       "[168] +(z::Complex, x::Bool) in Base at complex.jl:294\n",
       "[169] +(z::Complex{Bool}, x::Real) in Base at complex.jl:301\n",
       "[170] +(z::Complex) in Base at complex.jl:273\n",
       "[171] +(z::Complex, x::Real) in Base at complex.jl:313\n",
       "[172] +(x::Dates.CompoundPeriod, y::Dates.Period) in Dates at /opt/julia-1.6.0/share/julia/stdlib/v1.6/Dates/src/periods.jl:352\n",
       "[173] +(x::Dates.CompoundPeriod, y::Dates.CompoundPeriod) in Dates at /opt/julia-1.6.0/share/julia/stdlib/v1.6/Dates/src/periods.jl:354\n",
       "[174] +(x::Dates.CompoundPeriod, y::Dates.TimeType) in Dates at /opt/julia-1.6.0/share/julia/stdlib/v1.6/Dates/src/periods.jl:382\n",
       "[175] +(level::Base.CoreLogging.LogLevel, inc::Integer) in Base.CoreLogging at logging.jl:131\n",
       "[176] +(x::Rational{BigInt}, y::Rational{BigInt}) in Base.GMP.MPQ at gmp.jl:886\n",
       "[177] +(x::Rational) in Base at rational.jl:267\n",
       "[178] +(x::Rational, y::Rational) in Base at rational.jl:283\n",
       "[179] +(t::Dates.Time, dt::Dates.Date) in Dates at /opt/julia-1.6.0/share/julia/stdlib/v1.6/Dates/src/arithmetic.jl:20\n",
       "[180] +(x::Dates.Time, y::Dates.TimePeriod) in Dates at /opt/julia-1.6.0/share/julia/stdlib/v1.6/Dates/src/arithmetic.jl:83\n",
       "[181] +(x::Dates.TimeType) in Dates at /opt/julia-1.6.0/share/julia/stdlib/v1.6/Dates/src/arithmetic.jl:8\n",
       "[182] +(a::Dates.TimeType, b::Dates.Period, c::Dates.Period) in Dates at /opt/julia-1.6.0/share/julia/stdlib/v1.6/Dates/src/periods.jl:373\n",
       "[183] +(a::Dates.TimeType, b::Dates.Period, c::Dates.Period, d::Dates.Period...) in Dates at /opt/julia-1.6.0/share/julia/stdlib/v1.6/Dates/src/periods.jl:374\n",
       "[184] +(x::Dates.TimeType, y::Dates.CompoundPeriod) in Dates at /opt/julia-1.6.0/share/julia/stdlib/v1.6/Dates/src/periods.jl:376\n",
       "[185] +(x::String, y::String) in Main at In[9]:1\n",
       "[186] +(B::BitMatrix, J::LinearAlgebra.UniformScaling) in LinearAlgebra at /opt/julia-1.6.0/share/julia/stdlib/v1.6/LinearAlgebra/src/uniformscaling.jl:152\n",
       "[187] +(A::AbstractMatrix{T} where T, J::LinearAlgebra.UniformScaling) in LinearAlgebra at /opt/julia-1.6.0/share/julia/stdlib/v1.6/LinearAlgebra/src/uniformscaling.jl:215\n",
       "[188] +(x::AbstractArray{var\"#s79\", N} where {var\"#s79\"<:Number, N}) in Base at abstractarraymath.jl:97\n",
       "[189] +(x::Float32, y::Float32) in Base at float.jl:325\n",
       "[190] +(x::Float64, y::Float64) in Base at float.jl:326\n",
       "[191] +(x::Bool) in Base at bool.jl:89\n",
       "[192] +(x::Integer, y::Ptr) in Base at pointer.jl:161\n",
       "[193] +(y::Integer, x::Rational) in Base at rational.jl:295\n",
       "[194] +(x::Integer, y::AbstractChar) in Base at char.jl:224\n",
       "[195] +(x::Number, y::Base.TwicePrecision) in Base at twiceprecision.jl:271\n",
       "[196] +(::Number, ::Missing) in Base at missing.jl:117\n",
       "[197] +(x::Number, J::LinearAlgebra.UniformScaling) in LinearAlgebra at /opt/julia-1.6.0/share/julia/stdlib/v1.6/LinearAlgebra/src/uniformscaling.jl:146\n",
       "[198] +(x::Bool, y::Bool) in Base at bool.jl:92\n",
       "[199] +(a::Integer, b::Integer) in Base at int.jl:919\n",
       "[200] +(x::Bool, y::T) where T<:AbstractFloat in Base at bool.jl:99\n",
       "[201] +(x::Bool, z::Complex{Bool}) in Base at complex.jl:286\n",
       "[202] +(x::Real, z::Complex{Bool}) in Base at complex.jl:300\n",
       "[203] +(x::Bool, z::Complex) in Base at complex.jl:293\n",
       "[204] +(x::Real, z::Complex) in Base at complex.jl:312\n",
       "[205] +(x::Float16, y::Float16) in Base at float.jl:324\n",
       "[206] +(x::Number) in Base at operators.jl:515\n",
       "[207] +(a, b::PyObject) in PyCall at /home/buzzzer/.julia/packages/PyCall/tqyST/src/pyoperators.jl:14\n",
       "[208] +(x::T, y::T) where T<:Number in Base at promotion.jl:396\n",
       "[209] +(x::Number, y::Number) in Base at promotion.jl:321\n",
       "[210] +(a, b, c, xs...) in Base at operators.jl:560"
      ]
     },
     "execution_count": 116,
     "metadata": {},
     "output_type": "execute_result"
    }
   ],
   "source": [
    "methods(+)\n",
    "# To see how many definations we have for (+) method"
   ]
  },
  {
   "cell_type": "markdown",
   "metadata": {},
   "source": [
    "### That means we can use + with 190 different ways in a function"
   ]
  },
  {
   "cell_type": "markdown",
   "metadata": {},
   "source": [
    "### We can use @which macro to see which of the 190 ways we are using the function"
   ]
  },
  {
   "cell_type": "code",
   "execution_count": 117,
   "metadata": {},
   "outputs": [
    {
     "data": {
      "text/html": [
       "+(x::<b>T</b>, y::<b>T</b>)<i> where T<:Union{Int128, Int16, Int32, Int64, Int8, UInt128, UInt16, UInt32, UInt64, UInt8}</i> in Base at <a href=\"https://github.com/JuliaLang/julia/tree/f9720dc2ebd6cd9e3086365f281e62506444ef37/base/int.jl#L87\" target=\"_blank\">int.jl:87</a>"
      ],
      "text/plain": [
       "+(x::T, y::T) where T<:Union{Int128, Int16, Int32, Int64, Int8, UInt128, UInt16, UInt32, UInt64, UInt8} in Base at int.jl:87"
      ]
     },
     "execution_count": 117,
     "metadata": {},
     "output_type": "execute_result"
    }
   ],
   "source": [
    "@which 3+3"
   ]
  },
  {
   "cell_type": "code",
   "execution_count": 118,
   "metadata": {},
   "outputs": [
    {
     "data": {
      "text/html": [
       "+(x::<b>Number</b>, y::<b>Number</b>) in Base at <a href=\"https://github.com/JuliaLang/julia/tree/f9720dc2ebd6cd9e3086365f281e62506444ef37/base/promotion.jl#L321\" target=\"_blank\">promotion.jl:321</a>"
      ],
      "text/plain": [
       "+(x::Number, y::Number) in Base at promotion.jl:321"
      ]
     },
     "execution_count": 118,
     "metadata": {},
     "output_type": "execute_result"
    }
   ],
   "source": [
    "@which 3.0+1"
   ]
  },
  {
   "cell_type": "code",
   "execution_count": 119,
   "metadata": {},
   "outputs": [
    {
     "data": {
      "text/html": [
       "+(x::<b>Float64</b>, y::<b>Float64</b>) in Base at <a href=\"https://github.com/JuliaLang/julia/tree/f9720dc2ebd6cd9e3086365f281e62506444ef37/base/float.jl#L326\" target=\"_blank\">float.jl:326</a>"
      ],
      "text/plain": [
       "+(x::Float64, y::Float64) in Base at float.jl:326"
      ]
     },
     "execution_count": 119,
     "metadata": {},
     "output_type": "execute_result"
    }
   ],
   "source": [
    "@which 1.2 + 4.6"
   ]
  },
  {
   "cell_type": "markdown",
   "metadata": {},
   "source": [
    "### We can further extend (+) with new methods"
   ]
  },
  {
   "cell_type": "code",
   "execution_count": 120,
   "metadata": {},
   "outputs": [
    {
     "data": {
      "text/html": [
       "+(x::<b>String</b>, y::<b>String</b>) in Main at In[9]:1"
      ],
      "text/plain": [
       "+(x::String, y::String) in Main at In[9]:1"
      ]
     },
     "execution_count": 120,
     "metadata": {},
     "output_type": "execute_result"
    }
   ],
   "source": [
    "@which \"hello \" + \"hello\""
   ]
  },
  {
   "cell_type": "code",
   "execution_count": 121,
   "metadata": {},
   "outputs": [
    {
     "data": {
      "text/plain": [
       "\"hello hello\""
      ]
     },
     "execution_count": 121,
     "metadata": {},
     "output_type": "execute_result"
    }
   ],
   "source": [
    "\"hello \" + \"hello\""
   ]
  },
  {
   "cell_type": "code",
   "execution_count": 122,
   "metadata": {},
   "outputs": [],
   "source": [
    "# To add a functionality to existing function we need to import Base: + first"
   ]
  },
  {
   "cell_type": "code",
   "execution_count": 123,
   "metadata": {},
   "outputs": [],
   "source": [
    "import Base: +"
   ]
  },
  {
   "cell_type": "code",
   "execution_count": 124,
   "metadata": {},
   "outputs": [
    {
     "data": {
      "text/plain": [
       "+ (generic function with 210 methods)"
      ]
     },
     "execution_count": 124,
     "metadata": {},
     "output_type": "execute_result"
    }
   ],
   "source": [
    "+(x::String,y::String) = string(x,y)"
   ]
  },
  {
   "cell_type": "code",
   "execution_count": 125,
   "metadata": {},
   "outputs": [],
   "source": [
    "# Now we can try the string addtition"
   ]
  },
  {
   "cell_type": "code",
   "execution_count": 126,
   "metadata": {},
   "outputs": [
    {
     "data": {
      "text/plain": [
       "\"hello hello\""
      ]
     },
     "execution_count": 126,
     "metadata": {},
     "output_type": "execute_result"
    }
   ],
   "source": [
    "\"hello \" + \"hello\""
   ]
  },
  {
   "cell_type": "code",
   "execution_count": 127,
   "metadata": {},
   "outputs": [
    {
     "data": {
      "text/html": [
       "+(x::<b>String</b>, y::<b>String</b>) in Main at In[124]:1"
      ],
      "text/plain": [
       "+(x::String, y::String) in Main at In[124]:1"
      ]
     },
     "execution_count": 127,
     "metadata": {},
     "output_type": "execute_result"
    }
   ],
   "source": [
    "@which \"hello \" + \"hello\""
   ]
  },
  {
   "cell_type": "code",
   "execution_count": 128,
   "metadata": {},
   "outputs": [],
   "source": [
    "# We get the location of the method we added"
   ]
  },
  {
   "cell_type": "markdown",
   "metadata": {},
   "source": [
    "# Create a custom function with multiple arguments and methods"
   ]
  },
  {
   "cell_type": "code",
   "execution_count": 129,
   "metadata": {},
   "outputs": [
    {
     "data": {
      "text/plain": [
       "buzz (generic function with 5 methods)"
      ]
     },
     "execution_count": 129,
     "metadata": {},
     "output_type": "execute_result"
    }
   ],
   "source": [
    "buzz(x,y) = println(\"buzz again\")\n",
    "buzz(x::Int,y::Int) = println(\"buzz with integers $x and $y\")\n",
    "buzz(x::Float64,y::Float64) = println(\"buzz with floats $x and $y\")\n",
    "buzz(x::Int,y::Float64) = println(\"buzz with integers and float $x and $y\")\n",
    "buzz(x::Float64,y::Int) = println(\"buzz with float and integers $x and $y\")"
   ]
  },
  {
   "cell_type": "code",
   "execution_count": 130,
   "metadata": {},
   "outputs": [],
   "source": [
    "#Lets try this out "
   ]
  },
  {
   "cell_type": "code",
   "execution_count": 131,
   "metadata": {},
   "outputs": [
    {
     "data": {
      "text/html": [
       "# 5 methods for generic function <b>buzz</b>:<ul><li> buzz(x::<b>Int64</b>, y::<b>Int64</b>) in Main at In[129]:2</li> <li> buzz(x::<b>Float64</b>, y::<b>Float64</b>) in Main at In[129]:3</li> <li> buzz(x::<b>Int64</b>, y::<b>Float64</b>) in Main at In[129]:4</li> <li> buzz(x::<b>Float64</b>, y::<b>Int64</b>) in Main at In[129]:5</li> <li> buzz(x, y) in Main at In[129]:1</li> </ul>"
      ],
      "text/plain": [
       "# 5 methods for generic function \"buzz\":\n",
       "[1] buzz(x::Int64, y::Int64) in Main at In[129]:2\n",
       "[2] buzz(x::Float64, y::Float64) in Main at In[129]:3\n",
       "[3] buzz(x::Int64, y::Float64) in Main at In[129]:4\n",
       "[4] buzz(x::Float64, y::Int64) in Main at In[129]:5\n",
       "[5] buzz(x, y) in Main at In[129]:1"
      ]
     },
     "execution_count": 131,
     "metadata": {},
     "output_type": "execute_result"
    }
   ],
   "source": [
    "methods(buzz)"
   ]
  },
  {
   "cell_type": "code",
   "execution_count": 132,
   "metadata": {},
   "outputs": [
    {
     "name": "stdout",
     "output_type": "stream",
     "text": [
      "buzz again\n"
     ]
    }
   ],
   "source": [
    "buzz(\"RAM\",\"ROM\")"
   ]
  },
  {
   "cell_type": "code",
   "execution_count": 133,
   "metadata": {},
   "outputs": [
    {
     "data": {
      "text/html": [
       "buzz(x, y) in Main at In[129]:1"
      ],
      "text/plain": [
       "buzz(x, y) in Main at In[129]:1"
      ]
     },
     "execution_count": 133,
     "metadata": {},
     "output_type": "execute_result"
    }
   ],
   "source": [
    "@which buzz(\"RAM\",\"ROM\")"
   ]
  },
  {
   "cell_type": "code",
   "execution_count": 134,
   "metadata": {},
   "outputs": [
    {
     "name": "stdout",
     "output_type": "stream",
     "text": [
      "buzz with integers 2 and 2\n"
     ]
    }
   ],
   "source": [
    "buzz(2,2)"
   ]
  },
  {
   "cell_type": "code",
   "execution_count": 135,
   "metadata": {},
   "outputs": [
    {
     "data": {
      "text/html": [
       "buzz(x::<b>Int64</b>, y::<b>Int64</b>) in Main at In[129]:2"
      ],
      "text/plain": [
       "buzz(x::Int64, y::Int64) in Main at In[129]:2"
      ]
     },
     "execution_count": 135,
     "metadata": {},
     "output_type": "execute_result"
    }
   ],
   "source": [
    "@which buzz(2,2)"
   ]
  },
  {
   "cell_type": "code",
   "execution_count": 136,
   "metadata": {},
   "outputs": [
    {
     "name": "stdout",
     "output_type": "stream",
     "text": [
      "buzz with integers and float 2 and 2.2\n"
     ]
    }
   ],
   "source": [
    "buzz(2,2.2)"
   ]
  },
  {
   "cell_type": "code",
   "execution_count": 137,
   "metadata": {},
   "outputs": [
    {
     "data": {
      "text/html": [
       "buzz(x::<b>Int64</b>, y::<b>Float64</b>) in Main at In[129]:4"
      ],
      "text/plain": [
       "buzz(x::Int64, y::Float64) in Main at In[129]:4"
      ]
     },
     "execution_count": 137,
     "metadata": {},
     "output_type": "execute_result"
    }
   ],
   "source": [
    "@which buzz(2,2.2)"
   ]
  },
  {
   "cell_type": "code",
   "execution_count": 138,
   "metadata": {},
   "outputs": [
    {
     "name": "stdout",
     "output_type": "stream",
     "text": [
      "buzz with float and integers 2.4 and 2\n"
     ]
    }
   ],
   "source": [
    "buzz(2.4,2)"
   ]
  },
  {
   "cell_type": "code",
   "execution_count": 139,
   "metadata": {},
   "outputs": [
    {
     "data": {
      "text/html": [
       "buzz(x::<b>Float64</b>, y::<b>Int64</b>) in Main at In[129]:5"
      ],
      "text/plain": [
       "buzz(x::Float64, y::Int64) in Main at In[129]:5"
      ]
     },
     "execution_count": 139,
     "metadata": {},
     "output_type": "execute_result"
    }
   ],
   "source": [
    "@which buzz(2.4,2)"
   ]
  },
  {
   "cell_type": "code",
   "execution_count": 140,
   "metadata": {},
   "outputs": [
    {
     "name": "stdout",
     "output_type": "stream",
     "text": [
      "buzz with floats 2.4 and 5.2\n"
     ]
    }
   ],
   "source": [
    "buzz(2.4,5.2)"
   ]
  },
  {
   "cell_type": "code",
   "execution_count": 141,
   "metadata": {},
   "outputs": [
    {
     "data": {
      "text/html": [
       "buzz(x::<b>Float64</b>, y::<b>Float64</b>) in Main at In[129]:3"
      ],
      "text/plain": [
       "buzz(x::Float64, y::Float64) in Main at In[129]:3"
      ]
     },
     "execution_count": 141,
     "metadata": {},
     "output_type": "execute_result"
    }
   ],
   "source": [
    "@which buzz(2.4,5.2)"
   ]
  },
  {
   "cell_type": "code",
   "execution_count": 142,
   "metadata": {},
   "outputs": [
    {
     "name": "stdout",
     "output_type": "stream",
     "text": [
      "buzz again\n"
     ]
    }
   ],
   "source": [
    "buzz(true,false)"
   ]
  },
  {
   "cell_type": "code",
   "execution_count": 143,
   "metadata": {},
   "outputs": [
    {
     "data": {
      "text/html": [
       "buzz(x, y) in Main at In[129]:1"
      ],
      "text/plain": [
       "buzz(x, y) in Main at In[129]:1"
      ]
     },
     "execution_count": 143,
     "metadata": {},
     "output_type": "execute_result"
    }
   ],
   "source": [
    "@which buzz(true,false)"
   ]
  },
  {
   "cell_type": "markdown",
   "metadata": {},
   "source": [
    "# Julia Is Fast"
   ]
  },
  {
   "cell_type": "markdown",
   "metadata": {},
   "source": [
    "We'll benchmark some functions in both Julia and other programming language with help of some uinbuilt functions\n"
   ]
  },
  {
   "cell_type": "markdown",
   "metadata": {},
   "source": [
    "### SUM functions\n",
    "\n",
    "Consider the  **sum** function `sum(a)`, which computes\n",
    "$$\n",
    "\\mathrm{sum}(a) = \\sum_{i=1}^n a_i,\n",
    "$$\n",
    "where $n$ is the length of `a`."
   ]
  },
  {
   "cell_type": "code",
   "execution_count": 144,
   "metadata": {},
   "outputs": [
    {
     "data": {
      "text/plain": [
       "10000000-element Vector{Float64}:\n",
       " 0.11358251707344813\n",
       " 0.6809500412249905\n",
       " 0.9967814657744114\n",
       " 0.6951339021864318\n",
       " 0.7512439291088302\n",
       " 0.8131356812606132\n",
       " 0.9428737222003896\n",
       " 0.665514063926333\n",
       " 0.19999674951789537\n",
       " 0.2677009269189312\n",
       " 0.36856414908350543\n",
       " 0.8087260634223836\n",
       " 0.39403564254596213\n",
       " ⋮\n",
       " 0.9955086316896735\n",
       " 0.23242093490567894\n",
       " 0.9876079364774055\n",
       " 0.16655255523007906\n",
       " 0.5095995362602048\n",
       " 0.8103135114339972\n",
       " 0.005569647973738601\n",
       " 0.33005986310324853\n",
       " 0.14120882288886372\n",
       " 0.02057633707884743\n",
       " 0.7785689322427201\n",
       " 0.6594488493190871"
      ]
     },
     "execution_count": 144,
     "metadata": {},
     "output_type": "execute_result"
    }
   ],
   "source": [
    "# Creating a random array of numbers to add\n",
    "A = rand(10^7)"
   ]
  },
  {
   "cell_type": "code",
   "execution_count": 145,
   "metadata": {},
   "outputs": [],
   "source": [
    "# To sum we simply use the sum function"
   ]
  },
  {
   "cell_type": "code",
   "execution_count": 146,
   "metadata": {},
   "outputs": [
    {
     "data": {
      "text/plain": [
       "4.999993097176198e6"
      ]
     },
     "execution_count": 146,
     "metadata": {},
     "output_type": "execute_result"
    }
   ],
   "source": [
    "sum(A)"
   ]
  },
  {
   "cell_type": "code",
   "execution_count": 147,
   "metadata": {},
   "outputs": [],
   "source": [
    "#import Pkg\n",
    "#Pkg.add(\"BenchmarkTools\")"
   ]
  },
  {
   "cell_type": "code",
   "execution_count": 148,
   "metadata": {},
   "outputs": [],
   "source": [
    "using BenchmarkTools"
   ]
  },
  {
   "cell_type": "markdown",
   "metadata": {},
   "source": [
    "### We'll use 3 Different Languages and their methods"
   ]
  },
  {
   "cell_type": "markdown",
   "metadata": {},
   "source": [
    "### 1.  C Program"
   ]
  },
  {
   "cell_type": "code",
   "execution_count": 149,
   "metadata": {},
   "outputs": [],
   "source": [
    "# To write a program in C language in Julia"
   ]
  },
  {
   "cell_type": "code",
   "execution_count": 150,
   "metadata": {},
   "outputs": [
    {
     "name": "stderr",
     "output_type": "stream",
     "text": [
      "WARNING: redefinition of constant Clib. This may fail, cause incorrect answers, or produce other errors.\n"
     ]
    },
    {
     "data": {
      "text/plain": [
       "\"/tmp/jl_pU72KO\""
      ]
     },
     "execution_count": 150,
     "metadata": {},
     "output_type": "execute_result"
    }
   ],
   "source": [
    "using Libdl\n",
    "C_code = \"\"\"\n",
    "#include <stddef.h>\n",
    "double c_sum(size_t n, double *X) {\n",
    "    double s = 0.0;\n",
    "    for (size_t i = 0; i < n; ++i) {\n",
    "        s += X[i];\n",
    "    }\n",
    "    return s;\n",
    "}\n",
    "\"\"\"\n",
    "\n",
    "const Clib = tempname() "
   ]
  },
  {
   "cell_type": "code",
   "execution_count": 151,
   "metadata": {},
   "outputs": [],
   "source": [
    "# To compile the C library and function"
   ]
  },
  {
   "cell_type": "code",
   "execution_count": 152,
   "metadata": {},
   "outputs": [],
   "source": [
    "open(`gcc -fPIC -O3 -msse3 -xc -shared -o $(Clib * \".\" * Libdl.dlext) -`, \"w\") do f\n",
    "    print(f, C_code) \n",
    "end"
   ]
  },
  {
   "cell_type": "code",
   "execution_count": 153,
   "metadata": {},
   "outputs": [],
   "source": [
    "# Define a Julia Function to call C function"
   ]
  },
  {
   "cell_type": "code",
   "execution_count": 154,
   "metadata": {},
   "outputs": [
    {
     "data": {
      "text/plain": [
       "c_sum (generic function with 1 method)"
      ]
     },
     "execution_count": 154,
     "metadata": {},
     "output_type": "execute_result"
    }
   ],
   "source": [
    "c_sum(X::Array{Float64}) = ccall((\"c_sum\", Clib), Float64, (Csize_t, Ptr{Float64}), length(X), X)"
   ]
  },
  {
   "cell_type": "code",
   "execution_count": 155,
   "metadata": {},
   "outputs": [
    {
     "data": {
      "text/plain": [
       "4.999993097176691e6"
      ]
     },
     "execution_count": 155,
     "metadata": {},
     "output_type": "execute_result"
    }
   ],
   "source": [
    "c_sum(A)"
   ]
  },
  {
   "cell_type": "code",
   "execution_count": 156,
   "metadata": {},
   "outputs": [
    {
     "data": {
      "text/plain": [
       "true"
      ]
     },
     "execution_count": 156,
     "metadata": {},
     "output_type": "execute_result"
    }
   ],
   "source": [
    "c_sum(A) ≈ sum(A)"
   ]
  },
  {
   "cell_type": "code",
   "execution_count": 157,
   "metadata": {},
   "outputs": [
    {
     "data": {
      "text/plain": [
       "true"
      ]
     },
     "execution_count": 157,
     "metadata": {},
     "output_type": "execute_result"
    }
   ],
   "source": [
    "isapprox(c_sum(A),sum(A))"
   ]
  },
  {
   "cell_type": "code",
   "execution_count": 158,
   "metadata": {},
   "outputs": [
    {
     "data": {
      "text/plain": [
       "4.926696419715881e-7"
      ]
     },
     "execution_count": 158,
     "metadata": {},
     "output_type": "execute_result"
    }
   ],
   "source": [
    "c_sum(A) - sum(A) "
   ]
  },
  {
   "cell_type": "code",
   "execution_count": 159,
   "metadata": {},
   "outputs": [],
   "source": [
    "#=\n",
    "Note: ?function can be used to get help in Julia\n",
    "Example - ?sum or ?isapprox\n",
    "=#"
   ]
  },
  {
   "cell_type": "code",
   "execution_count": 160,
   "metadata": {},
   "outputs": [],
   "source": [
    "#?sum"
   ]
  },
  {
   "cell_type": "code",
   "execution_count": 161,
   "metadata": {},
   "outputs": [],
   "source": [
    "# To Benchmark the C program"
   ]
  },
  {
   "cell_type": "code",
   "execution_count": 162,
   "metadata": {},
   "outputs": [
    {
     "data": {
      "text/plain": [
       "BenchmarkTools.Trial: \n",
       "  memory estimate:  0 bytes\n",
       "  allocs estimate:  0\n",
       "  --------------\n",
       "  minimum time:     10.252 ms (0.00% GC)\n",
       "  median time:      10.576 ms (0.00% GC)\n",
       "  mean time:        10.527 ms (0.00% GC)\n",
       "  maximum time:     11.587 ms (0.00% GC)\n",
       "  --------------\n",
       "  samples:          475\n",
       "  evals/sample:     1"
      ]
     },
     "execution_count": 162,
     "metadata": {},
     "output_type": "execute_result"
    }
   ],
   "source": [
    "c_benchmark = @benchmark c_sum($A)"
   ]
  },
  {
   "cell_type": "code",
   "execution_count": 163,
   "metadata": {},
   "outputs": [
    {
     "name": "stdout",
     "output_type": "stream",
     "text": [
      "C: Fastest time was 10.252294 msec\n"
     ]
    }
   ],
   "source": [
    "println(\"C: Fastest time was $(minimum(c_benchmark.times) / 1e6) msec\")"
   ]
  },
  {
   "cell_type": "code",
   "execution_count": 164,
   "metadata": {},
   "outputs": [],
   "source": [
    "#= Making a Dict to save the result for later =#"
   ]
  },
  {
   "cell_type": "code",
   "execution_count": 165,
   "metadata": {},
   "outputs": [
    {
     "data": {
      "text/plain": [
       "Dict{Any, Any} with 1 entry:\n",
       "  \"C\" => 10.2523"
      ]
     },
     "execution_count": 165,
     "metadata": {},
     "output_type": "execute_result"
    }
   ],
   "source": [
    "compare = Dict()\n",
    "compare[\"C\"] = (minimum(c_benchmark.times) / 1e6)\n",
    "compare"
   ]
  },
  {
   "cell_type": "code",
   "execution_count": 166,
   "metadata": {},
   "outputs": [],
   "source": [
    "#= To Plot the graph for the following =#"
   ]
  },
  {
   "cell_type": "code",
   "execution_count": 167,
   "metadata": {},
   "outputs": [
    {
     "data": {
      "text/plain": [
       "Plots.GRBackend()"
      ]
     },
     "execution_count": 167,
     "metadata": {},
     "output_type": "execute_result"
    }
   ],
   "source": [
    "using Plots\n",
    "gr()"
   ]
  },
  {
   "cell_type": "code",
   "execution_count": 168,
   "metadata": {},
   "outputs": [
    {
     "data": {
      "text/plain": [
       "(10.252294, 0.1954771260524188)"
      ]
     },
     "execution_count": 168,
     "metadata": {},
     "output_type": "execute_result"
    }
   ],
   "source": [
    "using Statistics # bring in statistical support for standard deviations\n",
    "t = c_benchmark.times / 1e6 # times in milliseconds\n",
    "m, σ = minimum(t), std(t)"
   ]
  },
  {
   "cell_type": "code",
   "execution_count": 169,
   "metadata": {},
   "outputs": [
    {
     "data": {
      "image/svg+xml": [
       "<?xml version=\"1.0\" encoding=\"utf-8\"?>\n",
       "<svg xmlns=\"http://www.w3.org/2000/svg\" xmlns:xlink=\"http://www.w3.org/1999/xlink\" width=\"600\" height=\"400\" viewBox=\"0 0 2400 1600\">\n",
       "<defs>\n",
       "  <clipPath id=\"clip920\">\n",
       "    <rect x=\"0\" y=\"0\" width=\"2400\" height=\"1600\"/>\n",
       "  </clipPath>\n",
       "</defs>\n",
       "<path clip-path=\"url(#clip920)\" d=\"\n",
       "M0 1600 L2400 1600 L2400 0 L0 0  Z\n",
       "  \" fill=\"#ffffff\" fill-rule=\"evenodd\" fill-opacity=\"1\"/>\n",
       "<defs>\n",
       "  <clipPath id=\"clip921\">\n",
       "    <rect x=\"480\" y=\"0\" width=\"1681\" height=\"1600\"/>\n",
       "  </clipPath>\n",
       "</defs>\n",
       "<path clip-path=\"url(#clip920)\" d=\"\n",
       "M205.121 1423.18 L2352.76 1423.18 L2352.76 47.2441 L205.121 47.2441  Z\n",
       "  \" fill=\"#ffffff\" fill-rule=\"evenodd\" fill-opacity=\"1\"/>\n",
       "<defs>\n",
       "  <clipPath id=\"clip922\">\n",
       "    <rect x=\"205\" y=\"47\" width=\"2149\" height=\"1377\"/>\n",
       "  </clipPath>\n",
       "</defs>\n",
       "<polyline clip-path=\"url(#clip922)\" style=\"stroke:#000000; stroke-width:2; stroke-opacity:0.1; fill:none\" points=\"\n",
       "  285.664,1423.18 285.664,47.2441 \n",
       "  \"/>\n",
       "<polyline clip-path=\"url(#clip922)\" style=\"stroke:#000000; stroke-width:2; stroke-opacity:0.1; fill:none\" points=\"\n",
       "  808.261,1423.18 808.261,47.2441 \n",
       "  \"/>\n",
       "<polyline clip-path=\"url(#clip922)\" style=\"stroke:#000000; stroke-width:2; stroke-opacity:0.1; fill:none\" points=\"\n",
       "  1330.86,1423.18 1330.86,47.2441 \n",
       "  \"/>\n",
       "<polyline clip-path=\"url(#clip922)\" style=\"stroke:#000000; stroke-width:2; stroke-opacity:0.1; fill:none\" points=\"\n",
       "  1853.45,1423.18 1853.45,47.2441 \n",
       "  \"/>\n",
       "<polyline clip-path=\"url(#clip920)\" style=\"stroke:#000000; stroke-width:4; stroke-opacity:1; fill:none\" points=\"\n",
       "  205.121,1423.18 2352.76,1423.18 \n",
       "  \"/>\n",
       "<polyline clip-path=\"url(#clip920)\" style=\"stroke:#000000; stroke-width:4; stroke-opacity:1; fill:none\" points=\"\n",
       "  285.664,1423.18 285.664,1406.67 \n",
       "  \"/>\n",
       "<polyline clip-path=\"url(#clip920)\" style=\"stroke:#000000; stroke-width:4; stroke-opacity:1; fill:none\" points=\"\n",
       "  808.261,1423.18 808.261,1406.67 \n",
       "  \"/>\n",
       "<polyline clip-path=\"url(#clip920)\" style=\"stroke:#000000; stroke-width:4; stroke-opacity:1; fill:none\" points=\"\n",
       "  1330.86,1423.18 1330.86,1406.67 \n",
       "  \"/>\n",
       "<polyline clip-path=\"url(#clip920)\" style=\"stroke:#000000; stroke-width:4; stroke-opacity:1; fill:none\" points=\"\n",
       "  1853.45,1423.18 1853.45,1406.67 \n",
       "  \"/>\n",
       "<path clip-path=\"url(#clip920)\" d=\"M 0 0 M223.152 1479.92 L230.791 1479.92 L230.791 1453.55 L222.481 1455.22 L222.481 1450.96 L230.745 1449.29 L235.421 1449.29 L235.421 1479.92 L243.06 1479.92 L243.06 1483.85 L223.152 1483.85 L223.152 1479.92 Z\" fill=\"#000000\" fill-rule=\"evenodd\" fill-opacity=\"1\" /><path clip-path=\"url(#clip920)\" d=\"M 0 0 M262.504 1452.37 Q258.893 1452.37 257.064 1455.94 Q255.259 1459.48 255.259 1466.61 Q255.259 1473.71 257.064 1477.28 Q258.893 1480.82 262.504 1480.82 Q266.138 1480.82 267.944 1477.28 Q269.773 1473.71 269.773 1466.61 Q269.773 1459.48 267.944 1455.94 Q266.138 1452.37 262.504 1452.37 M262.504 1448.67 Q268.314 1448.67 271.37 1453.27 Q274.448 1457.86 274.448 1466.61 Q274.448 1475.33 271.37 1479.94 Q268.314 1484.52 262.504 1484.52 Q256.694 1484.52 253.615 1479.94 Q250.56 1475.33 250.56 1466.61 Q250.56 1457.86 253.615 1453.27 Q256.694 1448.67 262.504 1448.67 Z\" fill=\"#000000\" fill-rule=\"evenodd\" fill-opacity=\"1\" /><path clip-path=\"url(#clip920)\" d=\"M 0 0 M282.666 1477.97 L287.55 1477.97 L287.55 1483.85 L282.666 1483.85 L282.666 1477.97 Z\" fill=\"#000000\" fill-rule=\"evenodd\" fill-opacity=\"1\" /><path clip-path=\"url(#clip920)\" d=\"M 0 0 M301.763 1479.92 L318.082 1479.92 L318.082 1483.85 L296.138 1483.85 L296.138 1479.92 Q298.8 1477.16 303.383 1472.53 Q307.99 1467.88 309.17 1466.54 Q311.416 1464.01 312.295 1462.28 Q313.198 1460.52 313.198 1458.83 Q313.198 1456.07 311.254 1454.34 Q309.332 1452.6 306.231 1452.6 Q304.032 1452.6 301.578 1453.37 Q299.147 1454.13 296.37 1455.68 L296.37 1450.96 Q299.194 1449.82 301.647 1449.25 Q304.101 1448.67 306.138 1448.67 Q311.508 1448.67 314.703 1451.35 Q317.897 1454.04 317.897 1458.53 Q317.897 1460.66 317.087 1462.58 Q316.3 1464.48 314.194 1467.07 Q313.615 1467.74 310.513 1470.96 Q307.411 1474.15 301.763 1479.92 Z\" fill=\"#000000\" fill-rule=\"evenodd\" fill-opacity=\"1\" /><path clip-path=\"url(#clip920)\" d=\"M 0 0 M327.944 1449.29 L346.3 1449.29 L346.3 1453.23 L332.226 1453.23 L332.226 1461.7 Q333.244 1461.35 334.263 1461.19 Q335.281 1461 336.3 1461 Q342.087 1461 345.467 1464.18 Q348.846 1467.35 348.846 1472.76 Q348.846 1478.34 345.374 1481.44 Q341.902 1484.52 335.582 1484.52 Q333.406 1484.52 331.138 1484.15 Q328.893 1483.78 326.485 1483.04 L326.485 1478.34 Q328.568 1479.48 330.791 1480.03 Q333.013 1480.59 335.49 1480.59 Q339.494 1480.59 341.832 1478.48 Q344.17 1476.38 344.17 1472.76 Q344.17 1469.15 341.832 1467.05 Q339.494 1464.94 335.49 1464.94 Q333.615 1464.94 331.74 1465.36 Q329.888 1465.77 327.944 1466.65 L327.944 1449.29 Z\" fill=\"#000000\" fill-rule=\"evenodd\" fill-opacity=\"1\" /><path clip-path=\"url(#clip920)\" d=\"M 0 0 M745.252 1479.92 L752.891 1479.92 L752.891 1453.55 L744.581 1455.22 L744.581 1450.96 L752.844 1449.29 L757.52 1449.29 L757.52 1479.92 L765.159 1479.92 L765.159 1483.85 L745.252 1483.85 L745.252 1479.92 Z\" fill=\"#000000\" fill-rule=\"evenodd\" fill-opacity=\"1\" /><path clip-path=\"url(#clip920)\" d=\"M 0 0 M784.603 1452.37 Q780.992 1452.37 779.164 1455.94 Q777.358 1459.48 777.358 1466.61 Q777.358 1473.71 779.164 1477.28 Q780.992 1480.82 784.603 1480.82 Q788.238 1480.82 790.043 1477.28 Q791.872 1473.71 791.872 1466.61 Q791.872 1459.48 790.043 1455.94 Q788.238 1452.37 784.603 1452.37 M784.603 1448.67 Q790.414 1448.67 793.469 1453.27 Q796.548 1457.86 796.548 1466.61 Q796.548 1475.33 793.469 1479.94 Q790.414 1484.52 784.603 1484.52 Q778.793 1484.52 775.715 1479.94 Q772.659 1475.33 772.659 1466.61 Q772.659 1457.86 775.715 1453.27 Q778.793 1448.67 784.603 1448.67 Z\" fill=\"#000000\" fill-rule=\"evenodd\" fill-opacity=\"1\" /><path clip-path=\"url(#clip920)\" d=\"M 0 0 M804.765 1477.97 L809.65 1477.97 L809.65 1483.85 L804.765 1483.85 L804.765 1477.97 Z\" fill=\"#000000\" fill-rule=\"evenodd\" fill-opacity=\"1\" /><path clip-path=\"url(#clip920)\" d=\"M 0 0 M834.001 1465.22 Q837.358 1465.94 839.233 1468.2 Q841.131 1470.47 841.131 1473.81 Q841.131 1478.92 837.612 1481.72 Q834.094 1484.52 827.612 1484.52 Q825.437 1484.52 823.122 1484.08 Q820.83 1483.67 818.376 1482.81 L818.376 1478.3 Q820.321 1479.43 822.636 1480.01 Q824.95 1480.59 827.474 1480.59 Q831.872 1480.59 834.163 1478.85 Q836.478 1477.12 836.478 1473.81 Q836.478 1470.75 834.325 1469.04 Q832.196 1467.3 828.376 1467.3 L824.349 1467.3 L824.349 1463.46 L828.562 1463.46 Q832.011 1463.46 833.839 1462.09 Q835.668 1460.7 835.668 1458.11 Q835.668 1455.45 833.77 1454.04 Q831.895 1452.6 828.376 1452.6 Q826.455 1452.6 824.256 1453.02 Q822.057 1453.44 819.418 1454.31 L819.418 1450.15 Q822.08 1449.41 824.395 1449.04 Q826.733 1448.67 828.793 1448.67 Q834.117 1448.67 837.219 1451.1 Q840.321 1453.5 840.321 1457.63 Q840.321 1460.5 838.677 1462.49 Q837.034 1464.45 834.001 1465.22 Z\" fill=\"#000000\" fill-rule=\"evenodd\" fill-opacity=\"1\" /><path clip-path=\"url(#clip920)\" d=\"M 0 0 M859.997 1452.37 Q856.385 1452.37 854.557 1455.94 Q852.751 1459.48 852.751 1466.61 Q852.751 1473.71 854.557 1477.28 Q856.385 1480.82 859.997 1480.82 Q863.631 1480.82 865.436 1477.28 Q867.265 1473.71 867.265 1466.61 Q867.265 1459.48 865.436 1455.94 Q863.631 1452.37 859.997 1452.37 M859.997 1448.67 Q865.807 1448.67 868.862 1453.27 Q871.941 1457.86 871.941 1466.61 Q871.941 1475.33 868.862 1479.94 Q865.807 1484.52 859.997 1484.52 Q854.186 1484.52 851.108 1479.94 Q848.052 1475.33 848.052 1466.61 Q848.052 1457.86 851.108 1453.27 Q854.186 1448.67 859.997 1448.67 Z\" fill=\"#000000\" fill-rule=\"evenodd\" fill-opacity=\"1\" /><path clip-path=\"url(#clip920)\" d=\"M 0 0 M1268.35 1479.92 L1275.99 1479.92 L1275.99 1453.55 L1267.68 1455.22 L1267.68 1450.96 L1275.94 1449.29 L1280.62 1449.29 L1280.62 1479.92 L1288.25 1479.92 L1288.25 1483.85 L1268.35 1483.85 L1268.35 1479.92 Z\" fill=\"#000000\" fill-rule=\"evenodd\" fill-opacity=\"1\" /><path clip-path=\"url(#clip920)\" d=\"M 0 0 M1307.7 1452.37 Q1304.09 1452.37 1302.26 1455.94 Q1300.45 1459.48 1300.45 1466.61 Q1300.45 1473.71 1302.26 1477.28 Q1304.09 1480.82 1307.7 1480.82 Q1311.33 1480.82 1313.14 1477.28 Q1314.97 1473.71 1314.97 1466.61 Q1314.97 1459.48 1313.14 1455.94 Q1311.33 1452.37 1307.7 1452.37 M1307.7 1448.67 Q1313.51 1448.67 1316.56 1453.27 Q1319.64 1457.86 1319.64 1466.61 Q1319.64 1475.33 1316.56 1479.94 Q1313.51 1484.52 1307.7 1484.52 Q1301.89 1484.52 1298.81 1479.94 Q1295.75 1475.33 1295.75 1466.61 Q1295.75 1457.86 1298.81 1453.27 Q1301.89 1448.67 1307.7 1448.67 Z\" fill=\"#000000\" fill-rule=\"evenodd\" fill-opacity=\"1\" /><path clip-path=\"url(#clip920)\" d=\"M 0 0 M1327.86 1477.97 L1332.74 1477.97 L1332.74 1483.85 L1327.86 1483.85 L1327.86 1477.97 Z\" fill=\"#000000\" fill-rule=\"evenodd\" fill-opacity=\"1\" /><path clip-path=\"url(#clip920)\" d=\"M 0 0 M1357.1 1465.22 Q1360.45 1465.94 1362.33 1468.2 Q1364.23 1470.47 1364.23 1473.81 Q1364.23 1478.92 1360.71 1481.72 Q1357.19 1484.52 1350.71 1484.52 Q1348.53 1484.52 1346.22 1484.08 Q1343.92 1483.67 1341.47 1482.81 L1341.47 1478.3 Q1343.42 1479.43 1345.73 1480.01 Q1348.05 1480.59 1350.57 1480.59 Q1354.97 1480.59 1357.26 1478.85 Q1359.57 1477.12 1359.57 1473.81 Q1359.57 1470.75 1357.42 1469.04 Q1355.29 1467.3 1351.47 1467.3 L1347.44 1467.3 L1347.44 1463.46 L1351.66 1463.46 Q1355.11 1463.46 1356.93 1462.09 Q1358.76 1460.7 1358.76 1458.11 Q1358.76 1455.45 1356.86 1454.04 Q1354.99 1452.6 1351.47 1452.6 Q1349.55 1452.6 1347.35 1453.02 Q1345.15 1453.44 1342.51 1454.31 L1342.51 1450.15 Q1345.17 1449.41 1347.49 1449.04 Q1349.83 1448.67 1351.89 1448.67 Q1357.21 1448.67 1360.31 1451.1 Q1363.42 1453.5 1363.42 1457.63 Q1363.42 1460.5 1361.77 1462.49 Q1360.13 1464.45 1357.1 1465.22 Z\" fill=\"#000000\" fill-rule=\"evenodd\" fill-opacity=\"1\" /><path clip-path=\"url(#clip920)\" d=\"M 0 0 M1373.14 1449.29 L1391.49 1449.29 L1391.49 1453.23 L1377.42 1453.23 L1377.42 1461.7 Q1378.44 1461.35 1379.46 1461.19 Q1380.48 1461 1381.49 1461 Q1387.28 1461 1390.66 1464.18 Q1394.04 1467.35 1394.04 1472.76 Q1394.04 1478.34 1390.57 1481.44 Q1387.1 1484.52 1380.78 1484.52 Q1378.6 1484.52 1376.33 1484.15 Q1374.09 1483.78 1371.68 1483.04 L1371.68 1478.34 Q1373.76 1479.48 1375.98 1480.03 Q1378.21 1480.59 1380.68 1480.59 Q1384.69 1480.59 1387.03 1478.48 Q1389.36 1476.38 1389.36 1472.76 Q1389.36 1469.15 1387.03 1467.05 Q1384.69 1464.94 1380.68 1464.94 Q1378.81 1464.94 1376.93 1465.36 Q1375.08 1465.77 1373.14 1466.65 L1373.14 1449.29 Z\" fill=\"#000000\" fill-rule=\"evenodd\" fill-opacity=\"1\" /><path clip-path=\"url(#clip920)\" d=\"M 0 0 M1790.45 1479.92 L1798.08 1479.92 L1798.08 1453.55 L1789.77 1455.22 L1789.77 1450.96 L1798.04 1449.29 L1802.71 1449.29 L1802.71 1479.92 L1810.35 1479.92 L1810.35 1483.85 L1790.45 1483.85 L1790.45 1479.92 Z\" fill=\"#000000\" fill-rule=\"evenodd\" fill-opacity=\"1\" /><path clip-path=\"url(#clip920)\" d=\"M 0 0 M1829.8 1452.37 Q1826.19 1452.37 1824.36 1455.94 Q1822.55 1459.48 1822.55 1466.61 Q1822.55 1473.71 1824.36 1477.28 Q1826.19 1480.82 1829.8 1480.82 Q1833.43 1480.82 1835.24 1477.28 Q1837.07 1473.71 1837.07 1466.61 Q1837.07 1459.48 1835.24 1455.94 Q1833.43 1452.37 1829.8 1452.37 M1829.8 1448.67 Q1835.61 1448.67 1838.66 1453.27 Q1841.74 1457.86 1841.74 1466.61 Q1841.74 1475.33 1838.66 1479.94 Q1835.61 1484.52 1829.8 1484.52 Q1823.99 1484.52 1820.91 1479.94 Q1817.85 1475.33 1817.85 1466.61 Q1817.85 1457.86 1820.91 1453.27 Q1823.99 1448.67 1829.8 1448.67 Z\" fill=\"#000000\" fill-rule=\"evenodd\" fill-opacity=\"1\" /><path clip-path=\"url(#clip920)\" d=\"M 0 0 M1849.96 1477.97 L1854.84 1477.97 L1854.84 1483.85 L1849.96 1483.85 L1849.96 1477.97 Z\" fill=\"#000000\" fill-rule=\"evenodd\" fill-opacity=\"1\" /><path clip-path=\"url(#clip920)\" d=\"M 0 0 M1877.88 1453.37 L1866.07 1471.81 L1877.88 1471.81 L1877.88 1453.37 M1876.65 1449.29 L1882.53 1449.29 L1882.53 1471.81 L1887.46 1471.81 L1887.46 1475.7 L1882.53 1475.7 L1882.53 1483.85 L1877.88 1483.85 L1877.88 1475.7 L1862.27 1475.7 L1862.27 1471.19 L1876.65 1449.29 Z\" fill=\"#000000\" fill-rule=\"evenodd\" fill-opacity=\"1\" /><path clip-path=\"url(#clip920)\" d=\"M 0 0 M1905.19 1452.37 Q1901.58 1452.37 1899.75 1455.94 Q1897.95 1459.48 1897.95 1466.61 Q1897.95 1473.71 1899.75 1477.28 Q1901.58 1480.82 1905.19 1480.82 Q1908.82 1480.82 1910.63 1477.28 Q1912.46 1473.71 1912.46 1466.61 Q1912.46 1459.48 1910.63 1455.94 Q1908.82 1452.37 1905.19 1452.37 M1905.19 1448.67 Q1911 1448.67 1914.06 1453.27 Q1917.14 1457.86 1917.14 1466.61 Q1917.14 1475.33 1914.06 1479.94 Q1911 1484.52 1905.19 1484.52 Q1899.38 1484.52 1896.3 1479.94 Q1893.25 1475.33 1893.25 1466.61 Q1893.25 1457.86 1896.3 1453.27 Q1899.38 1448.67 1905.19 1448.67 Z\" fill=\"#000000\" fill-rule=\"evenodd\" fill-opacity=\"1\" /><path clip-path=\"url(#clip920)\" d=\"M 0 0 M1110.28 1539.24 Q1112.48 1535.29 1115.53 1533.41 Q1118.59 1531.54 1122.72 1531.54 Q1128.29 1531.54 1131.32 1535.45 Q1134.34 1539.33 1134.34 1546.53 L1134.34 1568.04 L1128.45 1568.04 L1128.45 1546.72 Q1128.45 1541.59 1126.64 1539.11 Q1124.82 1536.63 1121.1 1536.63 Q1116.55 1536.63 1113.91 1539.65 Q1111.27 1542.68 1111.27 1547.9 L1111.27 1568.04 L1105.38 1568.04 L1105.38 1546.72 Q1105.38 1541.56 1103.56 1539.11 Q1101.75 1536.63 1097.96 1536.63 Q1093.47 1536.63 1090.83 1539.68 Q1088.19 1542.71 1088.19 1547.9 L1088.19 1568.04 L1082.3 1568.04 L1082.3 1532.4 L1088.19 1532.4 L1088.19 1537.93 Q1090.2 1534.66 1093 1533.1 Q1095.8 1531.54 1099.65 1531.54 Q1103.53 1531.54 1106.24 1533.51 Q1108.97 1535.48 1110.28 1539.24 Z\" fill=\"#000000\" fill-rule=\"evenodd\" fill-opacity=\"1\" /><path clip-path=\"url(#clip920)\" d=\"M 0 0 M1146.02 1532.4 L1151.88 1532.4 L1151.88 1568.04 L1146.02 1568.04 L1146.02 1532.4 M1146.02 1518.52 L1151.88 1518.52 L1151.88 1525.93 L1146.02 1525.93 L1146.02 1518.52 Z\" fill=\"#000000\" fill-rule=\"evenodd\" fill-opacity=\"1\" /><path clip-path=\"url(#clip920)\" d=\"M 0 0 M1164.13 1518.52 L1169.99 1518.52 L1169.99 1568.04 L1164.13 1568.04 L1164.13 1518.52 Z\" fill=\"#000000\" fill-rule=\"evenodd\" fill-opacity=\"1\" /><path clip-path=\"url(#clip920)\" d=\"M 0 0 M1182.24 1518.52 L1188.1 1518.52 L1188.1 1568.04 L1182.24 1568.04 L1182.24 1518.52 Z\" fill=\"#000000\" fill-rule=\"evenodd\" fill-opacity=\"1\" /><path clip-path=\"url(#clip920)\" d=\"M 0 0 M1200.35 1532.4 L1206.21 1532.4 L1206.21 1568.04 L1200.35 1568.04 L1200.35 1532.4 M1200.35 1518.52 L1206.21 1518.52 L1206.21 1525.93 L1200.35 1525.93 L1200.35 1518.52 Z\" fill=\"#000000\" fill-rule=\"evenodd\" fill-opacity=\"1\" /><path clip-path=\"url(#clip920)\" d=\"M 0 0 M1241.19 1533.45 L1241.19 1538.98 Q1238.71 1537.71 1236.03 1537.07 Q1233.36 1536.44 1230.5 1536.44 Q1226.13 1536.44 1223.94 1537.77 Q1221.77 1539.11 1221.77 1541.79 Q1221.77 1543.82 1223.33 1545 Q1224.89 1546.15 1229.6 1547.2 L1231.61 1547.64 Q1237.85 1548.98 1240.46 1551.43 Q1243.1 1553.85 1243.1 1558.21 Q1243.1 1563.17 1239.15 1566.07 Q1235.24 1568.97 1228.36 1568.97 Q1225.5 1568.97 1222.38 1568.39 Q1219.29 1567.85 1215.85 1566.74 L1215.85 1560.69 Q1219.1 1562.38 1222.25 1563.24 Q1225.4 1564.07 1228.49 1564.07 Q1232.63 1564.07 1234.86 1562.66 Q1237.08 1561.23 1237.08 1558.65 Q1237.08 1556.27 1235.46 1554.99 Q1233.87 1553.72 1228.43 1552.54 L1226.39 1552.07 Q1220.95 1550.92 1218.53 1548.56 Q1216.11 1546.18 1216.11 1542.04 Q1216.11 1537.01 1219.67 1534.27 Q1223.24 1531.54 1229.8 1531.54 Q1233.04 1531.54 1235.91 1532.01 Q1238.77 1532.49 1241.19 1533.45 Z\" fill=\"#000000\" fill-rule=\"evenodd\" fill-opacity=\"1\" /><path clip-path=\"url(#clip920)\" d=\"M 0 0 M1282.92 1548.76 L1282.92 1551.62 L1255.99 1551.62 Q1256.37 1557.67 1259.62 1560.85 Q1262.9 1564 1268.72 1564 Q1272.1 1564 1275.25 1563.17 Q1278.43 1562.35 1281.55 1560.69 L1281.55 1566.23 Q1278.4 1567.57 1275.09 1568.27 Q1271.78 1568.97 1268.37 1568.97 Q1259.84 1568.97 1254.84 1564 Q1249.88 1559.04 1249.88 1550.57 Q1249.88 1541.82 1254.59 1536.69 Q1259.33 1531.54 1267.35 1531.54 Q1274.55 1531.54 1278.72 1536.18 Q1282.92 1540.8 1282.92 1548.76 M1277.06 1547.04 Q1277 1542.23 1274.36 1539.37 Q1271.75 1536.5 1267.42 1536.5 Q1262.51 1536.5 1259.55 1539.27 Q1256.63 1542.04 1256.18 1547.07 L1277.06 1547.04 Z\" fill=\"#000000\" fill-rule=\"evenodd\" fill-opacity=\"1\" /><path clip-path=\"url(#clip920)\" d=\"M 0 0 M1318.18 1533.76 L1318.18 1539.24 Q1315.7 1537.87 1313.19 1537.2 Q1310.7 1536.5 1308.16 1536.5 Q1302.46 1536.5 1299.31 1540.13 Q1296.16 1543.73 1296.16 1550.25 Q1296.16 1556.78 1299.31 1560.4 Q1302.46 1564 1308.16 1564 Q1310.7 1564 1313.19 1563.33 Q1315.7 1562.63 1318.18 1561.26 L1318.18 1566.68 Q1315.73 1567.82 1313.09 1568.39 Q1310.48 1568.97 1307.52 1568.97 Q1299.47 1568.97 1294.73 1563.91 Q1289.98 1558.85 1289.98 1550.25 Q1289.98 1541.53 1294.76 1536.53 Q1299.56 1531.54 1307.9 1531.54 Q1310.61 1531.54 1313.19 1532.11 Q1315.76 1532.65 1318.18 1533.76 Z\" fill=\"#000000\" fill-rule=\"evenodd\" fill-opacity=\"1\" /><path clip-path=\"url(#clip920)\" d=\"M 0 0 M1342.18 1536.5 Q1337.47 1536.5 1334.73 1540.19 Q1332 1543.85 1332 1550.25 Q1332 1556.65 1334.7 1560.34 Q1337.44 1564 1342.18 1564 Q1346.86 1564 1349.6 1560.31 Q1352.34 1556.62 1352.34 1550.25 Q1352.34 1543.92 1349.6 1540.23 Q1346.86 1536.5 1342.18 1536.5 M1342.18 1531.54 Q1349.82 1531.54 1354.18 1536.5 Q1358.54 1541.47 1358.54 1550.25 Q1358.54 1559 1354.18 1564 Q1349.82 1568.97 1342.18 1568.97 Q1334.51 1568.97 1330.15 1564 Q1325.82 1559 1325.82 1550.25 Q1325.82 1541.47 1330.15 1536.5 Q1334.51 1531.54 1342.18 1531.54 Z\" fill=\"#000000\" fill-rule=\"evenodd\" fill-opacity=\"1\" /><path clip-path=\"url(#clip920)\" d=\"M 0 0 M1397.88 1546.53 L1397.88 1568.04 L1392.03 1568.04 L1392.03 1546.72 Q1392.03 1541.66 1390.05 1539.14 Q1388.08 1536.63 1384.13 1536.63 Q1379.39 1536.63 1376.65 1539.65 Q1373.91 1542.68 1373.91 1547.9 L1373.91 1568.04 L1368.03 1568.04 L1368.03 1532.4 L1373.91 1532.4 L1373.91 1537.93 Q1376.02 1534.72 1378.85 1533.13 Q1381.71 1531.54 1385.44 1531.54 Q1391.58 1531.54 1394.73 1535.36 Q1397.88 1539.14 1397.88 1546.53 Z\" fill=\"#000000\" fill-rule=\"evenodd\" fill-opacity=\"1\" /><path clip-path=\"url(#clip920)\" d=\"M 0 0 M1433.02 1537.81 L1433.02 1518.52 L1438.88 1518.52 L1438.88 1568.04 L1433.02 1568.04 L1433.02 1562.7 Q1431.17 1565.88 1428.34 1567.44 Q1425.54 1568.97 1421.59 1568.97 Q1415.13 1568.97 1411.06 1563.81 Q1407.02 1558.65 1407.02 1550.25 Q1407.02 1541.85 1411.06 1536.69 Q1415.13 1531.54 1421.59 1531.54 Q1425.54 1531.54 1428.34 1533.1 Q1431.17 1534.62 1433.02 1537.81 M1413.06 1550.25 Q1413.06 1556.71 1415.71 1560.4 Q1418.38 1564.07 1423.03 1564.07 Q1427.67 1564.07 1430.35 1560.4 Q1433.02 1556.71 1433.02 1550.25 Q1433.02 1543.79 1430.35 1540.13 Q1427.67 1536.44 1423.03 1536.44 Q1418.38 1536.44 1415.71 1540.13 Q1413.06 1543.79 1413.06 1550.25 Z\" fill=\"#000000\" fill-rule=\"evenodd\" fill-opacity=\"1\" /><path clip-path=\"url(#clip920)\" d=\"M 0 0 M1473.67 1533.45 L1473.67 1538.98 Q1471.18 1537.71 1468.51 1537.07 Q1465.84 1536.44 1462.97 1536.44 Q1458.61 1536.44 1456.41 1537.77 Q1454.25 1539.11 1454.25 1541.79 Q1454.25 1543.82 1455.81 1545 Q1457.37 1546.15 1462.08 1547.2 L1464.09 1547.64 Q1470.32 1548.98 1472.93 1551.43 Q1475.58 1553.85 1475.58 1558.21 Q1475.58 1563.17 1471.63 1566.07 Q1467.71 1568.97 1460.84 1568.97 Q1457.97 1568.97 1454.85 1568.39 Q1451.77 1567.85 1448.33 1566.74 L1448.33 1560.69 Q1451.58 1562.38 1454.73 1563.24 Q1457.88 1564.07 1460.97 1564.07 Q1465.1 1564.07 1467.33 1562.66 Q1469.56 1561.23 1469.56 1558.65 Q1469.56 1556.27 1467.94 1554.99 Q1466.34 1553.72 1460.9 1552.54 L1458.87 1552.07 Q1453.42 1550.92 1451 1548.56 Q1448.58 1546.18 1448.58 1542.04 Q1448.58 1537.01 1452.15 1534.27 Q1455.71 1531.54 1462.27 1531.54 Q1465.52 1531.54 1468.38 1532.01 Q1471.25 1532.49 1473.67 1533.45 Z\" fill=\"#000000\" fill-rule=\"evenodd\" fill-opacity=\"1\" /><polyline clip-path=\"url(#clip922)\" style=\"stroke:#000000; stroke-width:2; stroke-opacity:0.1; fill:none\" points=\"\n",
       "  205.121,1384.24 2352.76,1384.24 \n",
       "  \"/>\n",
       "<polyline clip-path=\"url(#clip922)\" style=\"stroke:#000000; stroke-width:2; stroke-opacity:0.1; fill:none\" points=\"\n",
       "  205.121,1059.73 2352.76,1059.73 \n",
       "  \"/>\n",
       "<polyline clip-path=\"url(#clip922)\" style=\"stroke:#000000; stroke-width:2; stroke-opacity:0.1; fill:none\" points=\"\n",
       "  205.121,735.212 2352.76,735.212 \n",
       "  \"/>\n",
       "<polyline clip-path=\"url(#clip922)\" style=\"stroke:#000000; stroke-width:2; stroke-opacity:0.1; fill:none\" points=\"\n",
       "  205.121,410.699 2352.76,410.699 \n",
       "  \"/>\n",
       "<polyline clip-path=\"url(#clip922)\" style=\"stroke:#000000; stroke-width:2; stroke-opacity:0.1; fill:none\" points=\"\n",
       "  205.121,86.1857 2352.76,86.1857 \n",
       "  \"/>\n",
       "<polyline clip-path=\"url(#clip920)\" style=\"stroke:#000000; stroke-width:4; stroke-opacity:1; fill:none\" points=\"\n",
       "  205.121,1423.18 205.121,47.2441 \n",
       "  \"/>\n",
       "<polyline clip-path=\"url(#clip920)\" style=\"stroke:#000000; stroke-width:4; stroke-opacity:1; fill:none\" points=\"\n",
       "  205.121,1384.24 230.893,1384.24 \n",
       "  \"/>\n",
       "<polyline clip-path=\"url(#clip920)\" style=\"stroke:#000000; stroke-width:4; stroke-opacity:1; fill:none\" points=\"\n",
       "  205.121,1059.73 230.893,1059.73 \n",
       "  \"/>\n",
       "<polyline clip-path=\"url(#clip920)\" style=\"stroke:#000000; stroke-width:4; stroke-opacity:1; fill:none\" points=\"\n",
       "  205.121,735.212 230.893,735.212 \n",
       "  \"/>\n",
       "<polyline clip-path=\"url(#clip920)\" style=\"stroke:#000000; stroke-width:4; stroke-opacity:1; fill:none\" points=\"\n",
       "  205.121,410.699 230.893,410.699 \n",
       "  \"/>\n",
       "<polyline clip-path=\"url(#clip920)\" style=\"stroke:#000000; stroke-width:4; stroke-opacity:1; fill:none\" points=\"\n",
       "  205.121,86.1857 230.893,86.1857 \n",
       "  \"/>\n",
       "<path clip-path=\"url(#clip920)\" d=\"M 0 0 M157.177 1370.04 Q153.566 1370.04 151.737 1373.6 Q149.931 1377.14 149.931 1384.27 Q149.931 1391.38 151.737 1394.94 Q153.566 1398.49 157.177 1398.49 Q160.811 1398.49 162.616 1394.94 Q164.445 1391.38 164.445 1384.27 Q164.445 1377.14 162.616 1373.6 Q160.811 1370.04 157.177 1370.04 M157.177 1366.33 Q162.987 1366.33 166.042 1370.94 Q169.121 1375.52 169.121 1384.27 Q169.121 1393 166.042 1397.61 Q162.987 1402.19 157.177 1402.19 Q151.366 1402.19 148.288 1397.61 Q145.232 1393 145.232 1384.27 Q145.232 1375.52 148.288 1370.94 Q151.366 1366.33 157.177 1366.33 Z\" fill=\"#000000\" fill-rule=\"evenodd\" fill-opacity=\"1\" /><path clip-path=\"url(#clip920)\" d=\"M 0 0 M117.825 1073.07 L125.464 1073.07 L125.464 1046.7 L117.154 1048.37 L117.154 1044.11 L125.418 1042.45 L130.093 1042.45 L130.093 1073.07 L137.732 1073.07 L137.732 1077.01 L117.825 1077.01 L117.825 1073.07 Z\" fill=\"#000000\" fill-rule=\"evenodd\" fill-opacity=\"1\" /><path clip-path=\"url(#clip920)\" d=\"M 0 0 M157.177 1045.52 Q153.566 1045.52 151.737 1049.09 Q149.931 1052.63 149.931 1059.76 Q149.931 1066.87 151.737 1070.43 Q153.566 1073.97 157.177 1073.97 Q160.811 1073.97 162.616 1070.43 Q164.445 1066.87 164.445 1059.76 Q164.445 1052.63 162.616 1049.09 Q160.811 1045.52 157.177 1045.52 M157.177 1041.82 Q162.987 1041.82 166.042 1046.43 Q169.121 1051.01 169.121 1059.76 Q169.121 1068.49 166.042 1073.09 Q162.987 1077.68 157.177 1077.68 Q151.366 1077.68 148.288 1073.09 Q145.232 1068.49 145.232 1059.76 Q145.232 1051.01 148.288 1046.43 Q151.366 1041.82 157.177 1041.82 Z\" fill=\"#000000\" fill-rule=\"evenodd\" fill-opacity=\"1\" /><path clip-path=\"url(#clip920)\" d=\"M 0 0 M121.043 748.557 L137.362 748.557 L137.362 752.492 L115.418 752.492 L115.418 748.557 Q118.08 745.802 122.663 741.173 Q127.269 736.52 128.45 735.177 Q130.695 732.654 131.575 730.918 Q132.478 729.159 132.478 727.469 Q132.478 724.714 130.533 722.978 Q128.612 721.242 125.51 721.242 Q123.311 721.242 120.857 722.006 Q118.427 722.77 115.649 724.321 L115.649 719.599 Q118.473 718.464 120.927 717.886 Q123.38 717.307 125.418 717.307 Q130.788 717.307 133.982 719.992 Q137.177 722.677 137.177 727.168 Q137.177 729.298 136.367 731.219 Q135.579 733.117 133.473 735.71 Q132.894 736.381 129.792 739.599 Q126.691 742.793 121.043 748.557 Z\" fill=\"#000000\" fill-rule=\"evenodd\" fill-opacity=\"1\" /><path clip-path=\"url(#clip920)\" d=\"M 0 0 M157.177 721.011 Q153.566 721.011 151.737 724.575 Q149.931 728.117 149.931 735.247 Q149.931 742.353 151.737 745.918 Q153.566 749.46 157.177 749.46 Q160.811 749.46 162.616 745.918 Q164.445 742.353 164.445 735.247 Q164.445 728.117 162.616 724.575 Q160.811 721.011 157.177 721.011 M157.177 717.307 Q162.987 717.307 166.042 721.913 Q169.121 726.497 169.121 735.247 Q169.121 743.973 166.042 748.58 Q162.987 753.163 157.177 753.163 Q151.366 753.163 148.288 748.58 Q145.232 743.973 145.232 735.247 Q145.232 726.497 148.288 721.913 Q151.366 717.307 157.177 717.307 Z\" fill=\"#000000\" fill-rule=\"evenodd\" fill-opacity=\"1\" /><path clip-path=\"url(#clip920)\" d=\"M 0 0 M131.181 409.345 Q134.538 410.062 136.413 412.331 Q138.311 414.599 138.311 417.933 Q138.311 423.048 134.792 425.849 Q131.274 428.65 124.793 428.65 Q122.617 428.65 120.302 428.21 Q118.01 427.794 115.556 426.937 L115.556 422.423 Q117.501 423.558 119.816 424.136 Q122.13 424.715 124.654 424.715 Q129.052 424.715 131.343 422.979 Q133.658 421.243 133.658 417.933 Q133.658 414.877 131.505 413.164 Q129.376 411.428 125.556 411.428 L121.529 411.428 L121.529 407.585 L125.742 407.585 Q129.191 407.585 131.019 406.22 Q132.848 404.831 132.848 402.238 Q132.848 399.576 130.95 398.164 Q129.075 396.729 125.556 396.729 Q123.635 396.729 121.436 397.146 Q119.237 397.562 116.598 398.442 L116.598 394.275 Q119.26 393.535 121.575 393.164 Q123.913 392.794 125.973 392.794 Q131.297 392.794 134.399 395.224 Q137.501 397.632 137.501 401.752 Q137.501 404.622 135.857 406.613 Q134.214 408.581 131.181 409.345 Z\" fill=\"#000000\" fill-rule=\"evenodd\" fill-opacity=\"1\" /><path clip-path=\"url(#clip920)\" d=\"M 0 0 M157.177 396.498 Q153.566 396.498 151.737 400.062 Q149.931 403.604 149.931 410.734 Q149.931 417.84 151.737 421.405 Q153.566 424.946 157.177 424.946 Q160.811 424.946 162.616 421.405 Q164.445 417.84 164.445 410.734 Q164.445 403.604 162.616 400.062 Q160.811 396.498 157.177 396.498 M157.177 392.794 Q162.987 392.794 166.042 397.4 Q169.121 401.984 169.121 410.734 Q169.121 419.46 166.042 424.067 Q162.987 428.65 157.177 428.65 Q151.366 428.65 148.288 424.067 Q145.232 419.46 145.232 410.734 Q145.232 401.984 148.288 397.4 Q151.366 392.794 157.177 392.794 Z\" fill=\"#000000\" fill-rule=\"evenodd\" fill-opacity=\"1\" /><path clip-path=\"url(#clip920)\" d=\"M 0 0 M129.862 72.9797 L118.056 91.4287 L129.862 91.4287 L129.862 72.9797 M128.635 68.9057 L134.515 68.9057 L134.515 91.4287 L139.445 91.4287 L139.445 95.3176 L134.515 95.3176 L134.515 103.466 L129.862 103.466 L129.862 95.3176 L114.26 95.3176 L114.26 90.8037 L128.635 68.9057 Z\" fill=\"#000000\" fill-rule=\"evenodd\" fill-opacity=\"1\" /><path clip-path=\"url(#clip920)\" d=\"M 0 0 M157.177 71.9844 Q153.566 71.9844 151.737 75.5492 Q149.931 79.0908 149.931 86.2204 Q149.931 93.3268 151.737 96.8916 Q153.566 100.433 157.177 100.433 Q160.811 100.433 162.616 96.8916 Q164.445 93.3268 164.445 86.2204 Q164.445 79.0908 162.616 75.5492 Q160.811 71.9844 157.177 71.9844 M157.177 68.2807 Q162.987 68.2807 166.042 72.8871 Q169.121 77.4704 169.121 86.2204 Q169.121 94.9472 166.042 99.5537 Q162.987 104.137 157.177 104.137 Q151.366 104.137 148.288 99.5537 Q145.232 94.9472 145.232 86.2204 Q145.232 77.4704 148.288 72.8871 Q151.366 68.2807 157.177 68.2807 Z\" fill=\"#000000\" fill-rule=\"evenodd\" fill-opacity=\"1\" /><path clip-path=\"url(#clip920)\" d=\"M 0 0 M29.7248 796.386 L35.1993 796.386 Q33.8307 798.869 33.1623 801.383 Q32.4621 803.866 32.4621 806.412 Q32.4621 812.11 36.0905 815.261 Q39.6872 818.412 46.212 818.412 Q52.7369 818.412 56.3653 815.261 Q59.9619 812.11 59.9619 806.412 Q59.9619 803.866 59.2935 801.383 Q58.5933 798.869 57.2247 796.386 L62.6355 796.386 Q63.7814 798.837 64.3543 801.479 Q64.9272 804.089 64.9272 807.049 Q64.9272 815.102 59.8664 819.844 Q54.8057 824.586 46.212 824.586 Q37.491 824.586 32.4939 819.812 Q27.4968 815.006 27.4968 806.667 Q27.4968 803.962 28.0697 801.383 Q28.6108 798.805 29.7248 796.386 Z\" fill=\"#000000\" fill-rule=\"evenodd\" fill-opacity=\"1\" /><path clip-path=\"url(#clip920)\" d=\"M 0 0 M32.4621 772.388 Q32.4621 777.098 36.1542 779.836 Q39.8145 782.573 46.212 782.573 Q52.6095 782.573 56.3017 779.867 Q59.9619 777.13 59.9619 772.388 Q59.9619 767.709 56.2698 764.972 Q52.5777 762.234 46.212 762.234 Q39.8781 762.234 36.186 764.972 Q32.4621 767.709 32.4621 772.388 M27.4968 772.388 Q27.4968 764.749 32.4621 760.388 Q37.4273 756.028 46.212 756.028 Q54.9649 756.028 59.9619 760.388 Q64.9272 764.749 64.9272 772.388 Q64.9272 780.058 59.9619 784.419 Q54.9649 788.748 46.212 788.748 Q37.4273 788.748 32.4621 784.419 Q27.4968 780.058 27.4968 772.388 Z\" fill=\"#000000\" fill-rule=\"evenodd\" fill-opacity=\"1\" /><path clip-path=\"url(#clip920)\" d=\"M 0 0 M49.9359 746.925 L28.3562 746.925 L28.3562 741.068 L49.7131 741.068 Q54.7739 741.068 57.3202 739.095 Q59.8346 737.122 59.8346 733.175 Q59.8346 728.432 56.8109 725.695 Q53.7872 722.926 48.5673 722.926 L28.3562 722.926 L28.3562 717.07 L64.0042 717.07 L64.0042 722.926 L58.5296 722.926 Q61.7762 725.059 63.3676 727.891 Q64.9272 730.692 64.9272 734.416 Q64.9272 740.559 61.1078 743.742 Q57.2883 746.925 49.9359 746.925 M27.4968 732.188 L27.4968 732.188 Z\" fill=\"#000000\" fill-rule=\"evenodd\" fill-opacity=\"1\" /><path clip-path=\"url(#clip920)\" d=\"M 0 0 M42.4881 675.374 L64.0042 675.374 L64.0042 681.231 L42.679 681.231 Q37.6183 681.231 35.1038 683.204 Q32.5894 685.178 32.5894 689.124 Q32.5894 693.867 35.6131 696.604 Q38.6368 699.341 43.8567 699.341 L64.0042 699.341 L64.0042 705.229 L28.3562 705.229 L28.3562 699.341 L33.8944 699.341 Q30.6797 697.241 29.0883 694.408 Q27.4968 691.543 27.4968 687.819 Q27.4968 681.676 31.3163 678.525 Q35.1038 675.374 42.4881 675.374 Z\" fill=\"#000000\" fill-rule=\"evenodd\" fill-opacity=\"1\" /><path clip-path=\"url(#clip920)\" d=\"M 0 0 M18.2347 657.9 L28.3562 657.9 L28.3562 645.837 L32.9077 645.837 L32.9077 657.9 L52.2594 657.9 Q56.6199 657.9 57.8613 656.723 Q59.1026 655.513 59.1026 651.853 L59.1026 645.837 L64.0042 645.837 L64.0042 651.853 Q64.0042 658.633 61.4897 661.211 Q58.9434 663.789 52.2594 663.789 L32.9077 663.789 L32.9077 668.086 L28.3562 668.086 L28.3562 663.789 L18.2347 663.789 L18.2347 657.9 Z\" fill=\"#000000\" fill-rule=\"evenodd\" fill-opacity=\"1\" /><path clip-path=\"url(#clip922)\" d=\"\n",
       "M285.664 1221.98 L285.664 1384.24 L337.923 1384.24 L337.923 1221.98 L285.664 1221.98 L285.664 1221.98  Z\n",
       "  \" fill=\"#009af9\" fill-rule=\"evenodd\" fill-opacity=\"1\"/>\n",
       "<polyline clip-path=\"url(#clip922)\" style=\"stroke:#000000; stroke-width:4; stroke-opacity:1; fill:none\" points=\"\n",
       "  285.664,1221.98 285.664,1384.24 337.923,1384.24 337.923,1221.98 285.664,1221.98 \n",
       "  \"/>\n",
       "<path clip-path=\"url(#clip922)\" d=\"\n",
       "M337.923 1221.98 L337.923 1384.24 L390.183 1384.24 L390.183 1221.98 L337.923 1221.98 L337.923 1221.98  Z\n",
       "  \" fill=\"#009af9\" fill-rule=\"evenodd\" fill-opacity=\"1\"/>\n",
       "<polyline clip-path=\"url(#clip922)\" style=\"stroke:#000000; stroke-width:4; stroke-opacity:1; fill:none\" points=\"\n",
       "  337.923,1221.98 337.923,1384.24 390.183,1384.24 390.183,1221.98 337.923,1221.98 \n",
       "  \"/>\n",
       "<path clip-path=\"url(#clip922)\" d=\"\n",
       "M390.183 1124.63 L390.183 1384.24 L442.443 1384.24 L442.443 1124.63 L390.183 1124.63 L390.183 1124.63  Z\n",
       "  \" fill=\"#009af9\" fill-rule=\"evenodd\" fill-opacity=\"1\"/>\n",
       "<polyline clip-path=\"url(#clip922)\" style=\"stroke:#000000; stroke-width:4; stroke-opacity:1; fill:none\" points=\"\n",
       "  390.183,1124.63 390.183,1384.24 442.443,1384.24 442.443,1124.63 390.183,1124.63 \n",
       "  \"/>\n",
       "<path clip-path=\"url(#clip922)\" d=\"\n",
       "M442.443 1384.24 L442.443 1384.24 L494.702 1384.24 L494.702 1384.24 L442.443 1384.24 L442.443 1384.24  Z\n",
       "  \" fill=\"#009af9\" fill-rule=\"evenodd\" fill-opacity=\"1\"/>\n",
       "<polyline clip-path=\"url(#clip922)\" style=\"stroke:#000000; stroke-width:4; stroke-opacity:1; fill:none\" points=\"\n",
       "  442.443,1384.24 442.443,1384.24 494.702,1384.24 442.443,1384.24 \n",
       "  \"/>\n",
       "<path clip-path=\"url(#clip922)\" d=\"\n",
       "M494.702 1351.79 L494.702 1384.24 L546.962 1384.24 L546.962 1351.79 L494.702 1351.79 L494.702 1351.79  Z\n",
       "  \" fill=\"#009af9\" fill-rule=\"evenodd\" fill-opacity=\"1\"/>\n",
       "<polyline clip-path=\"url(#clip922)\" style=\"stroke:#000000; stroke-width:4; stroke-opacity:1; fill:none\" points=\"\n",
       "  494.702,1351.79 494.702,1384.24 546.962,1384.24 546.962,1351.79 494.702,1351.79 \n",
       "  \"/>\n",
       "<path clip-path=\"url(#clip922)\" d=\"\n",
       "M546.962 1319.34 L546.962 1384.24 L599.222 1384.24 L599.222 1319.34 L546.962 1319.34 L546.962 1319.34  Z\n",
       "  \" fill=\"#009af9\" fill-rule=\"evenodd\" fill-opacity=\"1\"/>\n",
       "<polyline clip-path=\"url(#clip922)\" style=\"stroke:#000000; stroke-width:4; stroke-opacity:1; fill:none\" points=\"\n",
       "  546.962,1319.34 546.962,1384.24 599.222,1384.24 599.222,1319.34 546.962,1319.34 \n",
       "  \"/>\n",
       "<path clip-path=\"url(#clip922)\" d=\"\n",
       "M599.222 1092.18 L599.222 1384.24 L651.482 1384.24 L651.482 1092.18 L599.222 1092.18 L599.222 1092.18  Z\n",
       "  \" fill=\"#009af9\" fill-rule=\"evenodd\" fill-opacity=\"1\"/>\n",
       "<polyline clip-path=\"url(#clip922)\" style=\"stroke:#000000; stroke-width:4; stroke-opacity:1; fill:none\" points=\"\n",
       "  599.222,1092.18 599.222,1384.24 651.482,1384.24 651.482,1092.18 599.222,1092.18 \n",
       "  \"/>\n",
       "<path clip-path=\"url(#clip922)\" d=\"\n",
       "M651.482 832.566 L651.482 1384.24 L703.741 1384.24 L703.741 832.566 L651.482 832.566 L651.482 832.566  Z\n",
       "  \" fill=\"#009af9\" fill-rule=\"evenodd\" fill-opacity=\"1\"/>\n",
       "<polyline clip-path=\"url(#clip922)\" style=\"stroke:#000000; stroke-width:4; stroke-opacity:1; fill:none\" points=\"\n",
       "  651.482,832.566 651.482,1384.24 703.741,1384.24 703.741,832.566 651.482,832.566 \n",
       "  \"/>\n",
       "<path clip-path=\"url(#clip922)\" d=\"\n",
       "M703.741 962.371 L703.741 1384.24 L756.001 1384.24 L756.001 962.371 L703.741 962.371 L703.741 962.371  Z\n",
       "  \" fill=\"#009af9\" fill-rule=\"evenodd\" fill-opacity=\"1\"/>\n",
       "<polyline clip-path=\"url(#clip922)\" style=\"stroke:#000000; stroke-width:4; stroke-opacity:1; fill:none\" points=\"\n",
       "  703.741,962.371 703.741,1384.24 756.001,1384.24 756.001,962.371 703.741,962.371 \n",
       "  \"/>\n",
       "<path clip-path=\"url(#clip922)\" d=\"\n",
       "M756.001 1221.98 L756.001 1384.24 L808.261 1384.24 L808.261 1221.98 L756.001 1221.98 L756.001 1221.98  Z\n",
       "  \" fill=\"#009af9\" fill-rule=\"evenodd\" fill-opacity=\"1\"/>\n",
       "<polyline clip-path=\"url(#clip922)\" style=\"stroke:#000000; stroke-width:4; stroke-opacity:1; fill:none\" points=\"\n",
       "  756.001,1221.98 756.001,1384.24 808.261,1384.24 808.261,1221.98 756.001,1221.98 \n",
       "  \"/>\n",
       "<path clip-path=\"url(#clip922)\" d=\"\n",
       "M808.261 1319.34 L808.261 1384.24 L860.52 1384.24 L860.52 1319.34 L808.261 1319.34 L808.261 1319.34  Z\n",
       "  \" fill=\"#009af9\" fill-rule=\"evenodd\" fill-opacity=\"1\"/>\n",
       "<polyline clip-path=\"url(#clip922)\" style=\"stroke:#000000; stroke-width:4; stroke-opacity:1; fill:none\" points=\"\n",
       "  808.261,1319.34 808.261,1384.24 860.52,1384.24 860.52,1319.34 808.261,1319.34 \n",
       "  \"/>\n",
       "<path clip-path=\"url(#clip922)\" d=\"\n",
       "M860.52 1351.79 L860.52 1384.24 L912.78 1384.24 L912.78 1351.79 L860.52 1351.79 L860.52 1351.79  Z\n",
       "  \" fill=\"#009af9\" fill-rule=\"evenodd\" fill-opacity=\"1\"/>\n",
       "<polyline clip-path=\"url(#clip922)\" style=\"stroke:#000000; stroke-width:4; stroke-opacity:1; fill:none\" points=\"\n",
       "  860.52,1351.79 860.52,1384.24 912.78,1384.24 912.78,1351.79 860.52,1351.79 \n",
       "  \"/>\n",
       "<path clip-path=\"url(#clip922)\" d=\"\n",
       "M912.78 1059.73 L912.78 1384.24 L965.04 1384.24 L965.04 1059.73 L912.78 1059.73 L912.78 1059.73  Z\n",
       "  \" fill=\"#009af9\" fill-rule=\"evenodd\" fill-opacity=\"1\"/>\n",
       "<polyline clip-path=\"url(#clip922)\" style=\"stroke:#000000; stroke-width:4; stroke-opacity:1; fill:none\" points=\"\n",
       "  912.78,1059.73 912.78,1384.24 965.04,1384.24 965.04,1059.73 912.78,1059.73 \n",
       "  \"/>\n",
       "<path clip-path=\"url(#clip922)\" d=\"\n",
       "M965.04 702.761 L965.04 1384.24 L1017.3 1384.24 L1017.3 702.761 L965.04 702.761 L965.04 702.761  Z\n",
       "  \" fill=\"#009af9\" fill-rule=\"evenodd\" fill-opacity=\"1\"/>\n",
       "<polyline clip-path=\"url(#clip922)\" style=\"stroke:#000000; stroke-width:4; stroke-opacity:1; fill:none\" points=\"\n",
       "  965.04,702.761 965.04,1384.24 1017.3,1384.24 1017.3,702.761 965.04,702.761 \n",
       "  \"/>\n",
       "<path clip-path=\"url(#clip922)\" d=\"\n",
       "M1017.3 1221.98 L1017.3 1384.24 L1069.56 1384.24 L1069.56 1221.98 L1017.3 1221.98 L1017.3 1221.98  Z\n",
       "  \" fill=\"#009af9\" fill-rule=\"evenodd\" fill-opacity=\"1\"/>\n",
       "<polyline clip-path=\"url(#clip922)\" style=\"stroke:#000000; stroke-width:4; stroke-opacity:1; fill:none\" points=\"\n",
       "  1017.3,1221.98 1017.3,1384.24 1069.56,1384.24 1069.56,1221.98 1017.3,1221.98 \n",
       "  \"/>\n",
       "<path clip-path=\"url(#clip922)\" d=\"\n",
       "M1069.56 1286.88 L1069.56 1384.24 L1121.82 1384.24 L1121.82 1286.88 L1069.56 1286.88 L1069.56 1286.88  Z\n",
       "  \" fill=\"#009af9\" fill-rule=\"evenodd\" fill-opacity=\"1\"/>\n",
       "<polyline clip-path=\"url(#clip922)\" style=\"stroke:#000000; stroke-width:4; stroke-opacity:1; fill:none\" points=\"\n",
       "  1069.56,1286.88 1069.56,1384.24 1121.82,1384.24 1121.82,1286.88 1069.56,1286.88 \n",
       "  \"/>\n",
       "<path clip-path=\"url(#clip922)\" d=\"\n",
       "M1121.82 1319.34 L1121.82 1384.24 L1174.08 1384.24 L1174.08 1319.34 L1121.82 1319.34 L1121.82 1319.34  Z\n",
       "  \" fill=\"#009af9\" fill-rule=\"evenodd\" fill-opacity=\"1\"/>\n",
       "<polyline clip-path=\"url(#clip922)\" style=\"stroke:#000000; stroke-width:4; stroke-opacity:1; fill:none\" points=\"\n",
       "  1121.82,1319.34 1121.82,1384.24 1174.08,1384.24 1174.08,1319.34 1121.82,1319.34 \n",
       "  \"/>\n",
       "<path clip-path=\"url(#clip922)\" d=\"\n",
       "M1174.08 1254.43 L1174.08 1384.24 L1226.34 1384.24 L1226.34 1254.43 L1174.08 1254.43 L1174.08 1254.43  Z\n",
       "  \" fill=\"#009af9\" fill-rule=\"evenodd\" fill-opacity=\"1\"/>\n",
       "<polyline clip-path=\"url(#clip922)\" style=\"stroke:#000000; stroke-width:4; stroke-opacity:1; fill:none\" points=\"\n",
       "  1174.08,1254.43 1174.08,1384.24 1226.34,1384.24 1226.34,1254.43 1174.08,1254.43 \n",
       "  \"/>\n",
       "<path clip-path=\"url(#clip922)\" d=\"\n",
       "M1226.34 1221.98 L1226.34 1384.24 L1278.6 1384.24 L1278.6 1221.98 L1226.34 1221.98 L1226.34 1221.98  Z\n",
       "  \" fill=\"#009af9\" fill-rule=\"evenodd\" fill-opacity=\"1\"/>\n",
       "<polyline clip-path=\"url(#clip922)\" style=\"stroke:#000000; stroke-width:4; stroke-opacity:1; fill:none\" points=\"\n",
       "  1226.34,1221.98 1226.34,1384.24 1278.6,1384.24 1278.6,1221.98 1226.34,1221.98 \n",
       "  \"/>\n",
       "<path clip-path=\"url(#clip922)\" d=\"\n",
       "M1278.6 994.822 L1278.6 1384.24 L1330.86 1384.24 L1330.86 994.822 L1278.6 994.822 L1278.6 994.822  Z\n",
       "  \" fill=\"#009af9\" fill-rule=\"evenodd\" fill-opacity=\"1\"/>\n",
       "<polyline clip-path=\"url(#clip922)\" style=\"stroke:#000000; stroke-width:4; stroke-opacity:1; fill:none\" points=\"\n",
       "  1278.6,994.822 1278.6,1384.24 1330.86,1384.24 1330.86,994.822 1278.6,994.822 \n",
       "  \"/>\n",
       "<path clip-path=\"url(#clip922)\" d=\"\n",
       "M1330.86 1189.53 L1330.86 1384.24 L1383.12 1384.24 L1383.12 1189.53 L1330.86 1189.53 L1330.86 1189.53  Z\n",
       "  \" fill=\"#009af9\" fill-rule=\"evenodd\" fill-opacity=\"1\"/>\n",
       "<polyline clip-path=\"url(#clip922)\" style=\"stroke:#000000; stroke-width:4; stroke-opacity:1; fill:none\" points=\"\n",
       "  1330.86,1189.53 1330.86,1384.24 1383.12,1384.24 1383.12,1189.53 1330.86,1189.53 \n",
       "  \"/>\n",
       "<path clip-path=\"url(#clip922)\" d=\"\n",
       "M1383.12 1189.53 L1383.12 1384.24 L1435.38 1384.24 L1435.38 1189.53 L1383.12 1189.53 L1383.12 1189.53  Z\n",
       "  \" fill=\"#009af9\" fill-rule=\"evenodd\" fill-opacity=\"1\"/>\n",
       "<polyline clip-path=\"url(#clip922)\" style=\"stroke:#000000; stroke-width:4; stroke-opacity:1; fill:none\" points=\"\n",
       "  1383.12,1189.53 1383.12,1384.24 1435.38,1384.24 1435.38,1189.53 1383.12,1189.53 \n",
       "  \"/>\n",
       "<path clip-path=\"url(#clip922)\" d=\"\n",
       "M1435.38 1319.34 L1435.38 1384.24 L1487.64 1384.24 L1487.64 1319.34 L1435.38 1319.34 L1435.38 1319.34  Z\n",
       "  \" fill=\"#009af9\" fill-rule=\"evenodd\" fill-opacity=\"1\"/>\n",
       "<polyline clip-path=\"url(#clip922)\" style=\"stroke:#000000; stroke-width:4; stroke-opacity:1; fill:none\" points=\"\n",
       "  1435.38,1319.34 1435.38,1384.24 1487.64,1384.24 1487.64,1319.34 1435.38,1319.34 \n",
       "  \"/>\n",
       "<path clip-path=\"url(#clip922)\" d=\"\n",
       "M1487.64 1351.79 L1487.64 1384.24 L1539.9 1384.24 L1539.9 1351.79 L1487.64 1351.79 L1487.64 1351.79  Z\n",
       "  \" fill=\"#009af9\" fill-rule=\"evenodd\" fill-opacity=\"1\"/>\n",
       "<polyline clip-path=\"url(#clip922)\" style=\"stroke:#000000; stroke-width:4; stroke-opacity:1; fill:none\" points=\"\n",
       "  1487.64,1351.79 1487.64,1384.24 1539.9,1384.24 1539.9,1351.79 1487.64,1351.79 \n",
       "  \"/>\n",
       "<path clip-path=\"url(#clip922)\" d=\"\n",
       "M1539.9 1319.34 L1539.9 1384.24 L1592.16 1384.24 L1592.16 1319.34 L1539.9 1319.34 L1539.9 1319.34  Z\n",
       "  \" fill=\"#009af9\" fill-rule=\"evenodd\" fill-opacity=\"1\"/>\n",
       "<polyline clip-path=\"url(#clip922)\" style=\"stroke:#000000; stroke-width:4; stroke-opacity:1; fill:none\" points=\"\n",
       "  1539.9,1319.34 1539.9,1384.24 1592.16,1384.24 1592.16,1319.34 1539.9,1319.34 \n",
       "  \"/>\n",
       "<path clip-path=\"url(#clip922)\" d=\"\n",
       "M1592.16 1124.63 L1592.16 1384.24 L1644.42 1384.24 L1644.42 1124.63 L1592.16 1124.63 L1592.16 1124.63  Z\n",
       "  \" fill=\"#009af9\" fill-rule=\"evenodd\" fill-opacity=\"1\"/>\n",
       "<polyline clip-path=\"url(#clip922)\" style=\"stroke:#000000; stroke-width:4; stroke-opacity:1; fill:none\" points=\"\n",
       "  1592.16,1124.63 1592.16,1384.24 1644.42,1384.24 1644.42,1124.63 1592.16,1124.63 \n",
       "  \"/>\n",
       "<path clip-path=\"url(#clip922)\" d=\"\n",
       "M1644.42 1286.88 L1644.42 1384.24 L1696.68 1384.24 L1696.68 1286.88 L1644.42 1286.88 L1644.42 1286.88  Z\n",
       "  \" fill=\"#009af9\" fill-rule=\"evenodd\" fill-opacity=\"1\"/>\n",
       "<polyline clip-path=\"url(#clip922)\" style=\"stroke:#000000; stroke-width:4; stroke-opacity:1; fill:none\" points=\"\n",
       "  1644.42,1286.88 1644.42,1384.24 1696.68,1384.24 1696.68,1286.88 1644.42,1286.88 \n",
       "  \"/>\n",
       "<path clip-path=\"url(#clip922)\" d=\"\n",
       "M1696.68 1351.79 L1696.68 1384.24 L1748.94 1384.24 L1748.94 1351.79 L1696.68 1351.79 L1696.68 1351.79  Z\n",
       "  \" fill=\"#009af9\" fill-rule=\"evenodd\" fill-opacity=\"1\"/>\n",
       "<polyline clip-path=\"url(#clip922)\" style=\"stroke:#000000; stroke-width:4; stroke-opacity:1; fill:none\" points=\"\n",
       "  1696.68,1351.79 1696.68,1384.24 1748.94,1384.24 1748.94,1351.79 1696.68,1351.79 \n",
       "  \"/>\n",
       "<path clip-path=\"url(#clip922)\" d=\"\n",
       "M1748.94 1254.43 L1748.94 1384.24 L1801.2 1384.24 L1801.2 1254.43 L1748.94 1254.43 L1748.94 1254.43  Z\n",
       "  \" fill=\"#009af9\" fill-rule=\"evenodd\" fill-opacity=\"1\"/>\n",
       "<polyline clip-path=\"url(#clip922)\" style=\"stroke:#000000; stroke-width:4; stroke-opacity:1; fill:none\" points=\"\n",
       "  1748.94,1254.43 1748.94,1384.24 1801.2,1384.24 1801.2,1254.43 1748.94,1254.43 \n",
       "  \"/>\n",
       "<path clip-path=\"url(#clip922)\" d=\"\n",
       "M1801.2 1286.88 L1801.2 1384.24 L1853.45 1384.24 L1853.45 1286.88 L1801.2 1286.88 L1801.2 1286.88  Z\n",
       "  \" fill=\"#009af9\" fill-rule=\"evenodd\" fill-opacity=\"1\"/>\n",
       "<polyline clip-path=\"url(#clip922)\" style=\"stroke:#000000; stroke-width:4; stroke-opacity:1; fill:none\" points=\"\n",
       "  1801.2,1286.88 1801.2,1384.24 1853.45,1384.24 1853.45,1286.88 1801.2,1286.88 \n",
       "  \"/>\n",
       "<path clip-path=\"url(#clip922)\" d=\"\n",
       "M1853.45 1221.98 L1853.45 1384.24 L1905.71 1384.24 L1905.71 1221.98 L1853.45 1221.98 L1853.45 1221.98  Z\n",
       "  \" fill=\"#009af9\" fill-rule=\"evenodd\" fill-opacity=\"1\"/>\n",
       "<polyline clip-path=\"url(#clip922)\" style=\"stroke:#000000; stroke-width:4; stroke-opacity:1; fill:none\" points=\"\n",
       "  1853.45,1221.98 1853.45,1384.24 1905.71,1384.24 1905.71,1221.98 1853.45,1221.98 \n",
       "  \"/>\n",
       "<path clip-path=\"url(#clip922)\" d=\"\n",
       "M1905.71 1319.34 L1905.71 1384.24 L1957.97 1384.24 L1957.97 1319.34 L1905.71 1319.34 L1905.71 1319.34  Z\n",
       "  \" fill=\"#009af9\" fill-rule=\"evenodd\" fill-opacity=\"1\"/>\n",
       "<polyline clip-path=\"url(#clip922)\" style=\"stroke:#000000; stroke-width:4; stroke-opacity:1; fill:none\" points=\"\n",
       "  1905.71,1319.34 1905.71,1384.24 1957.97,1384.24 1957.97,1319.34 1905.71,1319.34 \n",
       "  \"/>\n",
       "<path clip-path=\"url(#clip922)\" d=\"\n",
       "M1957.97 1254.43 L1957.97 1384.24 L2010.23 1384.24 L2010.23 1254.43 L1957.97 1254.43 L1957.97 1254.43  Z\n",
       "  \" fill=\"#009af9\" fill-rule=\"evenodd\" fill-opacity=\"1\"/>\n",
       "<polyline clip-path=\"url(#clip922)\" style=\"stroke:#000000; stroke-width:4; stroke-opacity:1; fill:none\" points=\"\n",
       "  1957.97,1254.43 1957.97,1384.24 2010.23,1384.24 2010.23,1254.43 1957.97,1254.43 \n",
       "  \"/>\n",
       "<path clip-path=\"url(#clip922)\" d=\"\n",
       "M2010.23 1319.34 L2010.23 1384.24 L2062.49 1384.24 L2062.49 1319.34 L2010.23 1319.34 L2010.23 1319.34  Z\n",
       "  \" fill=\"#009af9\" fill-rule=\"evenodd\" fill-opacity=\"1\"/>\n",
       "<polyline clip-path=\"url(#clip922)\" style=\"stroke:#000000; stroke-width:4; stroke-opacity:1; fill:none\" points=\"\n",
       "  2010.23,1319.34 2010.23,1384.24 2062.49,1384.24 2062.49,1319.34 2010.23,1319.34 \n",
       "  \"/>\n",
       "<path clip-path=\"url(#clip922)\" d=\"\n",
       "M2062.49 1319.34 L2062.49 1384.24 L2114.75 1384.24 L2114.75 1319.34 L2062.49 1319.34 L2062.49 1319.34  Z\n",
       "  \" fill=\"#009af9\" fill-rule=\"evenodd\" fill-opacity=\"1\"/>\n",
       "<polyline clip-path=\"url(#clip922)\" style=\"stroke:#000000; stroke-width:4; stroke-opacity:1; fill:none\" points=\"\n",
       "  2062.49,1319.34 2062.49,1384.24 2114.75,1384.24 2114.75,1319.34 2062.49,1319.34 \n",
       "  \"/>\n",
       "<path clip-path=\"url(#clip922)\" d=\"\n",
       "M2114.75 1351.79 L2114.75 1384.24 L2167.01 1384.24 L2167.01 1351.79 L2114.75 1351.79 L2114.75 1351.79  Z\n",
       "  \" fill=\"#009af9\" fill-rule=\"evenodd\" fill-opacity=\"1\"/>\n",
       "<polyline clip-path=\"url(#clip922)\" style=\"stroke:#000000; stroke-width:4; stroke-opacity:1; fill:none\" points=\"\n",
       "  2114.75,1351.79 2114.75,1384.24 2167.01,1384.24 2167.01,1351.79 2114.75,1351.79 \n",
       "  \"/>\n",
       "<path clip-path=\"url(#clip922)\" d=\"\n",
       "M2167.01 1286.88 L2167.01 1384.24 L2219.27 1384.24 L2219.27 1286.88 L2167.01 1286.88 L2167.01 1286.88  Z\n",
       "  \" fill=\"#009af9\" fill-rule=\"evenodd\" fill-opacity=\"1\"/>\n",
       "<polyline clip-path=\"url(#clip922)\" style=\"stroke:#000000; stroke-width:4; stroke-opacity:1; fill:none\" points=\"\n",
       "  2167.01,1286.88 2167.01,1384.24 2219.27,1384.24 2219.27,1286.88 2167.01,1286.88 \n",
       "  \"/>\n",
       "<path clip-path=\"url(#clip922)\" d=\"\n",
       "M2219.27 1319.34 L2219.27 1384.24 L2271.53 1384.24 L2271.53 1319.34 L2219.27 1319.34 L2219.27 1319.34  Z\n",
       "  \" fill=\"#009af9\" fill-rule=\"evenodd\" fill-opacity=\"1\"/>\n",
       "<polyline clip-path=\"url(#clip922)\" style=\"stroke:#000000; stroke-width:4; stroke-opacity:1; fill:none\" points=\"\n",
       "  2219.27,1319.34 2219.27,1384.24 2271.53,1384.24 2271.53,1319.34 2219.27,1319.34 \n",
       "  \"/>\n",
       "<path clip-path=\"url(#clip922)\" d=\"\n",
       "M2271.53 1221.98 L2271.53 1384.24 L2323.79 1384.24 L2323.79 1221.98 L2271.53 1221.98 L2271.53 1221.98  Z\n",
       "  \" fill=\"#009af9\" fill-rule=\"evenodd\" fill-opacity=\"1\"/>\n",
       "<polyline clip-path=\"url(#clip922)\" style=\"stroke:#000000; stroke-width:4; stroke-opacity:1; fill:none\" points=\"\n",
       "  2271.53,1221.98 2271.53,1384.24 2323.79,1384.24 2323.79,1221.98 2271.53,1221.98 \n",
       "  \"/>\n",
       "<path clip-path=\"url(#clip922)\" d=\"\n",
       "M2323.79 1351.79 L2323.79 1384.24 L2376.05 1384.24 L2376.05 1351.79 L2323.79 1351.79 L2323.79 1351.79  Z\n",
       "  \" fill=\"#009af9\" fill-rule=\"evenodd\" fill-opacity=\"1\"/>\n",
       "<polyline clip-path=\"url(#clip922)\" style=\"stroke:#000000; stroke-width:4; stroke-opacity:1; fill:none\" points=\"\n",
       "  2323.79,1351.79 2323.79,1384.24 2376.05,1384.24 2376.05,1351.79 2323.79,1351.79 \n",
       "  \"/>\n",
       "<path clip-path=\"url(#clip922)\" d=\"\n",
       "M2376.05 1384.24 L2376.05 1384.24 L2428.31 1384.24 L2428.31 1384.24 L2376.05 1384.24 L2376.05 1384.24  Z\n",
       "  \" fill=\"#009af9\" fill-rule=\"evenodd\" fill-opacity=\"1\"/>\n",
       "<polyline clip-path=\"url(#clip922)\" style=\"stroke:#000000; stroke-width:4; stroke-opacity:1; fill:none\" points=\"\n",
       "  2376.05,1384.24 2376.05,1384.24 2428.31,1384.24 2376.05,1384.24 \n",
       "  \"/>\n",
       "<path clip-path=\"url(#clip922)\" d=\"\n",
       "M2428.31 1384.24 L2428.31 1384.24 L2480.57 1384.24 L2480.57 1384.24 L2428.31 1384.24 L2428.31 1384.24  Z\n",
       "  \" fill=\"#009af9\" fill-rule=\"evenodd\" fill-opacity=\"1\"/>\n",
       "<polyline clip-path=\"url(#clip922)\" style=\"stroke:#000000; stroke-width:4; stroke-opacity:1; fill:none\" points=\"\n",
       "  2428.31,1384.24 2428.31,1384.24 2480.57,1384.24 2428.31,1384.24 \n",
       "  \"/>\n",
       "<path clip-path=\"url(#clip922)\" d=\"\n",
       "M2480.57 1384.24 L2480.57 1384.24 L2532.83 1384.24 L2532.83 1384.24 L2480.57 1384.24 L2480.57 1384.24  Z\n",
       "  \" fill=\"#009af9\" fill-rule=\"evenodd\" fill-opacity=\"1\"/>\n",
       "<polyline clip-path=\"url(#clip922)\" style=\"stroke:#000000; stroke-width:4; stroke-opacity:1; fill:none\" points=\"\n",
       "  2480.57,1384.24 2480.57,1384.24 2532.83,1384.24 2480.57,1384.24 \n",
       "  \"/>\n",
       "<path clip-path=\"url(#clip922)\" d=\"\n",
       "M2532.83 1384.24 L2532.83 1384.24 L2585.09 1384.24 L2585.09 1384.24 L2532.83 1384.24 L2532.83 1384.24  Z\n",
       "  \" fill=\"#009af9\" fill-rule=\"evenodd\" fill-opacity=\"1\"/>\n",
       "<polyline clip-path=\"url(#clip922)\" style=\"stroke:#000000; stroke-width:4; stroke-opacity:1; fill:none\" points=\"\n",
       "  2532.83,1384.24 2532.83,1384.24 2585.09,1384.24 2532.83,1384.24 \n",
       "  \"/>\n",
       "<path clip-path=\"url(#clip922)\" d=\"\n",
       "M2585.09 1351.79 L2585.09 1384.24 L2637.35 1384.24 L2637.35 1351.79 L2585.09 1351.79 L2585.09 1351.79  Z\n",
       "  \" fill=\"#009af9\" fill-rule=\"evenodd\" fill-opacity=\"1\"/>\n",
       "<polyline clip-path=\"url(#clip922)\" style=\"stroke:#000000; stroke-width:4; stroke-opacity:1; fill:none\" points=\"\n",
       "  2585.09,1351.79 2585.09,1384.24 2637.35,1384.24 2637.35,1351.79 2585.09,1351.79 \n",
       "  \"/>\n",
       "<path clip-path=\"url(#clip922)\" d=\"\n",
       "M2637.35 1351.79 L2637.35 1384.24 L2689.61 1384.24 L2689.61 1351.79 L2637.35 1351.79 L2637.35 1351.79  Z\n",
       "  \" fill=\"#009af9\" fill-rule=\"evenodd\" fill-opacity=\"1\"/>\n",
       "<polyline clip-path=\"url(#clip922)\" style=\"stroke:#000000; stroke-width:4; stroke-opacity:1; fill:none\" points=\"\n",
       "  2637.35,1351.79 2637.35,1384.24 2689.61,1384.24 2689.61,1351.79 2637.35,1351.79 \n",
       "  \"/>\n",
       "<path clip-path=\"url(#clip922)\" d=\"\n",
       "M2689.61 1351.79 L2689.61 1384.24 L2741.87 1384.24 L2741.87 1351.79 L2689.61 1351.79 L2689.61 1351.79  Z\n",
       "  \" fill=\"#009af9\" fill-rule=\"evenodd\" fill-opacity=\"1\"/>\n",
       "<polyline clip-path=\"url(#clip922)\" style=\"stroke:#000000; stroke-width:4; stroke-opacity:1; fill:none\" points=\"\n",
       "  2689.61,1351.79 2689.61,1384.24 2741.87,1384.24 2741.87,1351.79 2689.61,1351.79 \n",
       "  \"/>\n",
       "<path clip-path=\"url(#clip922)\" d=\"\n",
       "M2741.87 1351.79 L2741.87 1384.24 L2794.13 1384.24 L2794.13 1351.79 L2741.87 1351.79 L2741.87 1351.79  Z\n",
       "  \" fill=\"#009af9\" fill-rule=\"evenodd\" fill-opacity=\"1\"/>\n",
       "<polyline clip-path=\"url(#clip922)\" style=\"stroke:#000000; stroke-width:4; stroke-opacity:1; fill:none\" points=\"\n",
       "  2741.87,1351.79 2741.87,1384.24 2794.13,1384.24 2794.13,1351.79 2741.87,1351.79 \n",
       "  \"/>\n",
       "<path clip-path=\"url(#clip922)\" d=\"\n",
       "M2794.13 1319.34 L2794.13 1384.24 L2846.39 1384.24 L2846.39 1319.34 L2794.13 1319.34 L2794.13 1319.34  Z\n",
       "  \" fill=\"#009af9\" fill-rule=\"evenodd\" fill-opacity=\"1\"/>\n",
       "<polyline clip-path=\"url(#clip922)\" style=\"stroke:#000000; stroke-width:4; stroke-opacity:1; fill:none\" points=\"\n",
       "  2794.13,1319.34 2794.13,1384.24 2846.39,1384.24 2846.39,1319.34 2794.13,1319.34 \n",
       "  \"/>\n",
       "<path clip-path=\"url(#clip922)\" d=\"\n",
       "M2846.39 1319.34 L2846.39 1384.24 L2898.65 1384.24 L2898.65 1319.34 L2846.39 1319.34 L2846.39 1319.34  Z\n",
       "  \" fill=\"#009af9\" fill-rule=\"evenodd\" fill-opacity=\"1\"/>\n",
       "<polyline clip-path=\"url(#clip922)\" style=\"stroke:#000000; stroke-width:4; stroke-opacity:1; fill:none\" points=\"\n",
       "  2846.39,1319.34 2846.39,1384.24 2898.65,1384.24 2898.65,1319.34 2846.39,1319.34 \n",
       "  \"/>\n",
       "<path clip-path=\"url(#clip922)\" d=\"\n",
       "M2898.65 1384.24 L2898.65 1384.24 L2950.91 1384.24 L2950.91 1384.24 L2898.65 1384.24 L2898.65 1384.24  Z\n",
       "  \" fill=\"#009af9\" fill-rule=\"evenodd\" fill-opacity=\"1\"/>\n",
       "<polyline clip-path=\"url(#clip922)\" style=\"stroke:#000000; stroke-width:4; stroke-opacity:1; fill:none\" points=\"\n",
       "  2898.65,1384.24 2898.65,1384.24 2950.91,1384.24 2898.65,1384.24 \n",
       "  \"/>\n",
       "<path clip-path=\"url(#clip922)\" d=\"\n",
       "M2950.91 1351.79 L2950.91 1384.24 L3003.17 1384.24 L3003.17 1351.79 L2950.91 1351.79 L2950.91 1351.79  Z\n",
       "  \" fill=\"#009af9\" fill-rule=\"evenodd\" fill-opacity=\"1\"/>\n",
       "<polyline clip-path=\"url(#clip922)\" style=\"stroke:#000000; stroke-width:4; stroke-opacity:1; fill:none\" points=\"\n",
       "  2950.91,1351.79 2950.91,1384.24 3003.17,1384.24 3003.17,1351.79 2950.91,1351.79 \n",
       "  \"/>\n",
       "<path clip-path=\"url(#clip922)\" d=\"\n",
       "M3003.17 1351.79 L3003.17 1384.24 L3055.43 1384.24 L3055.43 1351.79 L3003.17 1351.79 L3003.17 1351.79  Z\n",
       "  \" fill=\"#009af9\" fill-rule=\"evenodd\" fill-opacity=\"1\"/>\n",
       "<polyline clip-path=\"url(#clip922)\" style=\"stroke:#000000; stroke-width:4; stroke-opacity:1; fill:none\" points=\"\n",
       "  3003.17,1351.79 3003.17,1384.24 3055.43,1384.24 3055.43,1351.79 3003.17,1351.79 \n",
       "  \"/>\n",
       "<path clip-path=\"url(#clip922)\" d=\"\n",
       "M3055.43 1384.24 L3055.43 1384.24 L3107.69 1384.24 L3107.69 1384.24 L3055.43 1384.24 L3055.43 1384.24  Z\n",
       "  \" fill=\"#009af9\" fill-rule=\"evenodd\" fill-opacity=\"1\"/>\n",
       "<polyline clip-path=\"url(#clip922)\" style=\"stroke:#000000; stroke-width:4; stroke-opacity:1; fill:none\" points=\"\n",
       "  3055.43,1384.24 3055.43,1384.24 3107.69,1384.24 3055.43,1384.24 \n",
       "  \"/>\n",
       "<path clip-path=\"url(#clip922)\" d=\"\n",
       "M3107.69 1384.24 L3107.69 1384.24 L3159.95 1384.24 L3159.95 1384.24 L3107.69 1384.24 L3107.69 1384.24  Z\n",
       "  \" fill=\"#009af9\" fill-rule=\"evenodd\" fill-opacity=\"1\"/>\n",
       "<polyline clip-path=\"url(#clip922)\" style=\"stroke:#000000; stroke-width:4; stroke-opacity:1; fill:none\" points=\"\n",
       "  3107.69,1384.24 3107.69,1384.24 3159.95,1384.24 3107.69,1384.24 \n",
       "  \"/>\n",
       "<path clip-path=\"url(#clip922)\" d=\"\n",
       "M3159.95 1351.79 L3159.95 1384.24 L3212.21 1384.24 L3212.21 1351.79 L3159.95 1351.79 L3159.95 1351.79  Z\n",
       "  \" fill=\"#009af9\" fill-rule=\"evenodd\" fill-opacity=\"1\"/>\n",
       "<polyline clip-path=\"url(#clip922)\" style=\"stroke:#000000; stroke-width:4; stroke-opacity:1; fill:none\" points=\"\n",
       "  3159.95,1351.79 3159.95,1384.24 3212.21,1384.24 3212.21,1351.79 3159.95,1351.79 \n",
       "  \"/>\n",
       "<path clip-path=\"url(#clip922)\" d=\"\n",
       "M3212.21 1384.24 L3212.21 1384.24 L3264.47 1384.24 L3264.47 1384.24 L3212.21 1384.24 L3212.21 1384.24  Z\n",
       "  \" fill=\"#009af9\" fill-rule=\"evenodd\" fill-opacity=\"1\"/>\n",
       "<polyline clip-path=\"url(#clip922)\" style=\"stroke:#000000; stroke-width:4; stroke-opacity:1; fill:none\" points=\"\n",
       "  3212.21,1384.24 3212.21,1384.24 3264.47,1384.24 3212.21,1384.24 \n",
       "  \"/>\n",
       "<path clip-path=\"url(#clip922)\" d=\"\n",
       "M3264.47 1384.24 L3264.47 1384.24 L3316.73 1384.24 L3316.73 1384.24 L3264.47 1384.24 L3264.47 1384.24  Z\n",
       "  \" fill=\"#009af9\" fill-rule=\"evenodd\" fill-opacity=\"1\"/>\n",
       "<polyline clip-path=\"url(#clip922)\" style=\"stroke:#000000; stroke-width:4; stroke-opacity:1; fill:none\" points=\"\n",
       "  3264.47,1384.24 3264.47,1384.24 3316.73,1384.24 3264.47,1384.24 \n",
       "  \"/>\n",
       "<path clip-path=\"url(#clip922)\" d=\"\n",
       "M3316.73 1351.79 L3316.73 1384.24 L3368.99 1384.24 L3368.99 1351.79 L3316.73 1351.79 L3316.73 1351.79  Z\n",
       "  \" fill=\"#009af9\" fill-rule=\"evenodd\" fill-opacity=\"1\"/>\n",
       "<polyline clip-path=\"url(#clip922)\" style=\"stroke:#000000; stroke-width:4; stroke-opacity:1; fill:none\" points=\"\n",
       "  3316.73,1351.79 3316.73,1384.24 3368.99,1384.24 3368.99,1351.79 3316.73,1351.79 \n",
       "  \"/>\n",
       "<path clip-path=\"url(#clip922)\" d=\"\n",
       "M3368.99 1319.34 L3368.99 1384.24 L3421.25 1384.24 L3421.25 1319.34 L3368.99 1319.34 L3368.99 1319.34  Z\n",
       "  \" fill=\"#009af9\" fill-rule=\"evenodd\" fill-opacity=\"1\"/>\n",
       "<polyline clip-path=\"url(#clip922)\" style=\"stroke:#000000; stroke-width:4; stroke-opacity:1; fill:none\" points=\"\n",
       "  3368.99,1319.34 3368.99,1384.24 3421.25,1384.24 3421.25,1319.34 3368.99,1319.34 \n",
       "  \"/>\n",
       "<path clip-path=\"url(#clip922)\" d=\"\n",
       "M3421.25 1384.24 L3421.25 1384.24 L3473.51 1384.24 L3473.51 1384.24 L3421.25 1384.24 L3421.25 1384.24  Z\n",
       "  \" fill=\"#009af9\" fill-rule=\"evenodd\" fill-opacity=\"1\"/>\n",
       "<polyline clip-path=\"url(#clip922)\" style=\"stroke:#000000; stroke-width:4; stroke-opacity:1; fill:none\" points=\"\n",
       "  3421.25,1384.24 3421.25,1384.24 3473.51,1384.24 3421.25,1384.24 \n",
       "  \"/>\n",
       "<path clip-path=\"url(#clip922)\" d=\"\n",
       "M3473.51 1384.24 L3473.51 1384.24 L3525.77 1384.24 L3525.77 1384.24 L3473.51 1384.24 L3473.51 1384.24  Z\n",
       "  \" fill=\"#009af9\" fill-rule=\"evenodd\" fill-opacity=\"1\"/>\n",
       "<polyline clip-path=\"url(#clip922)\" style=\"stroke:#000000; stroke-width:4; stroke-opacity:1; fill:none\" points=\"\n",
       "  3473.51,1384.24 3473.51,1384.24 3525.77,1384.24 3473.51,1384.24 \n",
       "  \"/>\n",
       "<path clip-path=\"url(#clip922)\" d=\"\n",
       "M3525.77 1351.79 L3525.77 1384.24 L3578.03 1384.24 L3578.03 1351.79 L3525.77 1351.79 L3525.77 1351.79  Z\n",
       "  \" fill=\"#009af9\" fill-rule=\"evenodd\" fill-opacity=\"1\"/>\n",
       "<polyline clip-path=\"url(#clip922)\" style=\"stroke:#000000; stroke-width:4; stroke-opacity:1; fill:none\" points=\"\n",
       "  3525.77,1351.79 3525.77,1384.24 3578.03,1384.24 3578.03,1351.79 3525.77,1351.79 \n",
       "  \"/>\n",
       "<path clip-path=\"url(#clip922)\" d=\"\n",
       "M3578.03 1221.98 L3578.03 1384.24 L3630.28 1384.24 L3630.28 1221.98 L3578.03 1221.98 L3578.03 1221.98  Z\n",
       "  \" fill=\"#009af9\" fill-rule=\"evenodd\" fill-opacity=\"1\"/>\n",
       "<polyline clip-path=\"url(#clip922)\" style=\"stroke:#000000; stroke-width:4; stroke-opacity:1; fill:none\" points=\"\n",
       "  3578.03,1221.98 3578.03,1384.24 3630.28,1384.24 3630.28,1221.98 3578.03,1221.98 \n",
       "  \"/>\n",
       "<path clip-path=\"url(#clip922)\" d=\"\n",
       "M3630.28 767.663 L3630.28 1384.24 L3682.54 1384.24 L3682.54 767.663 L3630.28 767.663 L3630.28 767.663  Z\n",
       "  \" fill=\"#009af9\" fill-rule=\"evenodd\" fill-opacity=\"1\"/>\n",
       "<polyline clip-path=\"url(#clip922)\" style=\"stroke:#000000; stroke-width:4; stroke-opacity:1; fill:none\" points=\"\n",
       "  3630.28,767.663 3630.28,1384.24 3682.54,1384.24 3682.54,767.663 3630.28,767.663 \n",
       "  \"/>\n",
       "<path clip-path=\"url(#clip922)\" d=\"\n",
       "M3682.54 702.761 L3682.54 1384.24 L3734.8 1384.24 L3734.8 702.761 L3682.54 702.761 L3682.54 702.761  Z\n",
       "  \" fill=\"#009af9\" fill-rule=\"evenodd\" fill-opacity=\"1\"/>\n",
       "<polyline clip-path=\"url(#clip922)\" style=\"stroke:#000000; stroke-width:4; stroke-opacity:1; fill:none\" points=\"\n",
       "  3682.54,702.761 3682.54,1384.24 3734.8,1384.24 3734.8,702.761 3682.54,702.761 \n",
       "  \"/>\n",
       "<path clip-path=\"url(#clip922)\" d=\"\n",
       "M3734.8 86.1857 L3734.8 1384.24 L3787.06 1384.24 L3787.06 86.1857 L3734.8 86.1857 L3734.8 86.1857  Z\n",
       "  \" fill=\"#009af9\" fill-rule=\"evenodd\" fill-opacity=\"1\"/>\n",
       "<polyline clip-path=\"url(#clip922)\" style=\"stroke:#000000; stroke-width:4; stroke-opacity:1; fill:none\" points=\"\n",
       "  3734.8,86.1857 3734.8,1384.24 3787.06,1384.24 3787.06,86.1857 3734.8,86.1857 \n",
       "  \"/>\n",
       "<path clip-path=\"url(#clip922)\" d=\"\n",
       "M3787.06 215.991 L3787.06 1384.24 L3839.32 1384.24 L3839.32 215.991 L3787.06 215.991 L3787.06 215.991  Z\n",
       "  \" fill=\"#009af9\" fill-rule=\"evenodd\" fill-opacity=\"1\"/>\n",
       "<polyline clip-path=\"url(#clip922)\" style=\"stroke:#000000; stroke-width:4; stroke-opacity:1; fill:none\" points=\"\n",
       "  3787.06,215.991 3787.06,1384.24 3839.32,1384.24 3839.32,215.991 3787.06,215.991 \n",
       "  \"/>\n",
       "<path clip-path=\"url(#clip922)\" d=\"\n",
       "M3839.32 897.469 L3839.32 1384.24 L3891.58 1384.24 L3891.58 897.469 L3839.32 897.469 L3839.32 897.469  Z\n",
       "  \" fill=\"#009af9\" fill-rule=\"evenodd\" fill-opacity=\"1\"/>\n",
       "<polyline clip-path=\"url(#clip922)\" style=\"stroke:#000000; stroke-width:4; stroke-opacity:1; fill:none\" points=\"\n",
       "  3839.32,897.469 3839.32,1384.24 3891.58,1384.24 3891.58,897.469 3839.32,897.469 \n",
       "  \"/>\n",
       "<path clip-path=\"url(#clip922)\" d=\"\n",
       "M3891.58 1319.34 L3891.58 1384.24 L3943.84 1384.24 L3943.84 1319.34 L3891.58 1319.34 L3891.58 1319.34  Z\n",
       "  \" fill=\"#009af9\" fill-rule=\"evenodd\" fill-opacity=\"1\"/>\n",
       "<polyline clip-path=\"url(#clip922)\" style=\"stroke:#000000; stroke-width:4; stroke-opacity:1; fill:none\" points=\"\n",
       "  3891.58,1319.34 3891.58,1384.24 3943.84,1384.24 3943.84,1319.34 3891.58,1319.34 \n",
       "  \"/>\n",
       "<path clip-path=\"url(#clip922)\" d=\"\n",
       "M3943.84 1286.88 L3943.84 1384.24 L3996.1 1384.24 L3996.1 1286.88 L3943.84 1286.88 L3943.84 1286.88  Z\n",
       "  \" fill=\"#009af9\" fill-rule=\"evenodd\" fill-opacity=\"1\"/>\n",
       "<polyline clip-path=\"url(#clip922)\" style=\"stroke:#000000; stroke-width:4; stroke-opacity:1; fill:none\" points=\"\n",
       "  3943.84,1286.88 3943.84,1384.24 3996.1,1384.24 3996.1,1286.88 3943.84,1286.88 \n",
       "  \"/>\n",
       "<path clip-path=\"url(#clip922)\" d=\"\n",
       "M3996.1 1254.43 L3996.1 1384.24 L4048.36 1384.24 L4048.36 1254.43 L3996.1 1254.43 L3996.1 1254.43  Z\n",
       "  \" fill=\"#009af9\" fill-rule=\"evenodd\" fill-opacity=\"1\"/>\n",
       "<polyline clip-path=\"url(#clip922)\" style=\"stroke:#000000; stroke-width:4; stroke-opacity:1; fill:none\" points=\"\n",
       "  3996.1,1254.43 3996.1,1384.24 4048.36,1384.24 4048.36,1254.43 3996.1,1254.43 \n",
       "  \"/>\n",
       "<path clip-path=\"url(#clip922)\" d=\"\n",
       "M4048.36 1286.88 L4048.36 1384.24 L4100.62 1384.24 L4100.62 1286.88 L4048.36 1286.88 L4048.36 1286.88  Z\n",
       "  \" fill=\"#009af9\" fill-rule=\"evenodd\" fill-opacity=\"1\"/>\n",
       "<polyline clip-path=\"url(#clip922)\" style=\"stroke:#000000; stroke-width:4; stroke-opacity:1; fill:none\" points=\"\n",
       "  4048.36,1286.88 4048.36,1384.24 4100.62,1384.24 4100.62,1286.88 4048.36,1286.88 \n",
       "  \"/>\n",
       "<path clip-path=\"url(#clip922)\" d=\"\n",
       "M4100.62 1351.79 L4100.62 1384.24 L4152.88 1384.24 L4152.88 1351.79 L4100.62 1351.79 L4100.62 1351.79  Z\n",
       "  \" fill=\"#009af9\" fill-rule=\"evenodd\" fill-opacity=\"1\"/>\n",
       "<polyline clip-path=\"url(#clip922)\" style=\"stroke:#000000; stroke-width:4; stroke-opacity:1; fill:none\" points=\"\n",
       "  4100.62,1351.79 4100.62,1384.24 4152.88,1384.24 4152.88,1351.79 4100.62,1351.79 \n",
       "  \"/>\n",
       "<path clip-path=\"url(#clip922)\" d=\"\n",
       "M4152.88 1351.79 L4152.88 1384.24 L4205.14 1384.24 L4205.14 1351.79 L4152.88 1351.79 L4152.88 1351.79  Z\n",
       "  \" fill=\"#009af9\" fill-rule=\"evenodd\" fill-opacity=\"1\"/>\n",
       "<polyline clip-path=\"url(#clip922)\" style=\"stroke:#000000; stroke-width:4; stroke-opacity:1; fill:none\" points=\"\n",
       "  4152.88,1351.79 4152.88,1384.24 4205.14,1384.24 4205.14,1351.79 4152.88,1351.79 \n",
       "  \"/>\n",
       "<path clip-path=\"url(#clip922)\" d=\"\n",
       "M4205.14 1319.34 L4205.14 1384.24 L4257.4 1384.24 L4257.4 1319.34 L4205.14 1319.34 L4205.14 1319.34  Z\n",
       "  \" fill=\"#009af9\" fill-rule=\"evenodd\" fill-opacity=\"1\"/>\n",
       "<polyline clip-path=\"url(#clip922)\" style=\"stroke:#000000; stroke-width:4; stroke-opacity:1; fill:none\" points=\"\n",
       "  4205.14,1319.34 4205.14,1384.24 4257.4,1384.24 4257.4,1319.34 4205.14,1319.34 \n",
       "  \"/>\n",
       "<path clip-path=\"url(#clip922)\" d=\"\n",
       "M4257.4 1351.79 L4257.4 1384.24 L4309.66 1384.24 L4309.66 1351.79 L4257.4 1351.79 L4257.4 1351.79  Z\n",
       "  \" fill=\"#009af9\" fill-rule=\"evenodd\" fill-opacity=\"1\"/>\n",
       "<polyline clip-path=\"url(#clip922)\" style=\"stroke:#000000; stroke-width:4; stroke-opacity:1; fill:none\" points=\"\n",
       "  4257.4,1351.79 4257.4,1384.24 4309.66,1384.24 4309.66,1351.79 4257.4,1351.79 \n",
       "  \"/>\n",
       "<path clip-path=\"url(#clip922)\" d=\"\n",
       "M4309.66 1319.34 L4309.66 1384.24 L4361.92 1384.24 L4361.92 1319.34 L4309.66 1319.34 L4309.66 1319.34  Z\n",
       "  \" fill=\"#009af9\" fill-rule=\"evenodd\" fill-opacity=\"1\"/>\n",
       "<polyline clip-path=\"url(#clip922)\" style=\"stroke:#000000; stroke-width:4; stroke-opacity:1; fill:none\" points=\"\n",
       "  4309.66,1319.34 4309.66,1384.24 4361.92,1384.24 4361.92,1319.34 4309.66,1319.34 \n",
       "  \"/>\n",
       "<path clip-path=\"url(#clip922)\" d=\"\n",
       "M4361.92 1286.88 L4361.92 1384.24 L4414.18 1384.24 L4414.18 1286.88 L4361.92 1286.88 L4361.92 1286.88  Z\n",
       "  \" fill=\"#009af9\" fill-rule=\"evenodd\" fill-opacity=\"1\"/>\n",
       "<polyline clip-path=\"url(#clip922)\" style=\"stroke:#000000; stroke-width:4; stroke-opacity:1; fill:none\" points=\"\n",
       "  4361.92,1286.88 4361.92,1384.24 4414.18,1384.24 4414.18,1286.88 4361.92,1286.88 \n",
       "  \"/>\n",
       "<path clip-path=\"url(#clip922)\" d=\"\n",
       "M4414.18 1351.79 L4414.18 1384.24 L4466.44 1384.24 L4466.44 1351.79 L4414.18 1351.79 L4414.18 1351.79  Z\n",
       "  \" fill=\"#009af9\" fill-rule=\"evenodd\" fill-opacity=\"1\"/>\n",
       "<polyline clip-path=\"url(#clip922)\" style=\"stroke:#000000; stroke-width:4; stroke-opacity:1; fill:none\" points=\"\n",
       "  4414.18,1351.79 4414.18,1384.24 4466.44,1384.24 4466.44,1351.79 4414.18,1351.79 \n",
       "  \"/>\n",
       "<path clip-path=\"url(#clip922)\" d=\"\n",
       "M4466.44 1254.43 L4466.44 1384.24 L4518.7 1384.24 L4518.7 1254.43 L4466.44 1254.43 L4466.44 1254.43  Z\n",
       "  \" fill=\"#009af9\" fill-rule=\"evenodd\" fill-opacity=\"1\"/>\n",
       "<polyline clip-path=\"url(#clip922)\" style=\"stroke:#000000; stroke-width:4; stroke-opacity:1; fill:none\" points=\"\n",
       "  4466.44,1254.43 4466.44,1384.24 4518.7,1384.24 4518.7,1254.43 4466.44,1254.43 \n",
       "  \"/>\n",
       "<path clip-path=\"url(#clip922)\" d=\"\n",
       "M4518.7 1254.43 L4518.7 1384.24 L4570.96 1384.24 L4570.96 1254.43 L4518.7 1254.43 L4518.7 1254.43  Z\n",
       "  \" fill=\"#009af9\" fill-rule=\"evenodd\" fill-opacity=\"1\"/>\n",
       "<polyline clip-path=\"url(#clip922)\" style=\"stroke:#000000; stroke-width:4; stroke-opacity:1; fill:none\" points=\"\n",
       "  4518.7,1254.43 4518.7,1384.24 4570.96,1384.24 4570.96,1254.43 4518.7,1254.43 \n",
       "  \"/>\n",
       "<path clip-path=\"url(#clip922)\" d=\"\n",
       "M4570.96 1254.43 L4570.96 1384.24 L4623.22 1384.24 L4623.22 1254.43 L4570.96 1254.43 L4570.96 1254.43  Z\n",
       "  \" fill=\"#009af9\" fill-rule=\"evenodd\" fill-opacity=\"1\"/>\n",
       "<polyline clip-path=\"url(#clip922)\" style=\"stroke:#000000; stroke-width:4; stroke-opacity:1; fill:none\" points=\"\n",
       "  4570.96,1254.43 4570.96,1384.24 4623.22,1384.24 4623.22,1254.43 4570.96,1254.43 \n",
       "  \"/>\n",
       "<path clip-path=\"url(#clip922)\" d=\"\n",
       "M4623.22 1351.79 L4623.22 1384.24 L4675.48 1384.24 L4675.48 1351.79 L4623.22 1351.79 L4623.22 1351.79  Z\n",
       "  \" fill=\"#009af9\" fill-rule=\"evenodd\" fill-opacity=\"1\"/>\n",
       "<polyline clip-path=\"url(#clip922)\" style=\"stroke:#000000; stroke-width:4; stroke-opacity:1; fill:none\" points=\"\n",
       "  4623.22,1351.79 4623.22,1384.24 4675.48,1384.24 4675.48,1351.79 4623.22,1351.79 \n",
       "  \"/>\n",
       "<path clip-path=\"url(#clip922)\" d=\"\n",
       "M4675.48 1286.88 L4675.48 1384.24 L4727.74 1384.24 L4727.74 1286.88 L4675.48 1286.88 L4675.48 1286.88  Z\n",
       "  \" fill=\"#009af9\" fill-rule=\"evenodd\" fill-opacity=\"1\"/>\n",
       "<polyline clip-path=\"url(#clip922)\" style=\"stroke:#000000; stroke-width:4; stroke-opacity:1; fill:none\" points=\"\n",
       "  4675.48,1286.88 4675.48,1384.24 4727.74,1384.24 4727.74,1286.88 4675.48,1286.88 \n",
       "  \"/>\n",
       "<path clip-path=\"url(#clip922)\" d=\"\n",
       "M4727.74 1319.34 L4727.74 1384.24 L4780 1384.24 L4780 1319.34 L4727.74 1319.34 L4727.74 1319.34  Z\n",
       "  \" fill=\"#009af9\" fill-rule=\"evenodd\" fill-opacity=\"1\"/>\n",
       "<polyline clip-path=\"url(#clip922)\" style=\"stroke:#000000; stroke-width:4; stroke-opacity:1; fill:none\" points=\"\n",
       "  4727.74,1319.34 4727.74,1384.24 4780,1384.24 4780,1319.34 4727.74,1319.34 \n",
       "  \"/>\n",
       "<path clip-path=\"url(#clip922)\" d=\"\n",
       "M4780 1221.98 L4780 1384.24 L4832.26 1384.24 L4832.26 1221.98 L4780 1221.98 L4780 1221.98  Z\n",
       "  \" fill=\"#009af9\" fill-rule=\"evenodd\" fill-opacity=\"1\"/>\n",
       "<polyline clip-path=\"url(#clip922)\" style=\"stroke:#000000; stroke-width:4; stroke-opacity:1; fill:none\" points=\"\n",
       "  4780,1221.98 4780,1384.24 4832.26,1384.24 4832.26,1221.98 4780,1221.98 \n",
       "  \"/>\n",
       "<path clip-path=\"url(#clip922)\" d=\"\n",
       "M4832.26 1221.98 L4832.26 1384.24 L4884.52 1384.24 L4884.52 1221.98 L4832.26 1221.98 L4832.26 1221.98  Z\n",
       "  \" fill=\"#009af9\" fill-rule=\"evenodd\" fill-opacity=\"1\"/>\n",
       "<polyline clip-path=\"url(#clip922)\" style=\"stroke:#000000; stroke-width:4; stroke-opacity:1; fill:none\" points=\"\n",
       "  4832.26,1221.98 4832.26,1384.24 4884.52,1384.24 4884.52,1221.98 4832.26,1221.98 \n",
       "  \"/>\n",
       "<path clip-path=\"url(#clip922)\" d=\"\n",
       "M4884.52 1351.79 L4884.52 1384.24 L4936.78 1384.24 L4936.78 1351.79 L4884.52 1351.79 L4884.52 1351.79  Z\n",
       "  \" fill=\"#009af9\" fill-rule=\"evenodd\" fill-opacity=\"1\"/>\n",
       "<polyline clip-path=\"url(#clip922)\" style=\"stroke:#000000; stroke-width:4; stroke-opacity:1; fill:none\" points=\"\n",
       "  4884.52,1351.79 4884.52,1384.24 4936.78,1384.24 4936.78,1351.79 4884.52,1351.79 \n",
       "  \"/>\n",
       "<path clip-path=\"url(#clip922)\" d=\"\n",
       "M4936.78 1254.43 L4936.78 1384.24 L4989.04 1384.24 L4989.04 1254.43 L4936.78 1254.43 L4936.78 1254.43  Z\n",
       "  \" fill=\"#009af9\" fill-rule=\"evenodd\" fill-opacity=\"1\"/>\n",
       "<polyline clip-path=\"url(#clip922)\" style=\"stroke:#000000; stroke-width:4; stroke-opacity:1; fill:none\" points=\"\n",
       "  4936.78,1254.43 4936.78,1384.24 4989.04,1384.24 4989.04,1254.43 4936.78,1254.43 \n",
       "  \"/>\n",
       "<path clip-path=\"url(#clip922)\" d=\"\n",
       "M4989.04 1351.79 L4989.04 1384.24 L5041.3 1384.24 L5041.3 1351.79 L4989.04 1351.79 L4989.04 1351.79  Z\n",
       "  \" fill=\"#009af9\" fill-rule=\"evenodd\" fill-opacity=\"1\"/>\n",
       "<polyline clip-path=\"url(#clip922)\" style=\"stroke:#000000; stroke-width:4; stroke-opacity:1; fill:none\" points=\"\n",
       "  4989.04,1351.79 4989.04,1384.24 5041.3,1384.24 5041.3,1351.79 4989.04,1351.79 \n",
       "  \"/>\n",
       "<path clip-path=\"url(#clip922)\" d=\"\n",
       "M5041.3 1319.34 L5041.3 1384.24 L5093.56 1384.24 L5093.56 1319.34 L5041.3 1319.34 L5041.3 1319.34  Z\n",
       "  \" fill=\"#009af9\" fill-rule=\"evenodd\" fill-opacity=\"1\"/>\n",
       "<polyline clip-path=\"url(#clip922)\" style=\"stroke:#000000; stroke-width:4; stroke-opacity:1; fill:none\" points=\"\n",
       "  5041.3,1319.34 5041.3,1384.24 5093.56,1384.24 5093.56,1319.34 5041.3,1319.34 \n",
       "  \"/>\n",
       "<path clip-path=\"url(#clip922)\" d=\"\n",
       "M5093.56 1254.43 L5093.56 1384.24 L5145.82 1384.24 L5145.82 1254.43 L5093.56 1254.43 L5093.56 1254.43  Z\n",
       "  \" fill=\"#009af9\" fill-rule=\"evenodd\" fill-opacity=\"1\"/>\n",
       "<polyline clip-path=\"url(#clip922)\" style=\"stroke:#000000; stroke-width:4; stroke-opacity:1; fill:none\" points=\"\n",
       "  5093.56,1254.43 5093.56,1384.24 5145.82,1384.24 5145.82,1254.43 5093.56,1254.43 \n",
       "  \"/>\n",
       "<path clip-path=\"url(#clip922)\" d=\"\n",
       "M5145.82 1286.88 L5145.82 1384.24 L5198.08 1384.24 L5198.08 1286.88 L5145.82 1286.88 L5145.82 1286.88  Z\n",
       "  \" fill=\"#009af9\" fill-rule=\"evenodd\" fill-opacity=\"1\"/>\n",
       "<polyline clip-path=\"url(#clip922)\" style=\"stroke:#000000; stroke-width:4; stroke-opacity:1; fill:none\" points=\"\n",
       "  5145.82,1286.88 5145.82,1384.24 5198.08,1384.24 5198.08,1286.88 5145.82,1286.88 \n",
       "  \"/>\n",
       "<path clip-path=\"url(#clip922)\" d=\"\n",
       "M5198.08 1351.79 L5198.08 1384.24 L5250.34 1384.24 L5250.34 1351.79 L5198.08 1351.79 L5198.08 1351.79  Z\n",
       "  \" fill=\"#009af9\" fill-rule=\"evenodd\" fill-opacity=\"1\"/>\n",
       "<polyline clip-path=\"url(#clip922)\" style=\"stroke:#000000; stroke-width:4; stroke-opacity:1; fill:none\" points=\"\n",
       "  5198.08,1351.79 5198.08,1384.24 5250.34,1384.24 5250.34,1351.79 5198.08,1351.79 \n",
       "  \"/>\n",
       "<path clip-path=\"url(#clip922)\" d=\"\n",
       "M5250.34 1319.34 L5250.34 1384.24 L5302.6 1384.24 L5302.6 1319.34 L5250.34 1319.34 L5250.34 1319.34  Z\n",
       "  \" fill=\"#009af9\" fill-rule=\"evenodd\" fill-opacity=\"1\"/>\n",
       "<polyline clip-path=\"url(#clip922)\" style=\"stroke:#000000; stroke-width:4; stroke-opacity:1; fill:none\" points=\"\n",
       "  5250.34,1319.34 5250.34,1384.24 5302.6,1384.24 5302.6,1319.34 5250.34,1319.34 \n",
       "  \"/>\n",
       "<path clip-path=\"url(#clip922)\" d=\"\n",
       "M5302.6 1384.24 L5302.6 1384.24 L5354.86 1384.24 L5354.86 1384.24 L5302.6 1384.24 L5302.6 1384.24  Z\n",
       "  \" fill=\"#009af9\" fill-rule=\"evenodd\" fill-opacity=\"1\"/>\n",
       "<polyline clip-path=\"url(#clip922)\" style=\"stroke:#000000; stroke-width:4; stroke-opacity:1; fill:none\" points=\"\n",
       "  5302.6,1384.24 5302.6,1384.24 5354.86,1384.24 5302.6,1384.24 \n",
       "  \"/>\n",
       "<path clip-path=\"url(#clip922)\" d=\"\n",
       "M5354.86 1286.88 L5354.86 1384.24 L5407.12 1384.24 L5407.12 1286.88 L5354.86 1286.88 L5354.86 1286.88  Z\n",
       "  \" fill=\"#009af9\" fill-rule=\"evenodd\" fill-opacity=\"1\"/>\n",
       "<polyline clip-path=\"url(#clip922)\" style=\"stroke:#000000; stroke-width:4; stroke-opacity:1; fill:none\" points=\"\n",
       "  5354.86,1286.88 5354.86,1384.24 5407.12,1384.24 5407.12,1286.88 5354.86,1286.88 \n",
       "  \"/>\n",
       "<path clip-path=\"url(#clip922)\" d=\"\n",
       "M5407.12 1254.43 L5407.12 1384.24 L5459.37 1384.24 L5459.37 1254.43 L5407.12 1254.43 L5407.12 1254.43  Z\n",
       "  \" fill=\"#009af9\" fill-rule=\"evenodd\" fill-opacity=\"1\"/>\n",
       "<polyline clip-path=\"url(#clip922)\" style=\"stroke:#000000; stroke-width:4; stroke-opacity:1; fill:none\" points=\"\n",
       "  5407.12,1254.43 5407.12,1384.24 5459.37,1384.24 5459.37,1254.43 5407.12,1254.43 \n",
       "  \"/>\n",
       "<path clip-path=\"url(#clip922)\" d=\"\n",
       "M5459.37 1319.34 L5459.37 1384.24 L5511.63 1384.24 L5511.63 1319.34 L5459.37 1319.34 L5459.37 1319.34  Z\n",
       "  \" fill=\"#009af9\" fill-rule=\"evenodd\" fill-opacity=\"1\"/>\n",
       "<polyline clip-path=\"url(#clip922)\" style=\"stroke:#000000; stroke-width:4; stroke-opacity:1; fill:none\" points=\"\n",
       "  5459.37,1319.34 5459.37,1384.24 5511.63,1384.24 5511.63,1319.34 5459.37,1319.34 \n",
       "  \"/>\n",
       "<path clip-path=\"url(#clip922)\" d=\"\n",
       "M5511.63 1286.88 L5511.63 1384.24 L5563.89 1384.24 L5563.89 1286.88 L5511.63 1286.88 L5511.63 1286.88  Z\n",
       "  \" fill=\"#009af9\" fill-rule=\"evenodd\" fill-opacity=\"1\"/>\n",
       "<polyline clip-path=\"url(#clip922)\" style=\"stroke:#000000; stroke-width:4; stroke-opacity:1; fill:none\" points=\"\n",
       "  5511.63,1286.88 5511.63,1384.24 5563.89,1384.24 5563.89,1286.88 5511.63,1286.88 \n",
       "  \"/>\n",
       "<path clip-path=\"url(#clip922)\" d=\"\n",
       "M5563.89 1351.79 L5563.89 1384.24 L5616.15 1384.24 L5616.15 1351.79 L5563.89 1351.79 L5563.89 1351.79  Z\n",
       "  \" fill=\"#009af9\" fill-rule=\"evenodd\" fill-opacity=\"1\"/>\n",
       "<polyline clip-path=\"url(#clip922)\" style=\"stroke:#000000; stroke-width:4; stroke-opacity:1; fill:none\" points=\"\n",
       "  5563.89,1351.79 5563.89,1384.24 5616.15,1384.24 5616.15,1351.79 5563.89,1351.79 \n",
       "  \"/>\n",
       "<path clip-path=\"url(#clip922)\" d=\"\n",
       "M5616.15 1319.34 L5616.15 1384.24 L5668.41 1384.24 L5668.41 1319.34 L5616.15 1319.34 L5616.15 1319.34  Z\n",
       "  \" fill=\"#009af9\" fill-rule=\"evenodd\" fill-opacity=\"1\"/>\n",
       "<polyline clip-path=\"url(#clip922)\" style=\"stroke:#000000; stroke-width:4; stroke-opacity:1; fill:none\" points=\"\n",
       "  5616.15,1319.34 5616.15,1384.24 5668.41,1384.24 5668.41,1319.34 5616.15,1319.34 \n",
       "  \"/>\n",
       "<path clip-path=\"url(#clip922)\" d=\"\n",
       "M5668.41 1319.34 L5668.41 1384.24 L5720.67 1384.24 L5720.67 1319.34 L5668.41 1319.34 L5668.41 1319.34  Z\n",
       "  \" fill=\"#009af9\" fill-rule=\"evenodd\" fill-opacity=\"1\"/>\n",
       "<polyline clip-path=\"url(#clip922)\" style=\"stroke:#000000; stroke-width:4; stroke-opacity:1; fill:none\" points=\"\n",
       "  5668.41,1319.34 5668.41,1384.24 5720.67,1384.24 5720.67,1319.34 5668.41,1319.34 \n",
       "  \"/>\n",
       "<path clip-path=\"url(#clip922)\" d=\"\n",
       "M5720.67 1319.34 L5720.67 1384.24 L5772.93 1384.24 L5772.93 1319.34 L5720.67 1319.34 L5720.67 1319.34  Z\n",
       "  \" fill=\"#009af9\" fill-rule=\"evenodd\" fill-opacity=\"1\"/>\n",
       "<polyline clip-path=\"url(#clip922)\" style=\"stroke:#000000; stroke-width:4; stroke-opacity:1; fill:none\" points=\"\n",
       "  5720.67,1319.34 5720.67,1384.24 5772.93,1384.24 5772.93,1319.34 5720.67,1319.34 \n",
       "  \"/>\n",
       "<path clip-path=\"url(#clip922)\" d=\"\n",
       "M5772.93 1286.88 L5772.93 1384.24 L5825.19 1384.24 L5825.19 1286.88 L5772.93 1286.88 L5772.93 1286.88  Z\n",
       "  \" fill=\"#009af9\" fill-rule=\"evenodd\" fill-opacity=\"1\"/>\n",
       "<polyline clip-path=\"url(#clip922)\" style=\"stroke:#000000; stroke-width:4; stroke-opacity:1; fill:none\" points=\"\n",
       "  5772.93,1286.88 5772.93,1384.24 5825.19,1384.24 5825.19,1286.88 5772.93,1286.88 \n",
       "  \"/>\n",
       "<path clip-path=\"url(#clip922)\" d=\"\n",
       "M5825.19 1319.34 L5825.19 1384.24 L5877.45 1384.24 L5877.45 1319.34 L5825.19 1319.34 L5825.19 1319.34  Z\n",
       "  \" fill=\"#009af9\" fill-rule=\"evenodd\" fill-opacity=\"1\"/>\n",
       "<polyline clip-path=\"url(#clip922)\" style=\"stroke:#000000; stroke-width:4; stroke-opacity:1; fill:none\" points=\"\n",
       "  5825.19,1319.34 5825.19,1384.24 5877.45,1384.24 5877.45,1319.34 5825.19,1319.34 \n",
       "  \"/>\n",
       "<path clip-path=\"url(#clip922)\" d=\"\n",
       "M5877.45 1351.79 L5877.45 1384.24 L5929.71 1384.24 L5929.71 1351.79 L5877.45 1351.79 L5877.45 1351.79  Z\n",
       "  \" fill=\"#009af9\" fill-rule=\"evenodd\" fill-opacity=\"1\"/>\n",
       "<polyline clip-path=\"url(#clip922)\" style=\"stroke:#000000; stroke-width:4; stroke-opacity:1; fill:none\" points=\"\n",
       "  5877.45,1351.79 5877.45,1384.24 5929.71,1384.24 5929.71,1351.79 5877.45,1351.79 \n",
       "  \"/>\n",
       "<path clip-path=\"url(#clip922)\" d=\"\n",
       "M5929.71 1351.79 L5929.71 1384.24 L5981.97 1384.24 L5981.97 1351.79 L5929.71 1351.79 L5929.71 1351.79  Z\n",
       "  \" fill=\"#009af9\" fill-rule=\"evenodd\" fill-opacity=\"1\"/>\n",
       "<polyline clip-path=\"url(#clip922)\" style=\"stroke:#000000; stroke-width:4; stroke-opacity:1; fill:none\" points=\"\n",
       "  5929.71,1351.79 5929.71,1384.24 5981.97,1384.24 5981.97,1351.79 5929.71,1351.79 \n",
       "  \"/>\n",
       "<path clip-path=\"url(#clip922)\" d=\"\n",
       "M5981.97 1286.88 L5981.97 1384.24 L6034.23 1384.24 L6034.23 1286.88 L5981.97 1286.88 L5981.97 1286.88  Z\n",
       "  \" fill=\"#009af9\" fill-rule=\"evenodd\" fill-opacity=\"1\"/>\n",
       "<polyline clip-path=\"url(#clip922)\" style=\"stroke:#000000; stroke-width:4; stroke-opacity:1; fill:none\" points=\"\n",
       "  5981.97,1286.88 5981.97,1384.24 6034.23,1384.24 6034.23,1286.88 5981.97,1286.88 \n",
       "  \"/>\n",
       "<path clip-path=\"url(#clip922)\" d=\"\n",
       "M6034.23 1384.24 L6034.23 1384.24 L6086.49 1384.24 L6086.49 1384.24 L6034.23 1384.24 L6034.23 1384.24  Z\n",
       "  \" fill=\"#009af9\" fill-rule=\"evenodd\" fill-opacity=\"1\"/>\n",
       "<polyline clip-path=\"url(#clip922)\" style=\"stroke:#000000; stroke-width:4; stroke-opacity:1; fill:none\" points=\"\n",
       "  6034.23,1384.24 6034.23,1384.24 6086.49,1384.24 6034.23,1384.24 \n",
       "  \"/>\n",
       "<path clip-path=\"url(#clip922)\" d=\"\n",
       "M6086.49 1351.79 L6086.49 1384.24 L6138.75 1384.24 L6138.75 1351.79 L6086.49 1351.79 L6086.49 1351.79  Z\n",
       "  \" fill=\"#009af9\" fill-rule=\"evenodd\" fill-opacity=\"1\"/>\n",
       "<polyline clip-path=\"url(#clip922)\" style=\"stroke:#000000; stroke-width:4; stroke-opacity:1; fill:none\" points=\"\n",
       "  6086.49,1351.79 6086.49,1384.24 6138.75,1384.24 6138.75,1351.79 6086.49,1351.79 \n",
       "  \"/>\n",
       "<path clip-path=\"url(#clip922)\" d=\"\n",
       "M6138.75 1319.34 L6138.75 1384.24 L6191.01 1384.24 L6191.01 1319.34 L6138.75 1319.34 L6138.75 1319.34  Z\n",
       "  \" fill=\"#009af9\" fill-rule=\"evenodd\" fill-opacity=\"1\"/>\n",
       "<polyline clip-path=\"url(#clip922)\" style=\"stroke:#000000; stroke-width:4; stroke-opacity:1; fill:none\" points=\"\n",
       "  6138.75,1319.34 6138.75,1384.24 6191.01,1384.24 6191.01,1319.34 6138.75,1319.34 \n",
       "  \"/>\n",
       "<path clip-path=\"url(#clip922)\" d=\"\n",
       "M6191.01 1351.79 L6191.01 1384.24 L6243.27 1384.24 L6243.27 1351.79 L6191.01 1351.79 L6191.01 1351.79  Z\n",
       "  \" fill=\"#009af9\" fill-rule=\"evenodd\" fill-opacity=\"1\"/>\n",
       "<polyline clip-path=\"url(#clip922)\" style=\"stroke:#000000; stroke-width:4; stroke-opacity:1; fill:none\" points=\"\n",
       "  6191.01,1351.79 6191.01,1384.24 6243.27,1384.24 6243.27,1351.79 6191.01,1351.79 \n",
       "  \"/>\n",
       "<path clip-path=\"url(#clip922)\" d=\"\n",
       "M6243.27 1351.79 L6243.27 1384.24 L6295.53 1384.24 L6295.53 1351.79 L6243.27 1351.79 L6243.27 1351.79  Z\n",
       "  \" fill=\"#009af9\" fill-rule=\"evenodd\" fill-opacity=\"1\"/>\n",
       "<polyline clip-path=\"url(#clip922)\" style=\"stroke:#000000; stroke-width:4; stroke-opacity:1; fill:none\" points=\"\n",
       "  6243.27,1351.79 6243.27,1384.24 6295.53,1384.24 6295.53,1351.79 6243.27,1351.79 \n",
       "  \"/>\n",
       "<path clip-path=\"url(#clip922)\" d=\"\n",
       "M6295.53 1351.79 L6295.53 1384.24 L6347.79 1384.24 L6347.79 1351.79 L6295.53 1351.79 L6295.53 1351.79  Z\n",
       "  \" fill=\"#009af9\" fill-rule=\"evenodd\" fill-opacity=\"1\"/>\n",
       "<polyline clip-path=\"url(#clip922)\" style=\"stroke:#000000; stroke-width:4; stroke-opacity:1; fill:none\" points=\"\n",
       "  6295.53,1351.79 6295.53,1384.24 6347.79,1384.24 6347.79,1351.79 6295.53,1351.79 \n",
       "  \"/>\n",
       "<path clip-path=\"url(#clip922)\" d=\"\n",
       "M6347.79 1319.34 L6347.79 1384.24 L6400.05 1384.24 L6400.05 1319.34 L6347.79 1319.34 L6347.79 1319.34  Z\n",
       "  \" fill=\"#009af9\" fill-rule=\"evenodd\" fill-opacity=\"1\"/>\n",
       "<polyline clip-path=\"url(#clip922)\" style=\"stroke:#000000; stroke-width:4; stroke-opacity:1; fill:none\" points=\"\n",
       "  6347.79,1319.34 6347.79,1384.24 6400.05,1384.24 6400.05,1319.34 6347.79,1319.34 \n",
       "  \"/>\n",
       "<path clip-path=\"url(#clip922)\" d=\"\n",
       "M6400.05 1319.34 L6400.05 1384.24 L6452.31 1384.24 L6452.31 1319.34 L6400.05 1319.34 L6400.05 1319.34  Z\n",
       "  \" fill=\"#009af9\" fill-rule=\"evenodd\" fill-opacity=\"1\"/>\n",
       "<polyline clip-path=\"url(#clip922)\" style=\"stroke:#000000; stroke-width:4; stroke-opacity:1; fill:none\" points=\"\n",
       "  6400.05,1319.34 6400.05,1384.24 6452.31,1384.24 6452.31,1319.34 6400.05,1319.34 \n",
       "  \"/>\n",
       "<path clip-path=\"url(#clip922)\" d=\"\n",
       "M6452.31 1351.79 L6452.31 1384.24 L6504.57 1384.24 L6504.57 1351.79 L6452.31 1351.79 L6452.31 1351.79  Z\n",
       "  \" fill=\"#009af9\" fill-rule=\"evenodd\" fill-opacity=\"1\"/>\n",
       "<polyline clip-path=\"url(#clip922)\" style=\"stroke:#000000; stroke-width:4; stroke-opacity:1; fill:none\" points=\"\n",
       "  6452.31,1351.79 6452.31,1384.24 6504.57,1384.24 6504.57,1351.79 6452.31,1351.79 \n",
       "  \"/>\n",
       "<path clip-path=\"url(#clip922)\" d=\"\n",
       "M6504.57 1319.34 L6504.57 1384.24 L6556.83 1384.24 L6556.83 1319.34 L6504.57 1319.34 L6504.57 1319.34  Z\n",
       "  \" fill=\"#009af9\" fill-rule=\"evenodd\" fill-opacity=\"1\"/>\n",
       "<polyline clip-path=\"url(#clip922)\" style=\"stroke:#000000; stroke-width:4; stroke-opacity:1; fill:none\" points=\"\n",
       "  6504.57,1319.34 6504.57,1384.24 6556.83,1384.24 6556.83,1319.34 6504.57,1319.34 \n",
       "  \"/>\n",
       "<path clip-path=\"url(#clip922)\" d=\"\n",
       "M6556.83 1351.79 L6556.83 1384.24 L6609.09 1384.24 L6609.09 1351.79 L6556.83 1351.79 L6556.83 1351.79  Z\n",
       "  \" fill=\"#009af9\" fill-rule=\"evenodd\" fill-opacity=\"1\"/>\n",
       "<polyline clip-path=\"url(#clip922)\" style=\"stroke:#000000; stroke-width:4; stroke-opacity:1; fill:none\" points=\"\n",
       "  6556.83,1351.79 6556.83,1384.24 6609.09,1384.24 6609.09,1351.79 6556.83,1351.79 \n",
       "  \"/>\n",
       "<path clip-path=\"url(#clip922)\" d=\"\n",
       "M6609.09 1384.24 L6609.09 1384.24 L6661.35 1384.24 L6661.35 1384.24 L6609.09 1384.24 L6609.09 1384.24  Z\n",
       "  \" fill=\"#009af9\" fill-rule=\"evenodd\" fill-opacity=\"1\"/>\n",
       "<polyline clip-path=\"url(#clip922)\" style=\"stroke:#000000; stroke-width:4; stroke-opacity:1; fill:none\" points=\"\n",
       "  6609.09,1384.24 6609.09,1384.24 6661.35,1384.24 6609.09,1384.24 \n",
       "  \"/>\n",
       "<path clip-path=\"url(#clip922)\" d=\"\n",
       "M6661.35 1384.24 L6661.35 1384.24 L6713.61 1384.24 L6713.61 1384.24 L6661.35 1384.24 L6661.35 1384.24  Z\n",
       "  \" fill=\"#009af9\" fill-rule=\"evenodd\" fill-opacity=\"1\"/>\n",
       "<polyline clip-path=\"url(#clip922)\" style=\"stroke:#000000; stroke-width:4; stroke-opacity:1; fill:none\" points=\"\n",
       "  6661.35,1384.24 6661.35,1384.24 6713.61,1384.24 6661.35,1384.24 \n",
       "  \"/>\n",
       "<path clip-path=\"url(#clip922)\" d=\"\n",
       "M6713.61 1351.79 L6713.61 1384.24 L6765.87 1384.24 L6765.87 1351.79 L6713.61 1351.79 L6713.61 1351.79  Z\n",
       "  \" fill=\"#009af9\" fill-rule=\"evenodd\" fill-opacity=\"1\"/>\n",
       "<polyline clip-path=\"url(#clip922)\" style=\"stroke:#000000; stroke-width:4; stroke-opacity:1; fill:none\" points=\"\n",
       "  6713.61,1351.79 6713.61,1384.24 6765.87,1384.24 6765.87,1351.79 6713.61,1351.79 \n",
       "  \"/>\n",
       "<path clip-path=\"url(#clip922)\" d=\"\n",
       "M6765.87 1351.79 L6765.87 1384.24 L6818.13 1384.24 L6818.13 1351.79 L6765.87 1351.79 L6765.87 1351.79  Z\n",
       "  \" fill=\"#009af9\" fill-rule=\"evenodd\" fill-opacity=\"1\"/>\n",
       "<polyline clip-path=\"url(#clip922)\" style=\"stroke:#000000; stroke-width:4; stroke-opacity:1; fill:none\" points=\"\n",
       "  6765.87,1351.79 6765.87,1384.24 6818.13,1384.24 6818.13,1351.79 6765.87,1351.79 \n",
       "  \"/>\n",
       "<path clip-path=\"url(#clip922)\" d=\"\n",
       "M6818.13 1384.24 L6818.13 1384.24 L6870.39 1384.24 L6870.39 1384.24 L6818.13 1384.24 L6818.13 1384.24  Z\n",
       "  \" fill=\"#009af9\" fill-rule=\"evenodd\" fill-opacity=\"1\"/>\n",
       "<polyline clip-path=\"url(#clip922)\" style=\"stroke:#000000; stroke-width:4; stroke-opacity:1; fill:none\" points=\"\n",
       "  6818.13,1384.24 6818.13,1384.24 6870.39,1384.24 6818.13,1384.24 \n",
       "  \"/>\n",
       "<path clip-path=\"url(#clip922)\" d=\"\n",
       "M6870.39 1384.24 L6870.39 1384.24 L6922.65 1384.24 L6922.65 1384.24 L6870.39 1384.24 L6870.39 1384.24  Z\n",
       "  \" fill=\"#009af9\" fill-rule=\"evenodd\" fill-opacity=\"1\"/>\n",
       "<polyline clip-path=\"url(#clip922)\" style=\"stroke:#000000; stroke-width:4; stroke-opacity:1; fill:none\" points=\"\n",
       "  6870.39,1384.24 6870.39,1384.24 6922.65,1384.24 6870.39,1384.24 \n",
       "  \"/>\n",
       "<path clip-path=\"url(#clip922)\" d=\"\n",
       "M6922.65 1351.79 L6922.65 1384.24 L6974.91 1384.24 L6974.91 1351.79 L6922.65 1351.79 L6922.65 1351.79  Z\n",
       "  \" fill=\"#009af9\" fill-rule=\"evenodd\" fill-opacity=\"1\"/>\n",
       "<polyline clip-path=\"url(#clip922)\" style=\"stroke:#000000; stroke-width:4; stroke-opacity:1; fill:none\" points=\"\n",
       "  6922.65,1351.79 6922.65,1384.24 6974.91,1384.24 6974.91,1351.79 6922.65,1351.79 \n",
       "  \"/>\n",
       "<path clip-path=\"url(#clip922)\" d=\"\n",
       "M6974.91 1384.24 L6974.91 1384.24 L7027.17 1384.24 L7027.17 1384.24 L6974.91 1384.24 L6974.91 1384.24  Z\n",
       "  \" fill=\"#009af9\" fill-rule=\"evenodd\" fill-opacity=\"1\"/>\n",
       "<polyline clip-path=\"url(#clip922)\" style=\"stroke:#000000; stroke-width:4; stroke-opacity:1; fill:none\" points=\"\n",
       "  6974.91,1384.24 6974.91,1384.24 7027.17,1384.24 6974.91,1384.24 \n",
       "  \"/>\n",
       "<path clip-path=\"url(#clip922)\" d=\"\n",
       "M7027.17 1384.24 L7027.17 1384.24 L7079.43 1384.24 L7079.43 1384.24 L7027.17 1384.24 L7027.17 1384.24  Z\n",
       "  \" fill=\"#009af9\" fill-rule=\"evenodd\" fill-opacity=\"1\"/>\n",
       "<polyline clip-path=\"url(#clip922)\" style=\"stroke:#000000; stroke-width:4; stroke-opacity:1; fill:none\" points=\"\n",
       "  7027.17,1384.24 7027.17,1384.24 7079.43,1384.24 7027.17,1384.24 \n",
       "  \"/>\n",
       "<path clip-path=\"url(#clip922)\" d=\"\n",
       "M7079.43 1384.24 L7079.43 1384.24 L7131.69 1384.24 L7131.69 1384.24 L7079.43 1384.24 L7079.43 1384.24  Z\n",
       "  \" fill=\"#009af9\" fill-rule=\"evenodd\" fill-opacity=\"1\"/>\n",
       "<polyline clip-path=\"url(#clip922)\" style=\"stroke:#000000; stroke-width:4; stroke-opacity:1; fill:none\" points=\"\n",
       "  7079.43,1384.24 7079.43,1384.24 7131.69,1384.24 7079.43,1384.24 \n",
       "  \"/>\n",
       "<path clip-path=\"url(#clip922)\" d=\"\n",
       "M7131.69 1351.79 L7131.69 1384.24 L7183.95 1384.24 L7183.95 1351.79 L7131.69 1351.79 L7131.69 1351.79  Z\n",
       "  \" fill=\"#009af9\" fill-rule=\"evenodd\" fill-opacity=\"1\"/>\n",
       "<polyline clip-path=\"url(#clip922)\" style=\"stroke:#000000; stroke-width:4; stroke-opacity:1; fill:none\" points=\"\n",
       "  7131.69,1351.79 7131.69,1384.24 7183.95,1384.24 7183.95,1351.79 7131.69,1351.79 \n",
       "  \"/>\n",
       "<path clip-path=\"url(#clip922)\" d=\"\n",
       "M7183.95 1319.34 L7183.95 1384.24 L7236.2 1384.24 L7236.2 1319.34 L7183.95 1319.34 L7183.95 1319.34  Z\n",
       "  \" fill=\"#009af9\" fill-rule=\"evenodd\" fill-opacity=\"1\"/>\n",
       "<polyline clip-path=\"url(#clip922)\" style=\"stroke:#000000; stroke-width:4; stroke-opacity:1; fill:none\" points=\"\n",
       "  7183.95,1319.34 7183.95,1384.24 7236.2,1384.24 7236.2,1319.34 7183.95,1319.34 \n",
       "  \"/>\n",
       "<path clip-path=\"url(#clip922)\" d=\"\n",
       "M7236.2 1351.79 L7236.2 1384.24 L7288.46 1384.24 L7288.46 1351.79 L7236.2 1351.79 L7236.2 1351.79  Z\n",
       "  \" fill=\"#009af9\" fill-rule=\"evenodd\" fill-opacity=\"1\"/>\n",
       "<polyline clip-path=\"url(#clip922)\" style=\"stroke:#000000; stroke-width:4; stroke-opacity:1; fill:none\" points=\"\n",
       "  7236.2,1351.79 7236.2,1384.24 7288.46,1384.24 7288.46,1351.79 7236.2,1351.79 \n",
       "  \"/>\n",
       "<path clip-path=\"url(#clip922)\" d=\"\n",
       "M7288.46 1384.24 L7288.46 1384.24 L7340.72 1384.24 L7340.72 1384.24 L7288.46 1384.24 L7288.46 1384.24  Z\n",
       "  \" fill=\"#009af9\" fill-rule=\"evenodd\" fill-opacity=\"1\"/>\n",
       "<polyline clip-path=\"url(#clip922)\" style=\"stroke:#000000; stroke-width:4; stroke-opacity:1; fill:none\" points=\"\n",
       "  7288.46,1384.24 7288.46,1384.24 7340.72,1384.24 7288.46,1384.24 \n",
       "  \"/>\n",
       "<path clip-path=\"url(#clip922)\" d=\"\n",
       "M7340.72 1384.24 L7340.72 1384.24 L7392.98 1384.24 L7392.98 1384.24 L7340.72 1384.24 L7340.72 1384.24  Z\n",
       "  \" fill=\"#009af9\" fill-rule=\"evenodd\" fill-opacity=\"1\"/>\n",
       "<polyline clip-path=\"url(#clip922)\" style=\"stroke:#000000; stroke-width:4; stroke-opacity:1; fill:none\" points=\"\n",
       "  7340.72,1384.24 7340.72,1384.24 7392.98,1384.24 7340.72,1384.24 \n",
       "  \"/>\n",
       "<path clip-path=\"url(#clip922)\" d=\"\n",
       "M7392.98 1384.24 L7392.98 1384.24 L7445.24 1384.24 L7445.24 1384.24 L7392.98 1384.24 L7392.98 1384.24  Z\n",
       "  \" fill=\"#009af9\" fill-rule=\"evenodd\" fill-opacity=\"1\"/>\n",
       "<polyline clip-path=\"url(#clip922)\" style=\"stroke:#000000; stroke-width:4; stroke-opacity:1; fill:none\" points=\"\n",
       "  7392.98,1384.24 7392.98,1384.24 7445.24,1384.24 7392.98,1384.24 \n",
       "  \"/>\n",
       "<path clip-path=\"url(#clip922)\" d=\"\n",
       "M7445.24 1384.24 L7445.24 1384.24 L7497.5 1384.24 L7497.5 1384.24 L7445.24 1384.24 L7445.24 1384.24  Z\n",
       "  \" fill=\"#009af9\" fill-rule=\"evenodd\" fill-opacity=\"1\"/>\n",
       "<polyline clip-path=\"url(#clip922)\" style=\"stroke:#000000; stroke-width:4; stroke-opacity:1; fill:none\" points=\"\n",
       "  7445.24,1384.24 7445.24,1384.24 7497.5,1384.24 7445.24,1384.24 \n",
       "  \"/>\n",
       "<path clip-path=\"url(#clip922)\" d=\"\n",
       "M7497.5 1384.24 L7497.5 1384.24 L7549.76 1384.24 L7549.76 1384.24 L7497.5 1384.24 L7497.5 1384.24  Z\n",
       "  \" fill=\"#009af9\" fill-rule=\"evenodd\" fill-opacity=\"1\"/>\n",
       "<polyline clip-path=\"url(#clip922)\" style=\"stroke:#000000; stroke-width:4; stroke-opacity:1; fill:none\" points=\"\n",
       "  7497.5,1384.24 7497.5,1384.24 7549.76,1384.24 7497.5,1384.24 \n",
       "  \"/>\n",
       "<path clip-path=\"url(#clip922)\" d=\"\n",
       "M7549.76 1384.24 L7549.76 1384.24 L7602.02 1384.24 L7602.02 1384.24 L7549.76 1384.24 L7549.76 1384.24  Z\n",
       "  \" fill=\"#009af9\" fill-rule=\"evenodd\" fill-opacity=\"1\"/>\n",
       "<polyline clip-path=\"url(#clip922)\" style=\"stroke:#000000; stroke-width:4; stroke-opacity:1; fill:none\" points=\"\n",
       "  7549.76,1384.24 7549.76,1384.24 7602.02,1384.24 7549.76,1384.24 \n",
       "  \"/>\n",
       "<path clip-path=\"url(#clip922)\" d=\"\n",
       "M7602.02 1319.34 L7602.02 1384.24 L7654.28 1384.24 L7654.28 1319.34 L7602.02 1319.34 L7602.02 1319.34  Z\n",
       "  \" fill=\"#009af9\" fill-rule=\"evenodd\" fill-opacity=\"1\"/>\n",
       "<polyline clip-path=\"url(#clip922)\" style=\"stroke:#000000; stroke-width:4; stroke-opacity:1; fill:none\" points=\"\n",
       "  7602.02,1319.34 7602.02,1384.24 7654.28,1384.24 7654.28,1319.34 7602.02,1319.34 \n",
       "  \"/>\n",
       "<path clip-path=\"url(#clip922)\" d=\"\n",
       "M7654.28 1351.79 L7654.28 1384.24 L7706.54 1384.24 L7706.54 1351.79 L7654.28 1351.79 L7654.28 1351.79  Z\n",
       "  \" fill=\"#009af9\" fill-rule=\"evenodd\" fill-opacity=\"1\"/>\n",
       "<polyline clip-path=\"url(#clip922)\" style=\"stroke:#000000; stroke-width:4; stroke-opacity:1; fill:none\" points=\"\n",
       "  7654.28,1351.79 7654.28,1384.24 7706.54,1384.24 7706.54,1351.79 7654.28,1351.79 \n",
       "  \"/>\n",
       "<path clip-path=\"url(#clip922)\" d=\"\n",
       "M7706.54 1351.79 L7706.54 1384.24 L7758.8 1384.24 L7758.8 1351.79 L7706.54 1351.79 L7706.54 1351.79  Z\n",
       "  \" fill=\"#009af9\" fill-rule=\"evenodd\" fill-opacity=\"1\"/>\n",
       "<polyline clip-path=\"url(#clip922)\" style=\"stroke:#000000; stroke-width:4; stroke-opacity:1; fill:none\" points=\"\n",
       "  7706.54,1351.79 7706.54,1384.24 7758.8,1384.24 7758.8,1351.79 7706.54,1351.79 \n",
       "  \"/>\n",
       "<path clip-path=\"url(#clip922)\" d=\"\n",
       "M7758.8 1384.24 L7758.8 1384.24 L7811.06 1384.24 L7811.06 1384.24 L7758.8 1384.24 L7758.8 1384.24  Z\n",
       "  \" fill=\"#009af9\" fill-rule=\"evenodd\" fill-opacity=\"1\"/>\n",
       "<polyline clip-path=\"url(#clip922)\" style=\"stroke:#000000; stroke-width:4; stroke-opacity:1; fill:none\" points=\"\n",
       "  7758.8,1384.24 7758.8,1384.24 7811.06,1384.24 7758.8,1384.24 \n",
       "  \"/>\n",
       "<path clip-path=\"url(#clip922)\" d=\"\n",
       "M7811.06 1384.24 L7811.06 1384.24 L7863.32 1384.24 L7863.32 1384.24 L7811.06 1384.24 L7811.06 1384.24  Z\n",
       "  \" fill=\"#009af9\" fill-rule=\"evenodd\" fill-opacity=\"1\"/>\n",
       "<polyline clip-path=\"url(#clip922)\" style=\"stroke:#000000; stroke-width:4; stroke-opacity:1; fill:none\" points=\"\n",
       "  7811.06,1384.24 7811.06,1384.24 7863.32,1384.24 7811.06,1384.24 \n",
       "  \"/>\n",
       "<path clip-path=\"url(#clip922)\" d=\"\n",
       "M7863.32 1384.24 L7863.32 1384.24 L7915.58 1384.24 L7915.58 1384.24 L7863.32 1384.24 L7863.32 1384.24  Z\n",
       "  \" fill=\"#009af9\" fill-rule=\"evenodd\" fill-opacity=\"1\"/>\n",
       "<polyline clip-path=\"url(#clip922)\" style=\"stroke:#000000; stroke-width:4; stroke-opacity:1; fill:none\" points=\"\n",
       "  7863.32,1384.24 7863.32,1384.24 7915.58,1384.24 7863.32,1384.24 \n",
       "  \"/>\n",
       "<path clip-path=\"url(#clip922)\" d=\"\n",
       "M7915.58 1351.79 L7915.58 1384.24 L7967.84 1384.24 L7967.84 1351.79 L7915.58 1351.79 L7915.58 1351.79  Z\n",
       "  \" fill=\"#009af9\" fill-rule=\"evenodd\" fill-opacity=\"1\"/>\n",
       "<polyline clip-path=\"url(#clip922)\" style=\"stroke:#000000; stroke-width:4; stroke-opacity:1; fill:none\" points=\"\n",
       "  7915.58,1351.79 7915.58,1384.24 7967.84,1384.24 7967.84,1351.79 7915.58,1351.79 \n",
       "  \"/>\n",
       "<path clip-path=\"url(#clip922)\" d=\"\n",
       "M7967.84 1384.24 L7967.84 1384.24 L8020.1 1384.24 L8020.1 1384.24 L7967.84 1384.24 L7967.84 1384.24  Z\n",
       "  \" fill=\"#009af9\" fill-rule=\"evenodd\" fill-opacity=\"1\"/>\n",
       "<polyline clip-path=\"url(#clip922)\" style=\"stroke:#000000; stroke-width:4; stroke-opacity:1; fill:none\" points=\"\n",
       "  7967.84,1384.24 7967.84,1384.24 8020.1,1384.24 7967.84,1384.24 \n",
       "  \"/>\n",
       "<path clip-path=\"url(#clip922)\" d=\"\n",
       "M8020.1 1384.24 L8020.1 1384.24 L8072.36 1384.24 L8072.36 1384.24 L8020.1 1384.24 L8020.1 1384.24  Z\n",
       "  \" fill=\"#009af9\" fill-rule=\"evenodd\" fill-opacity=\"1\"/>\n",
       "<polyline clip-path=\"url(#clip922)\" style=\"stroke:#000000; stroke-width:4; stroke-opacity:1; fill:none\" points=\"\n",
       "  8020.1,1384.24 8020.1,1384.24 8072.36,1384.24 8020.1,1384.24 \n",
       "  \"/>\n",
       "<path clip-path=\"url(#clip922)\" d=\"\n",
       "M8072.36 1384.24 L8072.36 1384.24 L8124.62 1384.24 L8124.62 1384.24 L8072.36 1384.24 L8072.36 1384.24  Z\n",
       "  \" fill=\"#009af9\" fill-rule=\"evenodd\" fill-opacity=\"1\"/>\n",
       "<polyline clip-path=\"url(#clip922)\" style=\"stroke:#000000; stroke-width:4; stroke-opacity:1; fill:none\" points=\"\n",
       "  8072.36,1384.24 8072.36,1384.24 8124.62,1384.24 8072.36,1384.24 \n",
       "  \"/>\n",
       "<path clip-path=\"url(#clip922)\" d=\"\n",
       "M8124.62 1384.24 L8124.62 1384.24 L8176.88 1384.24 L8176.88 1384.24 L8124.62 1384.24 L8124.62 1384.24  Z\n",
       "  \" fill=\"#009af9\" fill-rule=\"evenodd\" fill-opacity=\"1\"/>\n",
       "<polyline clip-path=\"url(#clip922)\" style=\"stroke:#000000; stroke-width:4; stroke-opacity:1; fill:none\" points=\"\n",
       "  8124.62,1384.24 8124.62,1384.24 8176.88,1384.24 8124.62,1384.24 \n",
       "  \"/>\n",
       "<path clip-path=\"url(#clip922)\" d=\"\n",
       "M8176.88 1384.24 L8176.88 1384.24 L8229.14 1384.24 L8229.14 1384.24 L8176.88 1384.24 L8176.88 1384.24  Z\n",
       "  \" fill=\"#009af9\" fill-rule=\"evenodd\" fill-opacity=\"1\"/>\n",
       "<polyline clip-path=\"url(#clip922)\" style=\"stroke:#000000; stroke-width:4; stroke-opacity:1; fill:none\" points=\"\n",
       "  8176.88,1384.24 8176.88,1384.24 8229.14,1384.24 8176.88,1384.24 \n",
       "  \"/>\n",
       "<path clip-path=\"url(#clip922)\" d=\"\n",
       "M8229.14 1384.24 L8229.14 1384.24 L8281.4 1384.24 L8281.4 1384.24 L8229.14 1384.24 L8229.14 1384.24  Z\n",
       "  \" fill=\"#009af9\" fill-rule=\"evenodd\" fill-opacity=\"1\"/>\n",
       "<polyline clip-path=\"url(#clip922)\" style=\"stroke:#000000; stroke-width:4; stroke-opacity:1; fill:none\" points=\"\n",
       "  8229.14,1384.24 8229.14,1384.24 8281.4,1384.24 8229.14,1384.24 \n",
       "  \"/>\n",
       "<path clip-path=\"url(#clip922)\" d=\"\n",
       "M8281.4 1384.24 L8281.4 1384.24 L8333.66 1384.24 L8333.66 1384.24 L8281.4 1384.24 L8281.4 1384.24  Z\n",
       "  \" fill=\"#009af9\" fill-rule=\"evenodd\" fill-opacity=\"1\"/>\n",
       "<polyline clip-path=\"url(#clip922)\" style=\"stroke:#000000; stroke-width:4; stroke-opacity:1; fill:none\" points=\"\n",
       "  8281.4,1384.24 8281.4,1384.24 8333.66,1384.24 8281.4,1384.24 \n",
       "  \"/>\n",
       "<path clip-path=\"url(#clip922)\" d=\"\n",
       "M8333.66 1384.24 L8333.66 1384.24 L8385.92 1384.24 L8385.92 1384.24 L8333.66 1384.24 L8333.66 1384.24  Z\n",
       "  \" fill=\"#009af9\" fill-rule=\"evenodd\" fill-opacity=\"1\"/>\n",
       "<polyline clip-path=\"url(#clip922)\" style=\"stroke:#000000; stroke-width:4; stroke-opacity:1; fill:none\" points=\"\n",
       "  8333.66,1384.24 8333.66,1384.24 8385.92,1384.24 8333.66,1384.24 \n",
       "  \"/>\n",
       "<path clip-path=\"url(#clip922)\" d=\"\n",
       "M8385.92 1384.24 L8385.92 1384.24 L8438.18 1384.24 L8438.18 1384.24 L8385.92 1384.24 L8385.92 1384.24  Z\n",
       "  \" fill=\"#009af9\" fill-rule=\"evenodd\" fill-opacity=\"1\"/>\n",
       "<polyline clip-path=\"url(#clip922)\" style=\"stroke:#000000; stroke-width:4; stroke-opacity:1; fill:none\" points=\"\n",
       "  8385.92,1384.24 8385.92,1384.24 8438.18,1384.24 8385.92,1384.24 \n",
       "  \"/>\n",
       "<path clip-path=\"url(#clip922)\" d=\"\n",
       "M8438.18 1384.24 L8438.18 1384.24 L8490.44 1384.24 L8490.44 1384.24 L8438.18 1384.24 L8438.18 1384.24  Z\n",
       "  \" fill=\"#009af9\" fill-rule=\"evenodd\" fill-opacity=\"1\"/>\n",
       "<polyline clip-path=\"url(#clip922)\" style=\"stroke:#000000; stroke-width:4; stroke-opacity:1; fill:none\" points=\"\n",
       "  8438.18,1384.24 8438.18,1384.24 8490.44,1384.24 8438.18,1384.24 \n",
       "  \"/>\n",
       "<path clip-path=\"url(#clip922)\" d=\"\n",
       "M8490.44 1384.24 L8490.44 1384.24 L8542.7 1384.24 L8542.7 1384.24 L8490.44 1384.24 L8490.44 1384.24  Z\n",
       "  \" fill=\"#009af9\" fill-rule=\"evenodd\" fill-opacity=\"1\"/>\n",
       "<polyline clip-path=\"url(#clip922)\" style=\"stroke:#000000; stroke-width:4; stroke-opacity:1; fill:none\" points=\"\n",
       "  8490.44,1384.24 8490.44,1384.24 8542.7,1384.24 8490.44,1384.24 \n",
       "  \"/>\n",
       "<path clip-path=\"url(#clip922)\" d=\"\n",
       "M8542.7 1384.24 L8542.7 1384.24 L8594.96 1384.24 L8594.96 1384.24 L8542.7 1384.24 L8542.7 1384.24  Z\n",
       "  \" fill=\"#009af9\" fill-rule=\"evenodd\" fill-opacity=\"1\"/>\n",
       "<polyline clip-path=\"url(#clip922)\" style=\"stroke:#000000; stroke-width:4; stroke-opacity:1; fill:none\" points=\"\n",
       "  8542.7,1384.24 8542.7,1384.24 8594.96,1384.24 8542.7,1384.24 \n",
       "  \"/>\n",
       "<path clip-path=\"url(#clip922)\" d=\"\n",
       "M8594.96 1384.24 L8594.96 1384.24 L8647.22 1384.24 L8647.22 1384.24 L8594.96 1384.24 L8594.96 1384.24  Z\n",
       "  \" fill=\"#009af9\" fill-rule=\"evenodd\" fill-opacity=\"1\"/>\n",
       "<polyline clip-path=\"url(#clip922)\" style=\"stroke:#000000; stroke-width:4; stroke-opacity:1; fill:none\" points=\"\n",
       "  8594.96,1384.24 8594.96,1384.24 8647.22,1384.24 8594.96,1384.24 \n",
       "  \"/>\n",
       "<path clip-path=\"url(#clip922)\" d=\"\n",
       "M8647.22 1351.79 L8647.22 1384.24 L8699.48 1384.24 L8699.48 1351.79 L8647.22 1351.79 L8647.22 1351.79  Z\n",
       "  \" fill=\"#009af9\" fill-rule=\"evenodd\" fill-opacity=\"1\"/>\n",
       "<polyline clip-path=\"url(#clip922)\" style=\"stroke:#000000; stroke-width:4; stroke-opacity:1; fill:none\" points=\"\n",
       "  8647.22,1351.79 8647.22,1384.24 8699.48,1384.24 8699.48,1351.79 8647.22,1351.79 \n",
       "  \"/>\n",
       "<path clip-path=\"url(#clip922)\" d=\"\n",
       "M8699.48 1351.79 L8699.48 1384.24 L8751.74 1384.24 L8751.74 1351.79 L8699.48 1351.79 L8699.48 1351.79  Z\n",
       "  \" fill=\"#009af9\" fill-rule=\"evenodd\" fill-opacity=\"1\"/>\n",
       "<polyline clip-path=\"url(#clip922)\" style=\"stroke:#000000; stroke-width:4; stroke-opacity:1; fill:none\" points=\"\n",
       "  8699.48,1351.79 8699.48,1384.24 8751.74,1384.24 8751.74,1351.79 8699.48,1351.79 \n",
       "  \"/>\n",
       "<path clip-path=\"url(#clip922)\" d=\"\n",
       "M8751.74 1384.24 L8751.74 1384.24 L8804 1384.24 L8804 1384.24 L8751.74 1384.24 L8751.74 1384.24  Z\n",
       "  \" fill=\"#009af9\" fill-rule=\"evenodd\" fill-opacity=\"1\"/>\n",
       "<polyline clip-path=\"url(#clip922)\" style=\"stroke:#000000; stroke-width:4; stroke-opacity:1; fill:none\" points=\"\n",
       "  8751.74,1384.24 8751.74,1384.24 8804,1384.24 8751.74,1384.24 \n",
       "  \"/>\n",
       "<path clip-path=\"url(#clip922)\" d=\"\n",
       "M8804 1384.24 L8804 1384.24 L8856.26 1384.24 L8856.26 1384.24 L8804 1384.24 L8804 1384.24  Z\n",
       "  \" fill=\"#009af9\" fill-rule=\"evenodd\" fill-opacity=\"1\"/>\n",
       "<polyline clip-path=\"url(#clip922)\" style=\"stroke:#000000; stroke-width:4; stroke-opacity:1; fill:none\" points=\"\n",
       "  8804,1384.24 8804,1384.24 8856.26,1384.24 8804,1384.24 \n",
       "  \"/>\n",
       "<path clip-path=\"url(#clip922)\" d=\"\n",
       "M8856.26 1384.24 L8856.26 1384.24 L8908.52 1384.24 L8908.52 1384.24 L8856.26 1384.24 L8856.26 1384.24  Z\n",
       "  \" fill=\"#009af9\" fill-rule=\"evenodd\" fill-opacity=\"1\"/>\n",
       "<polyline clip-path=\"url(#clip922)\" style=\"stroke:#000000; stroke-width:4; stroke-opacity:1; fill:none\" points=\"\n",
       "  8856.26,1384.24 8856.26,1384.24 8908.52,1384.24 8856.26,1384.24 \n",
       "  \"/>\n",
       "<path clip-path=\"url(#clip922)\" d=\"\n",
       "M8908.52 1384.24 L8908.52 1384.24 L8960.78 1384.24 L8960.78 1384.24 L8908.52 1384.24 L8908.52 1384.24  Z\n",
       "  \" fill=\"#009af9\" fill-rule=\"evenodd\" fill-opacity=\"1\"/>\n",
       "<polyline clip-path=\"url(#clip922)\" style=\"stroke:#000000; stroke-width:4; stroke-opacity:1; fill:none\" points=\"\n",
       "  8908.52,1384.24 8908.52,1384.24 8960.78,1384.24 8908.52,1384.24 \n",
       "  \"/>\n",
       "<path clip-path=\"url(#clip922)\" d=\"\n",
       "M8960.78 1384.24 L8960.78 1384.24 L9013.03 1384.24 L9013.03 1384.24 L8960.78 1384.24 L8960.78 1384.24  Z\n",
       "  \" fill=\"#009af9\" fill-rule=\"evenodd\" fill-opacity=\"1\"/>\n",
       "<polyline clip-path=\"url(#clip922)\" style=\"stroke:#000000; stroke-width:4; stroke-opacity:1; fill:none\" points=\"\n",
       "  8960.78,1384.24 8960.78,1384.24 9013.03,1384.24 8960.78,1384.24 \n",
       "  \"/>\n",
       "<path clip-path=\"url(#clip922)\" d=\"\n",
       "M9013.03 1384.24 L9013.03 1384.24 L9065.29 1384.24 L9065.29 1384.24 L9013.03 1384.24 L9013.03 1384.24  Z\n",
       "  \" fill=\"#009af9\" fill-rule=\"evenodd\" fill-opacity=\"1\"/>\n",
       "<polyline clip-path=\"url(#clip922)\" style=\"stroke:#000000; stroke-width:4; stroke-opacity:1; fill:none\" points=\"\n",
       "  9013.03,1384.24 9013.03,1384.24 9065.29,1384.24 9013.03,1384.24 \n",
       "  \"/>\n",
       "<path clip-path=\"url(#clip922)\" d=\"\n",
       "M9065.29 1384.24 L9065.29 1384.24 L9117.55 1384.24 L9117.55 1384.24 L9065.29 1384.24 L9065.29 1384.24  Z\n",
       "  \" fill=\"#009af9\" fill-rule=\"evenodd\" fill-opacity=\"1\"/>\n",
       "<polyline clip-path=\"url(#clip922)\" style=\"stroke:#000000; stroke-width:4; stroke-opacity:1; fill:none\" points=\"\n",
       "  9065.29,1384.24 9065.29,1384.24 9117.55,1384.24 9065.29,1384.24 \n",
       "  \"/>\n",
       "<path clip-path=\"url(#clip922)\" d=\"\n",
       "M9117.55 1384.24 L9117.55 1384.24 L9169.81 1384.24 L9169.81 1384.24 L9117.55 1384.24 L9117.55 1384.24  Z\n",
       "  \" fill=\"#009af9\" fill-rule=\"evenodd\" fill-opacity=\"1\"/>\n",
       "<polyline clip-path=\"url(#clip922)\" style=\"stroke:#000000; stroke-width:4; stroke-opacity:1; fill:none\" points=\"\n",
       "  9117.55,1384.24 9117.55,1384.24 9169.81,1384.24 9117.55,1384.24 \n",
       "  \"/>\n",
       "<path clip-path=\"url(#clip922)\" d=\"\n",
       "M9169.81 1384.24 L9169.81 1384.24 L9222.07 1384.24 L9222.07 1384.24 L9169.81 1384.24 L9169.81 1384.24  Z\n",
       "  \" fill=\"#009af9\" fill-rule=\"evenodd\" fill-opacity=\"1\"/>\n",
       "<polyline clip-path=\"url(#clip922)\" style=\"stroke:#000000; stroke-width:4; stroke-opacity:1; fill:none\" points=\"\n",
       "  9169.81,1384.24 9169.81,1384.24 9222.07,1384.24 9169.81,1384.24 \n",
       "  \"/>\n",
       "<path clip-path=\"url(#clip922)\" d=\"\n",
       "M9222.07 1384.24 L9222.07 1384.24 L9274.33 1384.24 L9274.33 1384.24 L9222.07 1384.24 L9222.07 1384.24  Z\n",
       "  \" fill=\"#009af9\" fill-rule=\"evenodd\" fill-opacity=\"1\"/>\n",
       "<polyline clip-path=\"url(#clip922)\" style=\"stroke:#000000; stroke-width:4; stroke-opacity:1; fill:none\" points=\"\n",
       "  9222.07,1384.24 9222.07,1384.24 9274.33,1384.24 9222.07,1384.24 \n",
       "  \"/>\n",
       "<path clip-path=\"url(#clip922)\" d=\"\n",
       "M9274.33 1384.24 L9274.33 1384.24 L9326.59 1384.24 L9326.59 1384.24 L9274.33 1384.24 L9274.33 1384.24  Z\n",
       "  \" fill=\"#009af9\" fill-rule=\"evenodd\" fill-opacity=\"1\"/>\n",
       "<polyline clip-path=\"url(#clip922)\" style=\"stroke:#000000; stroke-width:4; stroke-opacity:1; fill:none\" points=\"\n",
       "  9274.33,1384.24 9274.33,1384.24 9326.59,1384.24 9274.33,1384.24 \n",
       "  \"/>\n",
       "<path clip-path=\"url(#clip922)\" d=\"\n",
       "M9326.59 1384.24 L9326.59 1384.24 L9378.85 1384.24 L9378.85 1384.24 L9326.59 1384.24 L9326.59 1384.24  Z\n",
       "  \" fill=\"#009af9\" fill-rule=\"evenodd\" fill-opacity=\"1\"/>\n",
       "<polyline clip-path=\"url(#clip922)\" style=\"stroke:#000000; stroke-width:4; stroke-opacity:1; fill:none\" points=\"\n",
       "  9326.59,1384.24 9326.59,1384.24 9378.85,1384.24 9326.59,1384.24 \n",
       "  \"/>\n",
       "<path clip-path=\"url(#clip922)\" d=\"\n",
       "M9378.85 1384.24 L9378.85 1384.24 L9431.11 1384.24 L9431.11 1384.24 L9378.85 1384.24 L9378.85 1384.24  Z\n",
       "  \" fill=\"#009af9\" fill-rule=\"evenodd\" fill-opacity=\"1\"/>\n",
       "<polyline clip-path=\"url(#clip922)\" style=\"stroke:#000000; stroke-width:4; stroke-opacity:1; fill:none\" points=\"\n",
       "  9378.85,1384.24 9378.85,1384.24 9431.11,1384.24 9378.85,1384.24 \n",
       "  \"/>\n",
       "<path clip-path=\"url(#clip922)\" d=\"\n",
       "M9431.11 1384.24 L9431.11 1384.24 L9483.37 1384.24 L9483.37 1384.24 L9431.11 1384.24 L9431.11 1384.24  Z\n",
       "  \" fill=\"#009af9\" fill-rule=\"evenodd\" fill-opacity=\"1\"/>\n",
       "<polyline clip-path=\"url(#clip922)\" style=\"stroke:#000000; stroke-width:4; stroke-opacity:1; fill:none\" points=\"\n",
       "  9431.11,1384.24 9431.11,1384.24 9483.37,1384.24 9431.11,1384.24 \n",
       "  \"/>\n",
       "<path clip-path=\"url(#clip922)\" d=\"\n",
       "M9483.37 1384.24 L9483.37 1384.24 L9535.63 1384.24 L9535.63 1384.24 L9483.37 1384.24 L9483.37 1384.24  Z\n",
       "  \" fill=\"#009af9\" fill-rule=\"evenodd\" fill-opacity=\"1\"/>\n",
       "<polyline clip-path=\"url(#clip922)\" style=\"stroke:#000000; stroke-width:4; stroke-opacity:1; fill:none\" points=\"\n",
       "  9483.37,1384.24 9483.37,1384.24 9535.63,1384.24 9483.37,1384.24 \n",
       "  \"/>\n",
       "<path clip-path=\"url(#clip922)\" d=\"\n",
       "M9535.63 1384.24 L9535.63 1384.24 L9587.89 1384.24 L9587.89 1384.24 L9535.63 1384.24 L9535.63 1384.24  Z\n",
       "  \" fill=\"#009af9\" fill-rule=\"evenodd\" fill-opacity=\"1\"/>\n",
       "<polyline clip-path=\"url(#clip922)\" style=\"stroke:#000000; stroke-width:4; stroke-opacity:1; fill:none\" points=\"\n",
       "  9535.63,1384.24 9535.63,1384.24 9587.89,1384.24 9535.63,1384.24 \n",
       "  \"/>\n",
       "<path clip-path=\"url(#clip922)\" d=\"\n",
       "M9587.89 1351.79 L9587.89 1384.24 L9640.15 1384.24 L9640.15 1351.79 L9587.89 1351.79 L9587.89 1351.79  Z\n",
       "  \" fill=\"#009af9\" fill-rule=\"evenodd\" fill-opacity=\"1\"/>\n",
       "<polyline clip-path=\"url(#clip922)\" style=\"stroke:#000000; stroke-width:4; stroke-opacity:1; fill:none\" points=\"\n",
       "  9587.89,1351.79 9587.89,1384.24 9640.15,1384.24 9640.15,1351.79 9587.89,1351.79 \n",
       "  \"/>\n",
       "<path clip-path=\"url(#clip922)\" d=\"\n",
       "M9640.15 1384.24 L9640.15 1384.24 L9692.41 1384.24 L9692.41 1384.24 L9640.15 1384.24 L9640.15 1384.24  Z\n",
       "  \" fill=\"#009af9\" fill-rule=\"evenodd\" fill-opacity=\"1\"/>\n",
       "<polyline clip-path=\"url(#clip922)\" style=\"stroke:#000000; stroke-width:4; stroke-opacity:1; fill:none\" points=\"\n",
       "  9640.15,1384.24 9640.15,1384.24 9692.41,1384.24 9640.15,1384.24 \n",
       "  \"/>\n",
       "<path clip-path=\"url(#clip922)\" d=\"\n",
       "M9692.41 1384.24 L9692.41 1384.24 L9744.67 1384.24 L9744.67 1384.24 L9692.41 1384.24 L9692.41 1384.24  Z\n",
       "  \" fill=\"#009af9\" fill-rule=\"evenodd\" fill-opacity=\"1\"/>\n",
       "<polyline clip-path=\"url(#clip922)\" style=\"stroke:#000000; stroke-width:4; stroke-opacity:1; fill:none\" points=\"\n",
       "  9692.41,1384.24 9692.41,1384.24 9744.67,1384.24 9692.41,1384.24 \n",
       "  \"/>\n",
       "<path clip-path=\"url(#clip922)\" d=\"\n",
       "M9744.67 1384.24 L9744.67 1384.24 L9796.93 1384.24 L9796.93 1384.24 L9744.67 1384.24 L9744.67 1384.24  Z\n",
       "  \" fill=\"#009af9\" fill-rule=\"evenodd\" fill-opacity=\"1\"/>\n",
       "<polyline clip-path=\"url(#clip922)\" style=\"stroke:#000000; stroke-width:4; stroke-opacity:1; fill:none\" points=\"\n",
       "  9744.67,1384.24 9744.67,1384.24 9796.93,1384.24 9744.67,1384.24 \n",
       "  \"/>\n",
       "<path clip-path=\"url(#clip922)\" d=\"\n",
       "M9796.93 1351.79 L9796.93 1384.24 L9849.19 1384.24 L9849.19 1351.79 L9796.93 1351.79 L9796.93 1351.79  Z\n",
       "  \" fill=\"#009af9\" fill-rule=\"evenodd\" fill-opacity=\"1\"/>\n",
       "<polyline clip-path=\"url(#clip922)\" style=\"stroke:#000000; stroke-width:4; stroke-opacity:1; fill:none\" points=\"\n",
       "  9796.93,1351.79 9796.93,1384.24 9849.19,1384.24 9849.19,1351.79 9796.93,1351.79 \n",
       "  \"/>\n",
       "<path clip-path=\"url(#clip922)\" d=\"\n",
       "M9849.19 1384.24 L9849.19 1384.24 L9901.45 1384.24 L9901.45 1384.24 L9849.19 1384.24 L9849.19 1384.24  Z\n",
       "  \" fill=\"#009af9\" fill-rule=\"evenodd\" fill-opacity=\"1\"/>\n",
       "<polyline clip-path=\"url(#clip922)\" style=\"stroke:#000000; stroke-width:4; stroke-opacity:1; fill:none\" points=\"\n",
       "  9849.19,1384.24 9849.19,1384.24 9901.45,1384.24 9849.19,1384.24 \n",
       "  \"/>\n",
       "<path clip-path=\"url(#clip922)\" d=\"\n",
       "M9901.45 1384.24 L9901.45 1384.24 L9953.71 1384.24 L9953.71 1384.24 L9901.45 1384.24 L9901.45 1384.24  Z\n",
       "  \" fill=\"#009af9\" fill-rule=\"evenodd\" fill-opacity=\"1\"/>\n",
       "<polyline clip-path=\"url(#clip922)\" style=\"stroke:#000000; stroke-width:4; stroke-opacity:1; fill:none\" points=\"\n",
       "  9901.45,1384.24 9901.45,1384.24 9953.71,1384.24 9901.45,1384.24 \n",
       "  \"/>\n",
       "<path clip-path=\"url(#clip922)\" d=\"\n",
       "M9953.71 1384.24 L9953.71 1384.24 L10006 1384.24 L10006 1384.24 L9953.71 1384.24 L9953.71 1384.24  Z\n",
       "  \" fill=\"#009af9\" fill-rule=\"evenodd\" fill-opacity=\"1\"/>\n",
       "<polyline clip-path=\"url(#clip922)\" style=\"stroke:#000000; stroke-width:4; stroke-opacity:1; fill:none\" points=\"\n",
       "  9953.71,1384.24 9953.71,1384.24 10006,1384.24 9953.71,1384.24 \n",
       "  \"/>\n",
       "<path clip-path=\"url(#clip922)\" d=\"\n",
       "M10006 1351.79 L10006 1384.24 L10058.2 1384.24 L10058.2 1351.79 L10006 1351.79 L10006 1351.79  Z\n",
       "  \" fill=\"#009af9\" fill-rule=\"evenodd\" fill-opacity=\"1\"/>\n",
       "<polyline clip-path=\"url(#clip922)\" style=\"stroke:#000000; stroke-width:4; stroke-opacity:1; fill:none\" points=\"\n",
       "  10006,1351.79 10006,1384.24 10058.2,1384.24 10058.2,1351.79 10006,1351.79 \n",
       "  \"/>\n",
       "<path clip-path=\"url(#clip922)\" d=\"\n",
       "M10058.2 1384.24 L10058.2 1384.24 L10110.5 1384.24 L10110.5 1384.24 L10058.2 1384.24 L10058.2 1384.24  Z\n",
       "  \" fill=\"#009af9\" fill-rule=\"evenodd\" fill-opacity=\"1\"/>\n",
       "<polyline clip-path=\"url(#clip922)\" style=\"stroke:#000000; stroke-width:4; stroke-opacity:1; fill:none\" points=\"\n",
       "  10058.2,1384.24 10058.2,1384.24 10110.5,1384.24 10058.2,1384.24 \n",
       "  \"/>\n",
       "<path clip-path=\"url(#clip922)\" d=\"\n",
       "M10110.5 1384.24 L10110.5 1384.24 L10162.7 1384.24 L10162.7 1384.24 L10110.5 1384.24 L10110.5 1384.24  Z\n",
       "  \" fill=\"#009af9\" fill-rule=\"evenodd\" fill-opacity=\"1\"/>\n",
       "<polyline clip-path=\"url(#clip922)\" style=\"stroke:#000000; stroke-width:4; stroke-opacity:1; fill:none\" points=\"\n",
       "  10110.5,1384.24 10110.5,1384.24 10162.7,1384.24 10110.5,1384.24 \n",
       "  \"/>\n",
       "<path clip-path=\"url(#clip922)\" d=\"\n",
       "M10162.7 1384.24 L10162.7 1384.24 L10215 1384.24 L10215 1384.24 L10162.7 1384.24 L10162.7 1384.24  Z\n",
       "  \" fill=\"#009af9\" fill-rule=\"evenodd\" fill-opacity=\"1\"/>\n",
       "<polyline clip-path=\"url(#clip922)\" style=\"stroke:#000000; stroke-width:4; stroke-opacity:1; fill:none\" points=\"\n",
       "  10162.7,1384.24 10162.7,1384.24 10215,1384.24 10162.7,1384.24 \n",
       "  \"/>\n",
       "<path clip-path=\"url(#clip922)\" d=\"\n",
       "M10215 1384.24 L10215 1384.24 L10267.3 1384.24 L10267.3 1384.24 L10215 1384.24 L10215 1384.24  Z\n",
       "  \" fill=\"#009af9\" fill-rule=\"evenodd\" fill-opacity=\"1\"/>\n",
       "<polyline clip-path=\"url(#clip922)\" style=\"stroke:#000000; stroke-width:4; stroke-opacity:1; fill:none\" points=\"\n",
       "  10215,1384.24 10215,1384.24 10267.3,1384.24 10215,1384.24 \n",
       "  \"/>\n",
       "<path clip-path=\"url(#clip922)\" d=\"\n",
       "M10267.3 1384.24 L10267.3 1384.24 L10319.5 1384.24 L10319.5 1384.24 L10267.3 1384.24 L10267.3 1384.24  Z\n",
       "  \" fill=\"#009af9\" fill-rule=\"evenodd\" fill-opacity=\"1\"/>\n",
       "<polyline clip-path=\"url(#clip922)\" style=\"stroke:#000000; stroke-width:4; stroke-opacity:1; fill:none\" points=\"\n",
       "  10267.3,1384.24 10267.3,1384.24 10319.5,1384.24 10267.3,1384.24 \n",
       "  \"/>\n",
       "<path clip-path=\"url(#clip922)\" d=\"\n",
       "M10319.5 1384.24 L10319.5 1384.24 L10371.8 1384.24 L10371.8 1384.24 L10319.5 1384.24 L10319.5 1384.24  Z\n",
       "  \" fill=\"#009af9\" fill-rule=\"evenodd\" fill-opacity=\"1\"/>\n",
       "<polyline clip-path=\"url(#clip922)\" style=\"stroke:#000000; stroke-width:4; stroke-opacity:1; fill:none\" points=\"\n",
       "  10319.5,1384.24 10319.5,1384.24 10371.8,1384.24 10319.5,1384.24 \n",
       "  \"/>\n",
       "<path clip-path=\"url(#clip922)\" d=\"\n",
       "M10371.8 1384.24 L10371.8 1384.24 L10424 1384.24 L10424 1384.24 L10371.8 1384.24 L10371.8 1384.24  Z\n",
       "  \" fill=\"#009af9\" fill-rule=\"evenodd\" fill-opacity=\"1\"/>\n",
       "<polyline clip-path=\"url(#clip922)\" style=\"stroke:#000000; stroke-width:4; stroke-opacity:1; fill:none\" points=\"\n",
       "  10371.8,1384.24 10371.8,1384.24 10424,1384.24 10371.8,1384.24 \n",
       "  \"/>\n",
       "<path clip-path=\"url(#clip922)\" d=\"\n",
       "M10424 1384.24 L10424 1384.24 L10476.3 1384.24 L10476.3 1384.24 L10424 1384.24 L10424 1384.24  Z\n",
       "  \" fill=\"#009af9\" fill-rule=\"evenodd\" fill-opacity=\"1\"/>\n",
       "<polyline clip-path=\"url(#clip922)\" style=\"stroke:#000000; stroke-width:4; stroke-opacity:1; fill:none\" points=\"\n",
       "  10424,1384.24 10424,1384.24 10476.3,1384.24 10424,1384.24 \n",
       "  \"/>\n",
       "<path clip-path=\"url(#clip922)\" d=\"\n",
       "M10476.3 1384.24 L10476.3 1384.24 L10528.6 1384.24 L10528.6 1384.24 L10476.3 1384.24 L10476.3 1384.24  Z\n",
       "  \" fill=\"#009af9\" fill-rule=\"evenodd\" fill-opacity=\"1\"/>\n",
       "<polyline clip-path=\"url(#clip922)\" style=\"stroke:#000000; stroke-width:4; stroke-opacity:1; fill:none\" points=\"\n",
       "  10476.3,1384.24 10476.3,1384.24 10528.6,1384.24 10476.3,1384.24 \n",
       "  \"/>\n",
       "<path clip-path=\"url(#clip922)\" d=\"\n",
       "M10528.6 1384.24 L10528.6 1384.24 L10580.8 1384.24 L10580.8 1384.24 L10528.6 1384.24 L10528.6 1384.24  Z\n",
       "  \" fill=\"#009af9\" fill-rule=\"evenodd\" fill-opacity=\"1\"/>\n",
       "<polyline clip-path=\"url(#clip922)\" style=\"stroke:#000000; stroke-width:4; stroke-opacity:1; fill:none\" points=\"\n",
       "  10528.6,1384.24 10528.6,1384.24 10580.8,1384.24 10528.6,1384.24 \n",
       "  \"/>\n",
       "<path clip-path=\"url(#clip922)\" d=\"\n",
       "M10580.8 1384.24 L10580.8 1384.24 L10633.1 1384.24 L10633.1 1384.24 L10580.8 1384.24 L10580.8 1384.24  Z\n",
       "  \" fill=\"#009af9\" fill-rule=\"evenodd\" fill-opacity=\"1\"/>\n",
       "<polyline clip-path=\"url(#clip922)\" style=\"stroke:#000000; stroke-width:4; stroke-opacity:1; fill:none\" points=\"\n",
       "  10580.8,1384.24 10580.8,1384.24 10633.1,1384.24 10580.8,1384.24 \n",
       "  \"/>\n",
       "<path clip-path=\"url(#clip922)\" d=\"\n",
       "M10633.1 1384.24 L10633.1 1384.24 L10685.3 1384.24 L10685.3 1384.24 L10633.1 1384.24 L10633.1 1384.24  Z\n",
       "  \" fill=\"#009af9\" fill-rule=\"evenodd\" fill-opacity=\"1\"/>\n",
       "<polyline clip-path=\"url(#clip922)\" style=\"stroke:#000000; stroke-width:4; stroke-opacity:1; fill:none\" points=\"\n",
       "  10633.1,1384.24 10633.1,1384.24 10685.3,1384.24 10633.1,1384.24 \n",
       "  \"/>\n",
       "<path clip-path=\"url(#clip922)\" d=\"\n",
       "M10685.3 1384.24 L10685.3 1384.24 L10737.6 1384.24 L10737.6 1384.24 L10685.3 1384.24 L10685.3 1384.24  Z\n",
       "  \" fill=\"#009af9\" fill-rule=\"evenodd\" fill-opacity=\"1\"/>\n",
       "<polyline clip-path=\"url(#clip922)\" style=\"stroke:#000000; stroke-width:4; stroke-opacity:1; fill:none\" points=\"\n",
       "  10685.3,1384.24 10685.3,1384.24 10737.6,1384.24 10685.3,1384.24 \n",
       "  \"/>\n",
       "<path clip-path=\"url(#clip922)\" d=\"\n",
       "M10737.6 1384.24 L10737.6 1384.24 L10789.9 1384.24 L10789.9 1384.24 L10737.6 1384.24 L10737.6 1384.24  Z\n",
       "  \" fill=\"#009af9\" fill-rule=\"evenodd\" fill-opacity=\"1\"/>\n",
       "<polyline clip-path=\"url(#clip922)\" style=\"stroke:#000000; stroke-width:4; stroke-opacity:1; fill:none\" points=\"\n",
       "  10737.6,1384.24 10737.6,1384.24 10789.9,1384.24 10737.6,1384.24 \n",
       "  \"/>\n",
       "<path clip-path=\"url(#clip922)\" d=\"\n",
       "M10789.9 1384.24 L10789.9 1384.24 L10842.1 1384.24 L10842.1 1384.24 L10789.9 1384.24 L10789.9 1384.24  Z\n",
       "  \" fill=\"#009af9\" fill-rule=\"evenodd\" fill-opacity=\"1\"/>\n",
       "<polyline clip-path=\"url(#clip922)\" style=\"stroke:#000000; stroke-width:4; stroke-opacity:1; fill:none\" points=\"\n",
       "  10789.9,1384.24 10789.9,1384.24 10842.1,1384.24 10789.9,1384.24 \n",
       "  \"/>\n",
       "<path clip-path=\"url(#clip922)\" d=\"\n",
       "M10842.1 1384.24 L10842.1 1384.24 L10894.4 1384.24 L10894.4 1384.24 L10842.1 1384.24 L10842.1 1384.24  Z\n",
       "  \" fill=\"#009af9\" fill-rule=\"evenodd\" fill-opacity=\"1\"/>\n",
       "<polyline clip-path=\"url(#clip922)\" style=\"stroke:#000000; stroke-width:4; stroke-opacity:1; fill:none\" points=\"\n",
       "  10842.1,1384.24 10842.1,1384.24 10894.4,1384.24 10842.1,1384.24 \n",
       "  \"/>\n",
       "<path clip-path=\"url(#clip922)\" d=\"\n",
       "M10894.4 1384.24 L10894.4 1384.24 L10946.6 1384.24 L10946.6 1384.24 L10894.4 1384.24 L10894.4 1384.24  Z\n",
       "  \" fill=\"#009af9\" fill-rule=\"evenodd\" fill-opacity=\"1\"/>\n",
       "<polyline clip-path=\"url(#clip922)\" style=\"stroke:#000000; stroke-width:4; stroke-opacity:1; fill:none\" points=\"\n",
       "  10894.4,1384.24 10894.4,1384.24 10946.6,1384.24 10894.4,1384.24 \n",
       "  \"/>\n",
       "<path clip-path=\"url(#clip922)\" d=\"\n",
       "M10946.6 1384.24 L10946.6 1384.24 L10998.9 1384.24 L10998.9 1384.24 L10946.6 1384.24 L10946.6 1384.24  Z\n",
       "  \" fill=\"#009af9\" fill-rule=\"evenodd\" fill-opacity=\"1\"/>\n",
       "<polyline clip-path=\"url(#clip922)\" style=\"stroke:#000000; stroke-width:4; stroke-opacity:1; fill:none\" points=\"\n",
       "  10946.6,1384.24 10946.6,1384.24 10998.9,1384.24 10946.6,1384.24 \n",
       "  \"/>\n",
       "<path clip-path=\"url(#clip922)\" d=\"\n",
       "M10998.9 1384.24 L10998.9 1384.24 L11051.2 1384.24 L11051.2 1384.24 L10998.9 1384.24 L10998.9 1384.24  Z\n",
       "  \" fill=\"#009af9\" fill-rule=\"evenodd\" fill-opacity=\"1\"/>\n",
       "<polyline clip-path=\"url(#clip922)\" style=\"stroke:#000000; stroke-width:4; stroke-opacity:1; fill:none\" points=\"\n",
       "  10998.9,1384.24 10998.9,1384.24 11051.2,1384.24 10998.9,1384.24 \n",
       "  \"/>\n",
       "<path clip-path=\"url(#clip922)\" d=\"\n",
       "M11051.2 1384.24 L11051.2 1384.24 L11103.4 1384.24 L11103.4 1384.24 L11051.2 1384.24 L11051.2 1384.24  Z\n",
       "  \" fill=\"#009af9\" fill-rule=\"evenodd\" fill-opacity=\"1\"/>\n",
       "<polyline clip-path=\"url(#clip922)\" style=\"stroke:#000000; stroke-width:4; stroke-opacity:1; fill:none\" points=\"\n",
       "  11051.2,1384.24 11051.2,1384.24 11103.4,1384.24 11051.2,1384.24 \n",
       "  \"/>\n",
       "<path clip-path=\"url(#clip922)\" d=\"\n",
       "M11103.4 1384.24 L11103.4 1384.24 L11155.7 1384.24 L11155.7 1384.24 L11103.4 1384.24 L11103.4 1384.24  Z\n",
       "  \" fill=\"#009af9\" fill-rule=\"evenodd\" fill-opacity=\"1\"/>\n",
       "<polyline clip-path=\"url(#clip922)\" style=\"stroke:#000000; stroke-width:4; stroke-opacity:1; fill:none\" points=\"\n",
       "  11103.4,1384.24 11103.4,1384.24 11155.7,1384.24 11103.4,1384.24 \n",
       "  \"/>\n",
       "<path clip-path=\"url(#clip922)\" d=\"\n",
       "M11155.7 1384.24 L11155.7 1384.24 L11207.9 1384.24 L11207.9 1384.24 L11155.7 1384.24 L11155.7 1384.24  Z\n",
       "  \" fill=\"#009af9\" fill-rule=\"evenodd\" fill-opacity=\"1\"/>\n",
       "<polyline clip-path=\"url(#clip922)\" style=\"stroke:#000000; stroke-width:4; stroke-opacity:1; fill:none\" points=\"\n",
       "  11155.7,1384.24 11155.7,1384.24 11207.9,1384.24 11155.7,1384.24 \n",
       "  \"/>\n",
       "<path clip-path=\"url(#clip922)\" d=\"\n",
       "M11207.9 1384.24 L11207.9 1384.24 L11260.2 1384.24 L11260.2 1384.24 L11207.9 1384.24 L11207.9 1384.24  Z\n",
       "  \" fill=\"#009af9\" fill-rule=\"evenodd\" fill-opacity=\"1\"/>\n",
       "<polyline clip-path=\"url(#clip922)\" style=\"stroke:#000000; stroke-width:4; stroke-opacity:1; fill:none\" points=\"\n",
       "  11207.9,1384.24 11207.9,1384.24 11260.2,1384.24 11207.9,1384.24 \n",
       "  \"/>\n",
       "<path clip-path=\"url(#clip922)\" d=\"\n",
       "M11260.2 1384.24 L11260.2 1384.24 L11312.5 1384.24 L11312.5 1384.24 L11260.2 1384.24 L11260.2 1384.24  Z\n",
       "  \" fill=\"#009af9\" fill-rule=\"evenodd\" fill-opacity=\"1\"/>\n",
       "<polyline clip-path=\"url(#clip922)\" style=\"stroke:#000000; stroke-width:4; stroke-opacity:1; fill:none\" points=\"\n",
       "  11260.2,1384.24 11260.2,1384.24 11312.5,1384.24 11260.2,1384.24 \n",
       "  \"/>\n",
       "<path clip-path=\"url(#clip922)\" d=\"\n",
       "M11312.5 1384.24 L11312.5 1384.24 L11364.7 1384.24 L11364.7 1384.24 L11312.5 1384.24 L11312.5 1384.24  Z\n",
       "  \" fill=\"#009af9\" fill-rule=\"evenodd\" fill-opacity=\"1\"/>\n",
       "<polyline clip-path=\"url(#clip922)\" style=\"stroke:#000000; stroke-width:4; stroke-opacity:1; fill:none\" points=\"\n",
       "  11312.5,1384.24 11312.5,1384.24 11364.7,1384.24 11312.5,1384.24 \n",
       "  \"/>\n",
       "<path clip-path=\"url(#clip922)\" d=\"\n",
       "M11364.7 1384.24 L11364.7 1384.24 L11417 1384.24 L11417 1384.24 L11364.7 1384.24 L11364.7 1384.24  Z\n",
       "  \" fill=\"#009af9\" fill-rule=\"evenodd\" fill-opacity=\"1\"/>\n",
       "<polyline clip-path=\"url(#clip922)\" style=\"stroke:#000000; stroke-width:4; stroke-opacity:1; fill:none\" points=\"\n",
       "  11364.7,1384.24 11364.7,1384.24 11417,1384.24 11364.7,1384.24 \n",
       "  \"/>\n",
       "<path clip-path=\"url(#clip922)\" d=\"\n",
       "M11417 1384.24 L11417 1384.24 L11469.2 1384.24 L11469.2 1384.24 L11417 1384.24 L11417 1384.24  Z\n",
       "  \" fill=\"#009af9\" fill-rule=\"evenodd\" fill-opacity=\"1\"/>\n",
       "<polyline clip-path=\"url(#clip922)\" style=\"stroke:#000000; stroke-width:4; stroke-opacity:1; fill:none\" points=\"\n",
       "  11417,1384.24 11417,1384.24 11469.2,1384.24 11417,1384.24 \n",
       "  \"/>\n",
       "<path clip-path=\"url(#clip922)\" d=\"\n",
       "M11469.2 1384.24 L11469.2 1384.24 L11521.5 1384.24 L11521.5 1384.24 L11469.2 1384.24 L11469.2 1384.24  Z\n",
       "  \" fill=\"#009af9\" fill-rule=\"evenodd\" fill-opacity=\"1\"/>\n",
       "<polyline clip-path=\"url(#clip922)\" style=\"stroke:#000000; stroke-width:4; stroke-opacity:1; fill:none\" points=\"\n",
       "  11469.2,1384.24 11469.2,1384.24 11521.5,1384.24 11469.2,1384.24 \n",
       "  \"/>\n",
       "<path clip-path=\"url(#clip922)\" d=\"\n",
       "M11521.5 1384.24 L11521.5 1384.24 L11573.8 1384.24 L11573.8 1384.24 L11521.5 1384.24 L11521.5 1384.24  Z\n",
       "  \" fill=\"#009af9\" fill-rule=\"evenodd\" fill-opacity=\"1\"/>\n",
       "<polyline clip-path=\"url(#clip922)\" style=\"stroke:#000000; stroke-width:4; stroke-opacity:1; fill:none\" points=\"\n",
       "  11521.5,1384.24 11521.5,1384.24 11573.8,1384.24 11521.5,1384.24 \n",
       "  \"/>\n",
       "<path clip-path=\"url(#clip922)\" d=\"\n",
       "M11573.8 1384.24 L11573.8 1384.24 L11626 1384.24 L11626 1384.24 L11573.8 1384.24 L11573.8 1384.24  Z\n",
       "  \" fill=\"#009af9\" fill-rule=\"evenodd\" fill-opacity=\"1\"/>\n",
       "<polyline clip-path=\"url(#clip922)\" style=\"stroke:#000000; stroke-width:4; stroke-opacity:1; fill:none\" points=\"\n",
       "  11573.8,1384.24 11573.8,1384.24 11626,1384.24 11573.8,1384.24 \n",
       "  \"/>\n",
       "<path clip-path=\"url(#clip922)\" d=\"\n",
       "M11626 1384.24 L11626 1384.24 L11678.3 1384.24 L11678.3 1384.24 L11626 1384.24 L11626 1384.24  Z\n",
       "  \" fill=\"#009af9\" fill-rule=\"evenodd\" fill-opacity=\"1\"/>\n",
       "<polyline clip-path=\"url(#clip922)\" style=\"stroke:#000000; stroke-width:4; stroke-opacity:1; fill:none\" points=\"\n",
       "  11626,1384.24 11626,1384.24 11678.3,1384.24 11626,1384.24 \n",
       "  \"/>\n",
       "<path clip-path=\"url(#clip922)\" d=\"\n",
       "M11678.3 1384.24 L11678.3 1384.24 L11730.5 1384.24 L11730.5 1384.24 L11678.3 1384.24 L11678.3 1384.24  Z\n",
       "  \" fill=\"#009af9\" fill-rule=\"evenodd\" fill-opacity=\"1\"/>\n",
       "<polyline clip-path=\"url(#clip922)\" style=\"stroke:#000000; stroke-width:4; stroke-opacity:1; fill:none\" points=\"\n",
       "  11678.3,1384.24 11678.3,1384.24 11730.5,1384.24 11678.3,1384.24 \n",
       "  \"/>\n",
       "<path clip-path=\"url(#clip922)\" d=\"\n",
       "M11730.5 1384.24 L11730.5 1384.24 L11782.8 1384.24 L11782.8 1384.24 L11730.5 1384.24 L11730.5 1384.24  Z\n",
       "  \" fill=\"#009af9\" fill-rule=\"evenodd\" fill-opacity=\"1\"/>\n",
       "<polyline clip-path=\"url(#clip922)\" style=\"stroke:#000000; stroke-width:4; stroke-opacity:1; fill:none\" points=\"\n",
       "  11730.5,1384.24 11730.5,1384.24 11782.8,1384.24 11730.5,1384.24 \n",
       "  \"/>\n",
       "<path clip-path=\"url(#clip922)\" d=\"\n",
       "M11782.8 1384.24 L11782.8 1384.24 L11835.1 1384.24 L11835.1 1384.24 L11782.8 1384.24 L11782.8 1384.24  Z\n",
       "  \" fill=\"#009af9\" fill-rule=\"evenodd\" fill-opacity=\"1\"/>\n",
       "<polyline clip-path=\"url(#clip922)\" style=\"stroke:#000000; stroke-width:4; stroke-opacity:1; fill:none\" points=\"\n",
       "  11782.8,1384.24 11782.8,1384.24 11835.1,1384.24 11782.8,1384.24 \n",
       "  \"/>\n",
       "<path clip-path=\"url(#clip922)\" d=\"\n",
       "M11835.1 1384.24 L11835.1 1384.24 L11887.3 1384.24 L11887.3 1384.24 L11835.1 1384.24 L11835.1 1384.24  Z\n",
       "  \" fill=\"#009af9\" fill-rule=\"evenodd\" fill-opacity=\"1\"/>\n",
       "<polyline clip-path=\"url(#clip922)\" style=\"stroke:#000000; stroke-width:4; stroke-opacity:1; fill:none\" points=\"\n",
       "  11835.1,1384.24 11835.1,1384.24 11887.3,1384.24 11835.1,1384.24 \n",
       "  \"/>\n",
       "<path clip-path=\"url(#clip922)\" d=\"\n",
       "M11887.3 1384.24 L11887.3 1384.24 L11939.6 1384.24 L11939.6 1384.24 L11887.3 1384.24 L11887.3 1384.24  Z\n",
       "  \" fill=\"#009af9\" fill-rule=\"evenodd\" fill-opacity=\"1\"/>\n",
       "<polyline clip-path=\"url(#clip922)\" style=\"stroke:#000000; stroke-width:4; stroke-opacity:1; fill:none\" points=\"\n",
       "  11887.3,1384.24 11887.3,1384.24 11939.6,1384.24 11887.3,1384.24 \n",
       "  \"/>\n",
       "<path clip-path=\"url(#clip922)\" d=\"\n",
       "M11939.6 1384.24 L11939.6 1384.24 L11991.8 1384.24 L11991.8 1384.24 L11939.6 1384.24 L11939.6 1384.24  Z\n",
       "  \" fill=\"#009af9\" fill-rule=\"evenodd\" fill-opacity=\"1\"/>\n",
       "<polyline clip-path=\"url(#clip922)\" style=\"stroke:#000000; stroke-width:4; stroke-opacity:1; fill:none\" points=\"\n",
       "  11939.6,1384.24 11939.6,1384.24 11991.8,1384.24 11939.6,1384.24 \n",
       "  \"/>\n",
       "<path clip-path=\"url(#clip922)\" d=\"\n",
       "M11991.8 1384.24 L11991.8 1384.24 L12044.1 1384.24 L12044.1 1384.24 L11991.8 1384.24 L11991.8 1384.24  Z\n",
       "  \" fill=\"#009af9\" fill-rule=\"evenodd\" fill-opacity=\"1\"/>\n",
       "<polyline clip-path=\"url(#clip922)\" style=\"stroke:#000000; stroke-width:4; stroke-opacity:1; fill:none\" points=\"\n",
       "  11991.8,1384.24 11991.8,1384.24 12044.1,1384.24 11991.8,1384.24 \n",
       "  \"/>\n",
       "<path clip-path=\"url(#clip922)\" d=\"\n",
       "M12044.1 1384.24 L12044.1 1384.24 L12096.4 1384.24 L12096.4 1384.24 L12044.1 1384.24 L12044.1 1384.24  Z\n",
       "  \" fill=\"#009af9\" fill-rule=\"evenodd\" fill-opacity=\"1\"/>\n",
       "<polyline clip-path=\"url(#clip922)\" style=\"stroke:#000000; stroke-width:4; stroke-opacity:1; fill:none\" points=\"\n",
       "  12044.1,1384.24 12044.1,1384.24 12096.4,1384.24 12044.1,1384.24 \n",
       "  \"/>\n",
       "<path clip-path=\"url(#clip922)\" d=\"\n",
       "M12096.4 1384.24 L12096.4 1384.24 L12148.6 1384.24 L12148.6 1384.24 L12096.4 1384.24 L12096.4 1384.24  Z\n",
       "  \" fill=\"#009af9\" fill-rule=\"evenodd\" fill-opacity=\"1\"/>\n",
       "<polyline clip-path=\"url(#clip922)\" style=\"stroke:#000000; stroke-width:4; stroke-opacity:1; fill:none\" points=\"\n",
       "  12096.4,1384.24 12096.4,1384.24 12148.6,1384.24 12096.4,1384.24 \n",
       "  \"/>\n",
       "<path clip-path=\"url(#clip922)\" d=\"\n",
       "M12148.6 1384.24 L12148.6 1384.24 L12200.9 1384.24 L12200.9 1384.24 L12148.6 1384.24 L12148.6 1384.24  Z\n",
       "  \" fill=\"#009af9\" fill-rule=\"evenodd\" fill-opacity=\"1\"/>\n",
       "<polyline clip-path=\"url(#clip922)\" style=\"stroke:#000000; stroke-width:4; stroke-opacity:1; fill:none\" points=\"\n",
       "  12148.6,1384.24 12148.6,1384.24 12200.9,1384.24 12148.6,1384.24 \n",
       "  \"/>\n",
       "<path clip-path=\"url(#clip922)\" d=\"\n",
       "M12200.9 1384.24 L12200.9 1384.24 L12253.1 1384.24 L12253.1 1384.24 L12200.9 1384.24 L12200.9 1384.24  Z\n",
       "  \" fill=\"#009af9\" fill-rule=\"evenodd\" fill-opacity=\"1\"/>\n",
       "<polyline clip-path=\"url(#clip922)\" style=\"stroke:#000000; stroke-width:4; stroke-opacity:1; fill:none\" points=\"\n",
       "  12200.9,1384.24 12200.9,1384.24 12253.1,1384.24 12200.9,1384.24 \n",
       "  \"/>\n",
       "<path clip-path=\"url(#clip922)\" d=\"\n",
       "M12253.1 1384.24 L12253.1 1384.24 L12305.4 1384.24 L12305.4 1384.24 L12253.1 1384.24 L12253.1 1384.24  Z\n",
       "  \" fill=\"#009af9\" fill-rule=\"evenodd\" fill-opacity=\"1\"/>\n",
       "<polyline clip-path=\"url(#clip922)\" style=\"stroke:#000000; stroke-width:4; stroke-opacity:1; fill:none\" points=\"\n",
       "  12253.1,1384.24 12253.1,1384.24 12305.4,1384.24 12253.1,1384.24 \n",
       "  \"/>\n",
       "<path clip-path=\"url(#clip922)\" d=\"\n",
       "M12305.4 1351.79 L12305.4 1384.24 L12357.7 1384.24 L12357.7 1351.79 L12305.4 1351.79 L12305.4 1351.79  Z\n",
       "  \" fill=\"#009af9\" fill-rule=\"evenodd\" fill-opacity=\"1\"/>\n",
       "<polyline clip-path=\"url(#clip922)\" style=\"stroke:#000000; stroke-width:4; stroke-opacity:1; fill:none\" points=\"\n",
       "  12305.4,1351.79 12305.4,1384.24 12357.7,1384.24 12357.7,1351.79 12305.4,1351.79 \n",
       "  \"/>\n",
       "<path clip-path=\"url(#clip922)\" d=\"\n",
       "M12357.7 1384.24 L12357.7 1384.24 L12409.9 1384.24 L12409.9 1384.24 L12357.7 1384.24 L12357.7 1384.24  Z\n",
       "  \" fill=\"#009af9\" fill-rule=\"evenodd\" fill-opacity=\"1\"/>\n",
       "<polyline clip-path=\"url(#clip922)\" style=\"stroke:#000000; stroke-width:4; stroke-opacity:1; fill:none\" points=\"\n",
       "  12357.7,1384.24 12357.7,1384.24 12409.9,1384.24 12357.7,1384.24 \n",
       "  \"/>\n",
       "<path clip-path=\"url(#clip922)\" d=\"\n",
       "M12409.9 1384.24 L12409.9 1384.24 L12462.2 1384.24 L12462.2 1384.24 L12409.9 1384.24 L12409.9 1384.24  Z\n",
       "  \" fill=\"#009af9\" fill-rule=\"evenodd\" fill-opacity=\"1\"/>\n",
       "<polyline clip-path=\"url(#clip922)\" style=\"stroke:#000000; stroke-width:4; stroke-opacity:1; fill:none\" points=\"\n",
       "  12409.9,1384.24 12409.9,1384.24 12462.2,1384.24 12409.9,1384.24 \n",
       "  \"/>\n",
       "<path clip-path=\"url(#clip922)\" d=\"\n",
       "M12462.2 1384.24 L12462.2 1384.24 L12514.4 1384.24 L12514.4 1384.24 L12462.2 1384.24 L12462.2 1384.24  Z\n",
       "  \" fill=\"#009af9\" fill-rule=\"evenodd\" fill-opacity=\"1\"/>\n",
       "<polyline clip-path=\"url(#clip922)\" style=\"stroke:#000000; stroke-width:4; stroke-opacity:1; fill:none\" points=\"\n",
       "  12462.2,1384.24 12462.2,1384.24 12514.4,1384.24 12462.2,1384.24 \n",
       "  \"/>\n",
       "<path clip-path=\"url(#clip922)\" d=\"\n",
       "M12514.4 1384.24 L12514.4 1384.24 L12566.7 1384.24 L12566.7 1384.24 L12514.4 1384.24 L12514.4 1384.24  Z\n",
       "  \" fill=\"#009af9\" fill-rule=\"evenodd\" fill-opacity=\"1\"/>\n",
       "<polyline clip-path=\"url(#clip922)\" style=\"stroke:#000000; stroke-width:4; stroke-opacity:1; fill:none\" points=\"\n",
       "  12514.4,1384.24 12514.4,1384.24 12566.7,1384.24 12514.4,1384.24 \n",
       "  \"/>\n",
       "<path clip-path=\"url(#clip922)\" d=\"\n",
       "M12566.7 1384.24 L12566.7 1384.24 L12619 1384.24 L12619 1384.24 L12566.7 1384.24 L12566.7 1384.24  Z\n",
       "  \" fill=\"#009af9\" fill-rule=\"evenodd\" fill-opacity=\"1\"/>\n",
       "<polyline clip-path=\"url(#clip922)\" style=\"stroke:#000000; stroke-width:4; stroke-opacity:1; fill:none\" points=\"\n",
       "  12566.7,1384.24 12566.7,1384.24 12619,1384.24 12566.7,1384.24 \n",
       "  \"/>\n",
       "<path clip-path=\"url(#clip922)\" d=\"\n",
       "M12619 1384.24 L12619 1384.24 L12671.2 1384.24 L12671.2 1384.24 L12619 1384.24 L12619 1384.24  Z\n",
       "  \" fill=\"#009af9\" fill-rule=\"evenodd\" fill-opacity=\"1\"/>\n",
       "<polyline clip-path=\"url(#clip922)\" style=\"stroke:#000000; stroke-width:4; stroke-opacity:1; fill:none\" points=\"\n",
       "  12619,1384.24 12619,1384.24 12671.2,1384.24 12619,1384.24 \n",
       "  \"/>\n",
       "<path clip-path=\"url(#clip922)\" d=\"\n",
       "M12671.2 1384.24 L12671.2 1384.24 L12723.5 1384.24 L12723.5 1384.24 L12671.2 1384.24 L12671.2 1384.24  Z\n",
       "  \" fill=\"#009af9\" fill-rule=\"evenodd\" fill-opacity=\"1\"/>\n",
       "<polyline clip-path=\"url(#clip922)\" style=\"stroke:#000000; stroke-width:4; stroke-opacity:1; fill:none\" points=\"\n",
       "  12671.2,1384.24 12671.2,1384.24 12723.5,1384.24 12671.2,1384.24 \n",
       "  \"/>\n",
       "<path clip-path=\"url(#clip922)\" d=\"\n",
       "M12723.5 1384.24 L12723.5 1384.24 L12775.7 1384.24 L12775.7 1384.24 L12723.5 1384.24 L12723.5 1384.24  Z\n",
       "  \" fill=\"#009af9\" fill-rule=\"evenodd\" fill-opacity=\"1\"/>\n",
       "<polyline clip-path=\"url(#clip922)\" style=\"stroke:#000000; stroke-width:4; stroke-opacity:1; fill:none\" points=\"\n",
       "  12723.5,1384.24 12723.5,1384.24 12775.7,1384.24 12723.5,1384.24 \n",
       "  \"/>\n",
       "<path clip-path=\"url(#clip922)\" d=\"\n",
       "M12775.7 1384.24 L12775.7 1384.24 L12828 1384.24 L12828 1384.24 L12775.7 1384.24 L12775.7 1384.24  Z\n",
       "  \" fill=\"#009af9\" fill-rule=\"evenodd\" fill-opacity=\"1\"/>\n",
       "<polyline clip-path=\"url(#clip922)\" style=\"stroke:#000000; stroke-width:4; stroke-opacity:1; fill:none\" points=\"\n",
       "  12775.7,1384.24 12775.7,1384.24 12828,1384.24 12775.7,1384.24 \n",
       "  \"/>\n",
       "<path clip-path=\"url(#clip922)\" d=\"\n",
       "M12828 1384.24 L12828 1384.24 L12880.3 1384.24 L12880.3 1384.24 L12828 1384.24 L12828 1384.24  Z\n",
       "  \" fill=\"#009af9\" fill-rule=\"evenodd\" fill-opacity=\"1\"/>\n",
       "<polyline clip-path=\"url(#clip922)\" style=\"stroke:#000000; stroke-width:4; stroke-opacity:1; fill:none\" points=\"\n",
       "  12828,1384.24 12828,1384.24 12880.3,1384.24 12828,1384.24 \n",
       "  \"/>\n",
       "<path clip-path=\"url(#clip922)\" d=\"\n",
       "M12880.3 1384.24 L12880.3 1384.24 L12932.5 1384.24 L12932.5 1384.24 L12880.3 1384.24 L12880.3 1384.24  Z\n",
       "  \" fill=\"#009af9\" fill-rule=\"evenodd\" fill-opacity=\"1\"/>\n",
       "<polyline clip-path=\"url(#clip922)\" style=\"stroke:#000000; stroke-width:4; stroke-opacity:1; fill:none\" points=\"\n",
       "  12880.3,1384.24 12880.3,1384.24 12932.5,1384.24 12880.3,1384.24 \n",
       "  \"/>\n",
       "<path clip-path=\"url(#clip922)\" d=\"\n",
       "M12932.5 1384.24 L12932.5 1384.24 L12984.8 1384.24 L12984.8 1384.24 L12932.5 1384.24 L12932.5 1384.24  Z\n",
       "  \" fill=\"#009af9\" fill-rule=\"evenodd\" fill-opacity=\"1\"/>\n",
       "<polyline clip-path=\"url(#clip922)\" style=\"stroke:#000000; stroke-width:4; stroke-opacity:1; fill:none\" points=\"\n",
       "  12932.5,1384.24 12932.5,1384.24 12984.8,1384.24 12932.5,1384.24 \n",
       "  \"/>\n",
       "<path clip-path=\"url(#clip922)\" d=\"\n",
       "M12984.8 1384.24 L12984.8 1384.24 L13037 1384.24 L13037 1384.24 L12984.8 1384.24 L12984.8 1384.24  Z\n",
       "  \" fill=\"#009af9\" fill-rule=\"evenodd\" fill-opacity=\"1\"/>\n",
       "<polyline clip-path=\"url(#clip922)\" style=\"stroke:#000000; stroke-width:4; stroke-opacity:1; fill:none\" points=\"\n",
       "  12984.8,1384.24 12984.8,1384.24 13037,1384.24 12984.8,1384.24 \n",
       "  \"/>\n",
       "<path clip-path=\"url(#clip922)\" d=\"\n",
       "M13037 1384.24 L13037 1384.24 L13089.3 1384.24 L13089.3 1384.24 L13037 1384.24 L13037 1384.24  Z\n",
       "  \" fill=\"#009af9\" fill-rule=\"evenodd\" fill-opacity=\"1\"/>\n",
       "<polyline clip-path=\"url(#clip922)\" style=\"stroke:#000000; stroke-width:4; stroke-opacity:1; fill:none\" points=\"\n",
       "  13037,1384.24 13037,1384.24 13089.3,1384.24 13037,1384.24 \n",
       "  \"/>\n",
       "<path clip-path=\"url(#clip922)\" d=\"\n",
       "M13089.3 1384.24 L13089.3 1384.24 L13141.6 1384.24 L13141.6 1384.24 L13089.3 1384.24 L13089.3 1384.24  Z\n",
       "  \" fill=\"#009af9\" fill-rule=\"evenodd\" fill-opacity=\"1\"/>\n",
       "<polyline clip-path=\"url(#clip922)\" style=\"stroke:#000000; stroke-width:4; stroke-opacity:1; fill:none\" points=\"\n",
       "  13089.3,1384.24 13089.3,1384.24 13141.6,1384.24 13089.3,1384.24 \n",
       "  \"/>\n",
       "<path clip-path=\"url(#clip922)\" d=\"\n",
       "M13141.6 1384.24 L13141.6 1384.24 L13193.8 1384.24 L13193.8 1384.24 L13141.6 1384.24 L13141.6 1384.24  Z\n",
       "  \" fill=\"#009af9\" fill-rule=\"evenodd\" fill-opacity=\"1\"/>\n",
       "<polyline clip-path=\"url(#clip922)\" style=\"stroke:#000000; stroke-width:4; stroke-opacity:1; fill:none\" points=\"\n",
       "  13141.6,1384.24 13141.6,1384.24 13193.8,1384.24 13141.6,1384.24 \n",
       "  \"/>\n",
       "<path clip-path=\"url(#clip922)\" d=\"\n",
       "M13193.8 1384.24 L13193.8 1384.24 L13246.1 1384.24 L13246.1 1384.24 L13193.8 1384.24 L13193.8 1384.24  Z\n",
       "  \" fill=\"#009af9\" fill-rule=\"evenodd\" fill-opacity=\"1\"/>\n",
       "<polyline clip-path=\"url(#clip922)\" style=\"stroke:#000000; stroke-width:4; stroke-opacity:1; fill:none\" points=\"\n",
       "  13193.8,1384.24 13193.8,1384.24 13246.1,1384.24 13193.8,1384.24 \n",
       "  \"/>\n",
       "<path clip-path=\"url(#clip922)\" d=\"\n",
       "M13246.1 1384.24 L13246.1 1384.24 L13298.3 1384.24 L13298.3 1384.24 L13246.1 1384.24 L13246.1 1384.24  Z\n",
       "  \" fill=\"#009af9\" fill-rule=\"evenodd\" fill-opacity=\"1\"/>\n",
       "<polyline clip-path=\"url(#clip922)\" style=\"stroke:#000000; stroke-width:4; stroke-opacity:1; fill:none\" points=\"\n",
       "  13246.1,1384.24 13246.1,1384.24 13298.3,1384.24 13246.1,1384.24 \n",
       "  \"/>\n",
       "<path clip-path=\"url(#clip922)\" d=\"\n",
       "M13298.3 1384.24 L13298.3 1384.24 L13350.6 1384.24 L13350.6 1384.24 L13298.3 1384.24 L13298.3 1384.24  Z\n",
       "  \" fill=\"#009af9\" fill-rule=\"evenodd\" fill-opacity=\"1\"/>\n",
       "<polyline clip-path=\"url(#clip922)\" style=\"stroke:#000000; stroke-width:4; stroke-opacity:1; fill:none\" points=\"\n",
       "  13298.3,1384.24 13298.3,1384.24 13350.6,1384.24 13298.3,1384.24 \n",
       "  \"/>\n",
       "<path clip-path=\"url(#clip922)\" d=\"\n",
       "M13350.6 1384.24 L13350.6 1384.24 L13402.9 1384.24 L13402.9 1384.24 L13350.6 1384.24 L13350.6 1384.24  Z\n",
       "  \" fill=\"#009af9\" fill-rule=\"evenodd\" fill-opacity=\"1\"/>\n",
       "<polyline clip-path=\"url(#clip922)\" style=\"stroke:#000000; stroke-width:4; stroke-opacity:1; fill:none\" points=\"\n",
       "  13350.6,1384.24 13350.6,1384.24 13402.9,1384.24 13350.6,1384.24 \n",
       "  \"/>\n",
       "<path clip-path=\"url(#clip922)\" d=\"\n",
       "M13402.9 1384.24 L13402.9 1384.24 L13455.1 1384.24 L13455.1 1384.24 L13402.9 1384.24 L13402.9 1384.24  Z\n",
       "  \" fill=\"#009af9\" fill-rule=\"evenodd\" fill-opacity=\"1\"/>\n",
       "<polyline clip-path=\"url(#clip922)\" style=\"stroke:#000000; stroke-width:4; stroke-opacity:1; fill:none\" points=\"\n",
       "  13402.9,1384.24 13402.9,1384.24 13455.1,1384.24 13402.9,1384.24 \n",
       "  \"/>\n",
       "<path clip-path=\"url(#clip922)\" d=\"\n",
       "M13455.1 1384.24 L13455.1 1384.24 L13507.4 1384.24 L13507.4 1384.24 L13455.1 1384.24 L13455.1 1384.24  Z\n",
       "  \" fill=\"#009af9\" fill-rule=\"evenodd\" fill-opacity=\"1\"/>\n",
       "<polyline clip-path=\"url(#clip922)\" style=\"stroke:#000000; stroke-width:4; stroke-opacity:1; fill:none\" points=\"\n",
       "  13455.1,1384.24 13455.1,1384.24 13507.4,1384.24 13455.1,1384.24 \n",
       "  \"/>\n",
       "<path clip-path=\"url(#clip922)\" d=\"\n",
       "M13507.4 1384.24 L13507.4 1384.24 L13559.6 1384.24 L13559.6 1384.24 L13507.4 1384.24 L13507.4 1384.24  Z\n",
       "  \" fill=\"#009af9\" fill-rule=\"evenodd\" fill-opacity=\"1\"/>\n",
       "<polyline clip-path=\"url(#clip922)\" style=\"stroke:#000000; stroke-width:4; stroke-opacity:1; fill:none\" points=\"\n",
       "  13507.4,1384.24 13507.4,1384.24 13559.6,1384.24 13507.4,1384.24 \n",
       "  \"/>\n",
       "<path clip-path=\"url(#clip922)\" d=\"\n",
       "M13559.6 1384.24 L13559.6 1384.24 L13611.9 1384.24 L13611.9 1384.24 L13559.6 1384.24 L13559.6 1384.24  Z\n",
       "  \" fill=\"#009af9\" fill-rule=\"evenodd\" fill-opacity=\"1\"/>\n",
       "<polyline clip-path=\"url(#clip922)\" style=\"stroke:#000000; stroke-width:4; stroke-opacity:1; fill:none\" points=\"\n",
       "  13559.6,1384.24 13559.6,1384.24 13611.9,1384.24 13559.6,1384.24 \n",
       "  \"/>\n",
       "<path clip-path=\"url(#clip922)\" d=\"\n",
       "M13611.9 1384.24 L13611.9 1384.24 L13664.1 1384.24 L13664.1 1384.24 L13611.9 1384.24 L13611.9 1384.24  Z\n",
       "  \" fill=\"#009af9\" fill-rule=\"evenodd\" fill-opacity=\"1\"/>\n",
       "<polyline clip-path=\"url(#clip922)\" style=\"stroke:#000000; stroke-width:4; stroke-opacity:1; fill:none\" points=\"\n",
       "  13611.9,1384.24 13611.9,1384.24 13664.1,1384.24 13611.9,1384.24 \n",
       "  \"/>\n",
       "<path clip-path=\"url(#clip922)\" d=\"\n",
       "M13664.1 1384.24 L13664.1 1384.24 L13716.4 1384.24 L13716.4 1384.24 L13664.1 1384.24 L13664.1 1384.24  Z\n",
       "  \" fill=\"#009af9\" fill-rule=\"evenodd\" fill-opacity=\"1\"/>\n",
       "<polyline clip-path=\"url(#clip922)\" style=\"stroke:#000000; stroke-width:4; stroke-opacity:1; fill:none\" points=\"\n",
       "  13664.1,1384.24 13664.1,1384.24 13716.4,1384.24 13664.1,1384.24 \n",
       "  \"/>\n",
       "<path clip-path=\"url(#clip922)\" d=\"\n",
       "M13716.4 1384.24 L13716.4 1384.24 L13768.7 1384.24 L13768.7 1384.24 L13716.4 1384.24 L13716.4 1384.24  Z\n",
       "  \" fill=\"#009af9\" fill-rule=\"evenodd\" fill-opacity=\"1\"/>\n",
       "<polyline clip-path=\"url(#clip922)\" style=\"stroke:#000000; stroke-width:4; stroke-opacity:1; fill:none\" points=\"\n",
       "  13716.4,1384.24 13716.4,1384.24 13768.7,1384.24 13716.4,1384.24 \n",
       "  \"/>\n",
       "<path clip-path=\"url(#clip922)\" d=\"\n",
       "M13768.7 1384.24 L13768.7 1384.24 L13820.9 1384.24 L13820.9 1384.24 L13768.7 1384.24 L13768.7 1384.24  Z\n",
       "  \" fill=\"#009af9\" fill-rule=\"evenodd\" fill-opacity=\"1\"/>\n",
       "<polyline clip-path=\"url(#clip922)\" style=\"stroke:#000000; stroke-width:4; stroke-opacity:1; fill:none\" points=\"\n",
       "  13768.7,1384.24 13768.7,1384.24 13820.9,1384.24 13768.7,1384.24 \n",
       "  \"/>\n",
       "<path clip-path=\"url(#clip922)\" d=\"\n",
       "M13820.9 1384.24 L13820.9 1384.24 L13873.2 1384.24 L13873.2 1384.24 L13820.9 1384.24 L13820.9 1384.24  Z\n",
       "  \" fill=\"#009af9\" fill-rule=\"evenodd\" fill-opacity=\"1\"/>\n",
       "<polyline clip-path=\"url(#clip922)\" style=\"stroke:#000000; stroke-width:4; stroke-opacity:1; fill:none\" points=\"\n",
       "  13820.9,1384.24 13820.9,1384.24 13873.2,1384.24 13820.9,1384.24 \n",
       "  \"/>\n",
       "<path clip-path=\"url(#clip922)\" d=\"\n",
       "M13873.2 1384.24 L13873.2 1384.24 L13925.4 1384.24 L13925.4 1384.24 L13873.2 1384.24 L13873.2 1384.24  Z\n",
       "  \" fill=\"#009af9\" fill-rule=\"evenodd\" fill-opacity=\"1\"/>\n",
       "<polyline clip-path=\"url(#clip922)\" style=\"stroke:#000000; stroke-width:4; stroke-opacity:1; fill:none\" points=\"\n",
       "  13873.2,1384.24 13873.2,1384.24 13925.4,1384.24 13873.2,1384.24 \n",
       "  \"/>\n",
       "<path clip-path=\"url(#clip922)\" d=\"\n",
       "M13925.4 1384.24 L13925.4 1384.24 L13977.7 1384.24 L13977.7 1384.24 L13925.4 1384.24 L13925.4 1384.24  Z\n",
       "  \" fill=\"#009af9\" fill-rule=\"evenodd\" fill-opacity=\"1\"/>\n",
       "<polyline clip-path=\"url(#clip922)\" style=\"stroke:#000000; stroke-width:4; stroke-opacity:1; fill:none\" points=\"\n",
       "  13925.4,1384.24 13925.4,1384.24 13977.7,1384.24 13925.4,1384.24 \n",
       "  \"/>\n",
       "<path clip-path=\"url(#clip922)\" d=\"\n",
       "M13977.7 1384.24 L13977.7 1384.24 L14030 1384.24 L14030 1384.24 L13977.7 1384.24 L13977.7 1384.24  Z\n",
       "  \" fill=\"#009af9\" fill-rule=\"evenodd\" fill-opacity=\"1\"/>\n",
       "<polyline clip-path=\"url(#clip922)\" style=\"stroke:#000000; stroke-width:4; stroke-opacity:1; fill:none\" points=\"\n",
       "  13977.7,1384.24 13977.7,1384.24 14030,1384.24 13977.7,1384.24 \n",
       "  \"/>\n",
       "<path clip-path=\"url(#clip922)\" d=\"\n",
       "M14030 1384.24 L14030 1384.24 L14082.2 1384.24 L14082.2 1384.24 L14030 1384.24 L14030 1384.24  Z\n",
       "  \" fill=\"#009af9\" fill-rule=\"evenodd\" fill-opacity=\"1\"/>\n",
       "<polyline clip-path=\"url(#clip922)\" style=\"stroke:#000000; stroke-width:4; stroke-opacity:1; fill:none\" points=\"\n",
       "  14030,1384.24 14030,1384.24 14082.2,1384.24 14030,1384.24 \n",
       "  \"/>\n",
       "<path clip-path=\"url(#clip922)\" d=\"\n",
       "M14082.2 1384.24 L14082.2 1384.24 L14134.5 1384.24 L14134.5 1384.24 L14082.2 1384.24 L14082.2 1384.24  Z\n",
       "  \" fill=\"#009af9\" fill-rule=\"evenodd\" fill-opacity=\"1\"/>\n",
       "<polyline clip-path=\"url(#clip922)\" style=\"stroke:#000000; stroke-width:4; stroke-opacity:1; fill:none\" points=\"\n",
       "  14082.2,1384.24 14082.2,1384.24 14134.5,1384.24 14082.2,1384.24 \n",
       "  \"/>\n",
       "<path clip-path=\"url(#clip922)\" d=\"\n",
       "M14134.5 1384.24 L14134.5 1384.24 L14186.7 1384.24 L14186.7 1384.24 L14134.5 1384.24 L14134.5 1384.24  Z\n",
       "  \" fill=\"#009af9\" fill-rule=\"evenodd\" fill-opacity=\"1\"/>\n",
       "<polyline clip-path=\"url(#clip922)\" style=\"stroke:#000000; stroke-width:4; stroke-opacity:1; fill:none\" points=\"\n",
       "  14134.5,1384.24 14134.5,1384.24 14186.7,1384.24 14134.5,1384.24 \n",
       "  \"/>\n",
       "<path clip-path=\"url(#clip922)\" d=\"\n",
       "M14186.7 1384.24 L14186.7 1384.24 L14239 1384.24 L14239 1384.24 L14186.7 1384.24 L14186.7 1384.24  Z\n",
       "  \" fill=\"#009af9\" fill-rule=\"evenodd\" fill-opacity=\"1\"/>\n",
       "<polyline clip-path=\"url(#clip922)\" style=\"stroke:#000000; stroke-width:4; stroke-opacity:1; fill:none\" points=\"\n",
       "  14186.7,1384.24 14186.7,1384.24 14239,1384.24 14186.7,1384.24 \n",
       "  \"/>\n",
       "<path clip-path=\"url(#clip922)\" d=\"\n",
       "M14239 1351.79 L14239 1384.24 L14291.3 1384.24 L14291.3 1351.79 L14239 1351.79 L14239 1351.79  Z\n",
       "  \" fill=\"#009af9\" fill-rule=\"evenodd\" fill-opacity=\"1\"/>\n",
       "<polyline clip-path=\"url(#clip922)\" style=\"stroke:#000000; stroke-width:4; stroke-opacity:1; fill:none\" points=\"\n",
       "  14239,1351.79 14239,1384.24 14291.3,1384.24 14291.3,1351.79 14239,1351.79 \n",
       "  \"/>\n",
       "</svg>\n"
      ]
     },
     "execution_count": 169,
     "metadata": {},
     "output_type": "execute_result"
    }
   ],
   "source": [
    "histogram(t, bins=500,\n",
    "    xlim=(m - 0.01, m + σ),\n",
    "    xlabel=\"milliseconds\", ylabel=\"count\", label=\"\")"
   ]
  },
  {
   "cell_type": "code",
   "execution_count": null,
   "metadata": {},
   "outputs": [],
   "source": []
  },
  {
   "cell_type": "code",
   "execution_count": null,
   "metadata": {},
   "outputs": [],
   "source": []
  },
  {
   "cell_type": "markdown",
   "metadata": {},
   "source": [
    "### 2.  Python Program Built-In"
   ]
  },
  {
   "cell_type": "code",
   "execution_count": 170,
   "metadata": {},
   "outputs": [
    {
     "name": "stderr",
     "output_type": "stream",
     "text": [
      "\u001b[32m\u001b[1m   Resolving\u001b[22m\u001b[39m package versions...\n",
      "\u001b[32m\u001b[1m  No Changes\u001b[22m\u001b[39m to `~/.julia/environments/v1.6/Project.toml`\n",
      "\u001b[32m\u001b[1m  No Changes\u001b[22m\u001b[39m to `~/.julia/environments/v1.6/Manifest.toml`\n"
     ]
    }
   ],
   "source": [
    "using Pkg\n",
    "Pkg.add(\"PyCall\")"
   ]
  },
  {
   "cell_type": "code",
   "execution_count": 171,
   "metadata": {},
   "outputs": [],
   "source": [
    "using PyCall"
   ]
  },
  {
   "cell_type": "code",
   "execution_count": 172,
   "metadata": {},
   "outputs": [
    {
     "data": {
      "text/plain": [
       "PyObject <built-in function sum>"
      ]
     },
     "execution_count": 172,
     "metadata": {},
     "output_type": "execute_result"
    }
   ],
   "source": [
    "py_sum = pybuiltin(\"sum\")"
   ]
  },
  {
   "cell_type": "code",
   "execution_count": 173,
   "metadata": {},
   "outputs": [
    {
     "data": {
      "text/plain": [
       "4.999993097176691e6"
      ]
     },
     "execution_count": 173,
     "metadata": {},
     "output_type": "execute_result"
    }
   ],
   "source": [
    "py_sum(A)"
   ]
  },
  {
   "cell_type": "code",
   "execution_count": 174,
   "metadata": {},
   "outputs": [
    {
     "data": {
      "text/plain": [
       "true"
      ]
     },
     "execution_count": 174,
     "metadata": {},
     "output_type": "execute_result"
    }
   ],
   "source": [
    "isapprox(py_sum(A),sum(A))\n",
    "# To check is the sum from original and python is closeby"
   ]
  },
  {
   "cell_type": "code",
   "execution_count": 175,
   "metadata": {},
   "outputs": [
    {
     "data": {
      "text/plain": [
       "BenchmarkTools.Trial: \n",
       "  memory estimate:  336 bytes\n",
       "  allocs estimate:  6\n",
       "  --------------\n",
       "  minimum time:     578.941 ms (0.00% GC)\n",
       "  median time:      580.468 ms (0.00% GC)\n",
       "  mean time:        581.967 ms (0.00% GC)\n",
       "  maximum time:     590.269 ms (0.00% GC)\n",
       "  --------------\n",
       "  samples:          9\n",
       "  evals/sample:     1"
      ]
     },
     "execution_count": 175,
     "metadata": {},
     "output_type": "execute_result"
    }
   ],
   "source": [
    "py_benchmark = @benchmark py_sum($A)"
   ]
  },
  {
   "cell_type": "code",
   "execution_count": 176,
   "metadata": {},
   "outputs": [],
   "source": [
    "# Add that to our Dict"
   ]
  },
  {
   "cell_type": "code",
   "execution_count": 177,
   "metadata": {},
   "outputs": [
    {
     "data": {
      "text/plain": [
       "Dict{Any, Any} with 2 entries:\n",
       "  \"C\"           => 10.2523\n",
       "  \"Py Built-in\" => 578.941"
      ]
     },
     "execution_count": 177,
     "metadata": {},
     "output_type": "execute_result"
    }
   ],
   "source": [
    "compare[\"Py Built-in\"] = (minimum(py_benchmark.times) / 1e6)\n",
    "compare"
   ]
  },
  {
   "cell_type": "markdown",
   "metadata": {},
   "source": [
    "### 2.  Python Program Numpy"
   ]
  },
  {
   "cell_type": "code",
   "execution_count": 178,
   "metadata": {},
   "outputs": [
    {
     "name": "stderr",
     "output_type": "stream",
     "text": [
      "┌ Info: Running `conda install -y numpy` in root environment\n",
      "└ @ Conda /home/buzzzer/.julia/packages/Conda/tJJuN/src/Conda.jl:128\n"
     ]
    },
    {
     "name": "stdout",
     "output_type": "stream",
     "text": [
      "Collecting package metadata (current_repodata.json): ...working... done\n",
      "Solving environment: ...working... done\n",
      "\n",
      "# All requested packages already installed.\n",
      "\n"
     ]
    }
   ],
   "source": [
    "using Conda\n",
    "Conda.add(\"numpy\")"
   ]
  },
  {
   "cell_type": "code",
   "execution_count": 179,
   "metadata": {},
   "outputs": [
    {
     "data": {
      "text/plain": [
       "PyObject <function sum at 0x7fc9adf0e160>"
      ]
     },
     "execution_count": 179,
     "metadata": {},
     "output_type": "execute_result"
    }
   ],
   "source": [
    "numpy_sum =  pyimport(\"numpy\")[\"sum\"]"
   ]
  },
  {
   "cell_type": "code",
   "execution_count": 180,
   "metadata": {},
   "outputs": [
    {
     "data": {
      "text/plain": [
       "4.999993097176205e6"
      ]
     },
     "execution_count": 180,
     "metadata": {},
     "output_type": "execute_result"
    }
   ],
   "source": [
    "numpy_sum(A)"
   ]
  },
  {
   "cell_type": "code",
   "execution_count": 181,
   "metadata": {},
   "outputs": [
    {
     "data": {
      "text/plain": [
       "true"
      ]
     },
     "execution_count": 181,
     "metadata": {},
     "output_type": "execute_result"
    }
   ],
   "source": [
    "isapprox(numpy_sum(A),sum(A))\n",
    "# To check is the sum from original and numpy is closeby"
   ]
  },
  {
   "cell_type": "code",
   "execution_count": 182,
   "metadata": {},
   "outputs": [
    {
     "data": {
      "text/plain": [
       "BenchmarkTools.Trial: \n",
       "  memory estimate:  336 bytes\n",
       "  allocs estimate:  6\n",
       "  --------------\n",
       "  minimum time:     5.076 ms (0.00% GC)\n",
       "  median time:      5.199 ms (0.00% GC)\n",
       "  mean time:        5.394 ms (0.00% GC)\n",
       "  maximum time:     8.999 ms (0.00% GC)\n",
       "  --------------\n",
       "  samples:          925\n",
       "  evals/sample:     1"
      ]
     },
     "execution_count": 182,
     "metadata": {},
     "output_type": "execute_result"
    }
   ],
   "source": [
    "numpy_benchmark = @benchmark numpy_sum($A)"
   ]
  },
  {
   "cell_type": "code",
   "execution_count": 183,
   "metadata": {},
   "outputs": [],
   "source": [
    "# Add that to our Dict"
   ]
  },
  {
   "cell_type": "code",
   "execution_count": 184,
   "metadata": {},
   "outputs": [
    {
     "data": {
      "text/plain": [
       "Dict{Any, Any} with 3 entries:\n",
       "  \"C\"           => 10.2523\n",
       "  \"Py Numpy\"    => 5.0756\n",
       "  \"Py Built-in\" => 578.941"
      ]
     },
     "execution_count": 184,
     "metadata": {},
     "output_type": "execute_result"
    }
   ],
   "source": [
    "compare[\"Py Numpy\"] = (minimum(numpy_benchmark.times) / 1e6)\n",
    "compare"
   ]
  },
  {
   "cell_type": "markdown",
   "metadata": {},
   "source": [
    "### 2.  Python Program User Defined"
   ]
  },
  {
   "cell_type": "code",
   "execution_count": 185,
   "metadata": {},
   "outputs": [],
   "source": [
    "py\"\"\"\n",
    "def mysum(A):\n",
    "    total = 0\n",
    "    for n in A:\n",
    "        total += n\n",
    "    return total\n",
    "\"\"\""
   ]
  },
  {
   "cell_type": "code",
   "execution_count": 186,
   "metadata": {},
   "outputs": [
    {
     "data": {
      "text/plain": [
       "PyObject <function mysum at 0x7fc9ae903430>"
      ]
     },
     "execution_count": 186,
     "metadata": {},
     "output_type": "execute_result"
    }
   ],
   "source": [
    "user_sum = py\"mysum\""
   ]
  },
  {
   "cell_type": "code",
   "execution_count": 187,
   "metadata": {},
   "outputs": [
    {
     "data": {
      "text/plain": [
       "4.999993097176691e6"
      ]
     },
     "execution_count": 187,
     "metadata": {},
     "output_type": "execute_result"
    }
   ],
   "source": [
    "user_sum(A)"
   ]
  },
  {
   "cell_type": "code",
   "execution_count": 188,
   "metadata": {},
   "outputs": [
    {
     "data": {
      "text/plain": [
       "true"
      ]
     },
     "execution_count": 188,
     "metadata": {},
     "output_type": "execute_result"
    }
   ],
   "source": [
    "isapprox(user_sum(A),sum(A))"
   ]
  },
  {
   "cell_type": "code",
   "execution_count": 189,
   "metadata": {},
   "outputs": [
    {
     "data": {
      "text/plain": [
       "BenchmarkTools.Trial: \n",
       "  memory estimate:  336 bytes\n",
       "  allocs estimate:  6\n",
       "  --------------\n",
       "  minimum time:     662.182 ms (0.00% GC)\n",
       "  median time:      679.084 ms (0.00% GC)\n",
       "  mean time:        683.458 ms (0.00% GC)\n",
       "  maximum time:     738.548 ms (0.00% GC)\n",
       "  --------------\n",
       "  samples:          8\n",
       "  evals/sample:     1"
      ]
     },
     "execution_count": 189,
     "metadata": {},
     "output_type": "execute_result"
    }
   ],
   "source": [
    "pyuser_benchmark = @benchmark user_sum($A)"
   ]
  },
  {
   "cell_type": "code",
   "execution_count": 190,
   "metadata": {},
   "outputs": [
    {
     "data": {
      "text/plain": [
       "Dict{Any, Any} with 4 entries:\n",
       "  \"Py User Def\" => 662.182\n",
       "  \"C\"           => 10.2523\n",
       "  \"Py Numpy\"    => 5.0756\n",
       "  \"Py Built-in\" => 578.941"
      ]
     },
     "execution_count": 190,
     "metadata": {},
     "output_type": "execute_result"
    }
   ],
   "source": [
    "compare[\"Py User Def\"] = (minimum(pyuser_benchmark.times) / 1e6)\n",
    "compare"
   ]
  },
  {
   "cell_type": "markdown",
   "metadata": {},
   "source": [
    "### 3. Julia Inbuilt Function"
   ]
  },
  {
   "cell_type": "code",
   "execution_count": 191,
   "metadata": {},
   "outputs": [
    {
     "data": {
      "text/html": [
       "sum(a::<b>AbstractArray</b>; <i>dims, kw...</i>) in Base at <a href=\"https://github.com/JuliaLang/julia/tree/f9720dc2ebd6cd9e3086365f281e62506444ef37/base/reducedim.jl#L873\" target=\"_blank\">reducedim.jl:873</a>"
      ],
      "text/plain": [
       "sum(a::AbstractArray; dims, kw...) in Base at reducedim.jl:873"
      ]
     },
     "execution_count": 191,
     "metadata": {},
     "output_type": "execute_result"
    }
   ],
   "source": [
    "@which sum(A)"
   ]
  },
  {
   "cell_type": "code",
   "execution_count": 192,
   "metadata": {},
   "outputs": [
    {
     "data": {
      "text/plain": [
       "BenchmarkTools.Trial: \n",
       "  memory estimate:  0 bytes\n",
       "  allocs estimate:  0\n",
       "  --------------\n",
       "  minimum time:     4.876 ms (0.00% GC)\n",
       "  median time:      5.031 ms (0.00% GC)\n",
       "  mean time:        5.224 ms (0.00% GC)\n",
       "  maximum time:     9.483 ms (0.00% GC)\n",
       "  --------------\n",
       "  samples:          955\n",
       "  evals/sample:     1"
      ]
     },
     "execution_count": 192,
     "metadata": {},
     "output_type": "execute_result"
    }
   ],
   "source": [
    "julia_benchmark = @benchmark sum($A)"
   ]
  },
  {
   "cell_type": "code",
   "execution_count": 193,
   "metadata": {},
   "outputs": [
    {
     "data": {
      "text/plain": [
       "Dict{Any, Any} with 5 entries:\n",
       "  \"Py User Def\"   => 662.182\n",
       "  \"C\"             => 10.2523\n",
       "  \"Py Numpy\"      => 5.0756\n",
       "  \"Julia Inbuilt\" => 4.87554\n",
       "  \"Py Built-in\"   => 578.941"
      ]
     },
     "execution_count": 193,
     "metadata": {},
     "output_type": "execute_result"
    }
   ],
   "source": [
    "compare[\"Julia Inbuilt\"] = (minimum(julia_benchmark.times) / 1e6)\n",
    "compare"
   ]
  },
  {
   "cell_type": "code",
   "execution_count": 194,
   "metadata": {},
   "outputs": [],
   "source": [
    "### 3. Julia USer Defined"
   ]
  },
  {
   "cell_type": "code",
   "execution_count": 195,
   "metadata": {},
   "outputs": [
    {
     "data": {
      "text/plain": [
       "my_sum (generic function with 1 method)"
      ]
     },
     "execution_count": 195,
     "metadata": {},
     "output_type": "execute_result"
    }
   ],
   "source": [
    "function my_sum(num)\n",
    "    t = 0\n",
    "    for n in num\n",
    "        t += n\n",
    "    end\n",
    "    t\n",
    "end"
   ]
  },
  {
   "cell_type": "code",
   "execution_count": 196,
   "metadata": {},
   "outputs": [
    {
     "data": {
      "text/plain": [
       "4.999993097176691e6"
      ]
     },
     "execution_count": 196,
     "metadata": {},
     "output_type": "execute_result"
    }
   ],
   "source": [
    "my_sum(A)"
   ]
  },
  {
   "cell_type": "code",
   "execution_count": 197,
   "metadata": {},
   "outputs": [
    {
     "data": {
      "text/plain": [
       "BenchmarkTools.Trial: \n",
       "  memory estimate:  0 bytes\n",
       "  allocs estimate:  0\n",
       "  --------------\n",
       "  minimum time:     19.955 ms (0.00% GC)\n",
       "  median time:      20.082 ms (0.00% GC)\n",
       "  mean time:        20.462 ms (0.00% GC)\n",
       "  maximum time:     22.576 ms (0.00% GC)\n",
       "  --------------\n",
       "  samples:          245\n",
       "  evals/sample:     1"
      ]
     },
     "execution_count": 197,
     "metadata": {},
     "output_type": "execute_result"
    }
   ],
   "source": [
    "julia_user_benchmark = @benchmark my_sum($A)"
   ]
  },
  {
   "cell_type": "code",
   "execution_count": 198,
   "metadata": {},
   "outputs": [
    {
     "data": {
      "text/plain": [
       "Dict{Any, Any} with 6 entries:\n",
       "  \"Py User Def\"    => 662.182\n",
       "  \"C\"              => 10.2523\n",
       "  \"Julia User Def\" => 19.9553\n",
       "  \"Py Numpy\"       => 5.0756\n",
       "  \"Julia Inbuilt\"  => 4.87554\n",
       "  \"Py Built-in\"    => 578.941"
      ]
     },
     "execution_count": 198,
     "metadata": {},
     "output_type": "execute_result"
    }
   ],
   "source": [
    "compare[\"Julia User Def\"] = (minimum(julia_user_benchmark.times) / 1e6)\n",
    "compare"
   ]
  },
  {
   "cell_type": "markdown",
   "metadata": {},
   "source": [
    "## Summary of all these test"
   ]
  },
  {
   "cell_type": "code",
   "execution_count": 199,
   "metadata": {},
   "outputs": [
    {
     "name": "stdout",
     "output_type": "stream",
     "text": [
      "Julia Inbuilt...............4.9\n",
      "Py Numpy....................5.1\n",
      "C..........................10.3\n",
      "Julia User Def.............20.0\n",
      "Py Built-in...............578.9\n",
      "Py User Def...............662.2\n"
     ]
    }
   ],
   "source": [
    "for (key,value) in sort(collect(compare), by=last)\n",
    "    println(rpad(key, 25, \".\"), lpad(round(value; digits=1), 6, \".\"))\n",
    "end"
   ]
  },
  {
   "cell_type": "code",
   "execution_count": 200,
   "metadata": {},
   "outputs": [],
   "source": [
    "# Here we can see how fast Julia is compare to other methods and functions"
   ]
  },
  {
   "cell_type": "code",
   "execution_count": null,
   "metadata": {},
   "outputs": [],
   "source": []
  }
 ],
 "metadata": {
  "kernelspec": {
   "display_name": "Julia 1.6.0",
   "language": "julia",
   "name": "julia-1.6"
  },
  "language_info": {
   "file_extension": ".jl",
   "mimetype": "application/julia",
   "name": "julia",
   "version": "1.6.0"
  }
 },
 "nbformat": 4,
 "nbformat_minor": 4
}
